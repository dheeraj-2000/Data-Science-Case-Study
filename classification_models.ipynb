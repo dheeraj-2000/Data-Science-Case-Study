{
 "cells": [
  {
   "cell_type": "markdown",
   "id": "caring-marathon",
   "metadata": {},
   "source": [
    "# Automation on Classification taskss"
   ]
  },
  {
   "cell_type": "code",
   "execution_count": 1,
   "id": "aggregate-printer",
   "metadata": {},
   "outputs": [],
   "source": [
    "# libraries\n",
    "import pandas as pd\n",
    "import numpy as np\n",
    "import matplotlib.pyplot as plt\n",
    "%matplotlib inline\n",
    "import seaborn as sns\n",
    "from sklearn.model_selection import train_test_split, RandomizedSearchCV, GridSearchCV, RepeatedStratifiedKFold , KFold\n",
    "from sklearn.linear_model import LogisticRegression, RidgeClassifier\n",
    "import sklearn.metrics as metrics\n",
    "from sklearn.metrics import confusion_matrix\n",
    "from sklearn.metrics import f1_score,plot_confusion_matrix,classification_report,confusion_matrix,accuracy_score,plot_roc_curve,roc_curve,plot_precision_recall_curve,precision_score,recall_score,roc_auc_score,log_loss\n",
    "from sklearn.neighbors import KNeighborsClassifier\n",
    "from sklearn.ensemble import RandomForestClassifier, GradientBoostingClassifier\n",
    "from xgboost.sklearn import XGBClassifier\n",
    "from sklearn.svm import SVC\n",
    "from pprint import pprint"
   ]
  },
  {
   "cell_type": "code",
   "execution_count": 2,
   "id": "acute-facial",
   "metadata": {},
   "outputs": [],
   "source": [
    "df = pd.read_csv(r\"C:\\Users\\dhchaudhary\\Downloads\\for_automation.csv\")"
   ]
  },
  {
   "cell_type": "code",
   "execution_count": 3,
   "id": "hired-amplifier",
   "metadata": {},
   "outputs": [
    {
     "name": "stdout",
     "output_type": "stream",
     "text": [
      "(5000, 21)\n"
     ]
    },
    {
     "data": {
      "text/html": [
       "<div>\n",
       "<style scoped>\n",
       "    .dataframe tbody tr th:only-of-type {\n",
       "        vertical-align: middle;\n",
       "    }\n",
       "\n",
       "    .dataframe tbody tr th {\n",
       "        vertical-align: top;\n",
       "    }\n",
       "\n",
       "    .dataframe thead th {\n",
       "        text-align: right;\n",
       "    }\n",
       "</style>\n",
       "<table border=\"1\" class=\"dataframe\">\n",
       "  <thead>\n",
       "    <tr style=\"text-align: right;\">\n",
       "      <th></th>\n",
       "      <th>event_name_af_login_D_3</th>\n",
       "      <th>event_name_install_D_7</th>\n",
       "      <th>event_name_af_complete_registration_D_3</th>\n",
       "      <th>event_name_af_complete_registration_D_0</th>\n",
       "      <th>event_name_af_complete_registration_D_1</th>\n",
       "      <th>conversion_type_re_engagement</th>\n",
       "      <th>event_name_af_complete_registration_D_2</th>\n",
       "      <th>event_name_af_remove_product_from_cart_D_2</th>\n",
       "      <th>event_name_af_remove_product_from_cart_D_0</th>\n",
       "      <th>event_name_af_content_view_D_7</th>\n",
       "      <th>...</th>\n",
       "      <th>event_name_af_content_view_D_5</th>\n",
       "      <th>event_name_af_share_D_0</th>\n",
       "      <th>event_name_af_cancellation_D_5</th>\n",
       "      <th>event_name_af_search_D_5</th>\n",
       "      <th>event_name_af_remove_product_from_cart_D_1</th>\n",
       "      <th>event_name_af_list_view_D_7</th>\n",
       "      <th>event_name_af_content_view_D_0</th>\n",
       "      <th>event_name_af_cancellation_D_6</th>\n",
       "      <th>event_name_af_list_view_D_4</th>\n",
       "      <th>P30</th>\n",
       "    </tr>\n",
       "  </thead>\n",
       "  <tbody>\n",
       "    <tr>\n",
       "      <th>0</th>\n",
       "      <td>0</td>\n",
       "      <td>0</td>\n",
       "      <td>0</td>\n",
       "      <td>0</td>\n",
       "      <td>0</td>\n",
       "      <td>1</td>\n",
       "      <td>0</td>\n",
       "      <td>0</td>\n",
       "      <td>0</td>\n",
       "      <td>0</td>\n",
       "      <td>...</td>\n",
       "      <td>0</td>\n",
       "      <td>0</td>\n",
       "      <td>0</td>\n",
       "      <td>0</td>\n",
       "      <td>0</td>\n",
       "      <td>0</td>\n",
       "      <td>0</td>\n",
       "      <td>0</td>\n",
       "      <td>0</td>\n",
       "      <td>0</td>\n",
       "    </tr>\n",
       "    <tr>\n",
       "      <th>1</th>\n",
       "      <td>1</td>\n",
       "      <td>0</td>\n",
       "      <td>0</td>\n",
       "      <td>0</td>\n",
       "      <td>0</td>\n",
       "      <td>0</td>\n",
       "      <td>0</td>\n",
       "      <td>0</td>\n",
       "      <td>0</td>\n",
       "      <td>0</td>\n",
       "      <td>...</td>\n",
       "      <td>0</td>\n",
       "      <td>0</td>\n",
       "      <td>0</td>\n",
       "      <td>0</td>\n",
       "      <td>0</td>\n",
       "      <td>0</td>\n",
       "      <td>0</td>\n",
       "      <td>0</td>\n",
       "      <td>0</td>\n",
       "      <td>0</td>\n",
       "    </tr>\n",
       "    <tr>\n",
       "      <th>2</th>\n",
       "      <td>1</td>\n",
       "      <td>0</td>\n",
       "      <td>0</td>\n",
       "      <td>0</td>\n",
       "      <td>0</td>\n",
       "      <td>1</td>\n",
       "      <td>0</td>\n",
       "      <td>0</td>\n",
       "      <td>0</td>\n",
       "      <td>0</td>\n",
       "      <td>...</td>\n",
       "      <td>0</td>\n",
       "      <td>0</td>\n",
       "      <td>0</td>\n",
       "      <td>0</td>\n",
       "      <td>0</td>\n",
       "      <td>0</td>\n",
       "      <td>0</td>\n",
       "      <td>0</td>\n",
       "      <td>0</td>\n",
       "      <td>1</td>\n",
       "    </tr>\n",
       "    <tr>\n",
       "      <th>3</th>\n",
       "      <td>0</td>\n",
       "      <td>1</td>\n",
       "      <td>0</td>\n",
       "      <td>0</td>\n",
       "      <td>0</td>\n",
       "      <td>1</td>\n",
       "      <td>0</td>\n",
       "      <td>0</td>\n",
       "      <td>0</td>\n",
       "      <td>0</td>\n",
       "      <td>...</td>\n",
       "      <td>0</td>\n",
       "      <td>0</td>\n",
       "      <td>0</td>\n",
       "      <td>0</td>\n",
       "      <td>0</td>\n",
       "      <td>0</td>\n",
       "      <td>0</td>\n",
       "      <td>0</td>\n",
       "      <td>0</td>\n",
       "      <td>0</td>\n",
       "    </tr>\n",
       "    <tr>\n",
       "      <th>4</th>\n",
       "      <td>0</td>\n",
       "      <td>0</td>\n",
       "      <td>0</td>\n",
       "      <td>0</td>\n",
       "      <td>0</td>\n",
       "      <td>1</td>\n",
       "      <td>0</td>\n",
       "      <td>0</td>\n",
       "      <td>0</td>\n",
       "      <td>0</td>\n",
       "      <td>...</td>\n",
       "      <td>0</td>\n",
       "      <td>0</td>\n",
       "      <td>0</td>\n",
       "      <td>0</td>\n",
       "      <td>0</td>\n",
       "      <td>0</td>\n",
       "      <td>0</td>\n",
       "      <td>0</td>\n",
       "      <td>0</td>\n",
       "      <td>0</td>\n",
       "    </tr>\n",
       "  </tbody>\n",
       "</table>\n",
       "<p>5 rows × 21 columns</p>\n",
       "</div>"
      ],
      "text/plain": [
       "   event_name_af_login_D_3  event_name_install_D_7  \\\n",
       "0                        0                       0   \n",
       "1                        1                       0   \n",
       "2                        1                       0   \n",
       "3                        0                       1   \n",
       "4                        0                       0   \n",
       "\n",
       "   event_name_af_complete_registration_D_3  \\\n",
       "0                                        0   \n",
       "1                                        0   \n",
       "2                                        0   \n",
       "3                                        0   \n",
       "4                                        0   \n",
       "\n",
       "   event_name_af_complete_registration_D_0  \\\n",
       "0                                        0   \n",
       "1                                        0   \n",
       "2                                        0   \n",
       "3                                        0   \n",
       "4                                        0   \n",
       "\n",
       "   event_name_af_complete_registration_D_1  conversion_type_re_engagement  \\\n",
       "0                                        0                              1   \n",
       "1                                        0                              0   \n",
       "2                                        0                              1   \n",
       "3                                        0                              1   \n",
       "4                                        0                              1   \n",
       "\n",
       "   event_name_af_complete_registration_D_2  \\\n",
       "0                                        0   \n",
       "1                                        0   \n",
       "2                                        0   \n",
       "3                                        0   \n",
       "4                                        0   \n",
       "\n",
       "   event_name_af_remove_product_from_cart_D_2  \\\n",
       "0                                           0   \n",
       "1                                           0   \n",
       "2                                           0   \n",
       "3                                           0   \n",
       "4                                           0   \n",
       "\n",
       "   event_name_af_remove_product_from_cart_D_0  event_name_af_content_view_D_7  \\\n",
       "0                                           0                               0   \n",
       "1                                           0                               0   \n",
       "2                                           0                               0   \n",
       "3                                           0                               0   \n",
       "4                                           0                               0   \n",
       "\n",
       "   ...  event_name_af_content_view_D_5  event_name_af_share_D_0  \\\n",
       "0  ...                               0                        0   \n",
       "1  ...                               0                        0   \n",
       "2  ...                               0                        0   \n",
       "3  ...                               0                        0   \n",
       "4  ...                               0                        0   \n",
       "\n",
       "   event_name_af_cancellation_D_5  event_name_af_search_D_5  \\\n",
       "0                               0                         0   \n",
       "1                               0                         0   \n",
       "2                               0                         0   \n",
       "3                               0                         0   \n",
       "4                               0                         0   \n",
       "\n",
       "   event_name_af_remove_product_from_cart_D_1  event_name_af_list_view_D_7  \\\n",
       "0                                           0                            0   \n",
       "1                                           0                            0   \n",
       "2                                           0                            0   \n",
       "3                                           0                            0   \n",
       "4                                           0                            0   \n",
       "\n",
       "   event_name_af_content_view_D_0  event_name_af_cancellation_D_6  \\\n",
       "0                               0                               0   \n",
       "1                               0                               0   \n",
       "2                               0                               0   \n",
       "3                               0                               0   \n",
       "4                               0                               0   \n",
       "\n",
       "   event_name_af_list_view_D_4  P30  \n",
       "0                            0    0  \n",
       "1                            0    0  \n",
       "2                            0    1  \n",
       "3                            0    0  \n",
       "4                            0    0  \n",
       "\n",
       "[5 rows x 21 columns]"
      ]
     },
     "execution_count": 3,
     "metadata": {},
     "output_type": "execute_result"
    }
   ],
   "source": [
    "print(df.shape)\n",
    "df.head()"
   ]
  },
  {
   "cell_type": "code",
   "execution_count": 4,
   "id": "invisible-suffering",
   "metadata": {},
   "outputs": [],
   "source": [
    "y = df.P30"
   ]
  },
  {
   "cell_type": "code",
   "execution_count": 5,
   "id": "prime-sleeping",
   "metadata": {},
   "outputs": [
    {
     "data": {
      "text/plain": [
       "0    4791\n",
       "1     209\n",
       "Name: P30, dtype: int64"
      ]
     },
     "execution_count": 5,
     "metadata": {},
     "output_type": "execute_result"
    }
   ],
   "source": [
    "y.value_counts()"
   ]
  },
  {
   "cell_type": "code",
   "execution_count": 6,
   "id": "experienced-coverage",
   "metadata": {},
   "outputs": [],
   "source": [
    "x = df.drop(['P30'], axis =1)"
   ]
  },
  {
   "cell_type": "code",
   "execution_count": 7,
   "id": "stunning-somalia",
   "metadata": {},
   "outputs": [
    {
     "data": {
      "text/plain": [
       "(5000, 20)"
      ]
     },
     "execution_count": 7,
     "metadata": {},
     "output_type": "execute_result"
    }
   ],
   "source": [
    "x.shape"
   ]
  },
  {
   "cell_type": "code",
   "execution_count": 8,
   "id": "banner-illness",
   "metadata": {},
   "outputs": [],
   "source": [
    "x_train, x_test, y_train, y_test = train_test_split(x, y, test_size=0.3, random_state=0)"
   ]
  },
  {
   "cell_type": "code",
   "execution_count": 9,
   "id": "legislative-diabetes",
   "metadata": {},
   "outputs": [
    {
     "data": {
      "text/plain": [
       "0    1443\n",
       "1      57\n",
       "Name: P30, dtype: int64"
      ]
     },
     "execution_count": 9,
     "metadata": {},
     "output_type": "execute_result"
    }
   ],
   "source": [
    "y_test.value_counts()"
   ]
  },
  {
   "cell_type": "markdown",
   "id": "initial-fleet",
   "metadata": {},
   "source": [
    "## Logistic Reg"
   ]
  },
  {
   "cell_type": "code",
   "execution_count": 10,
   "id": "alien-dakota",
   "metadata": {},
   "outputs": [
    {
     "name": "stdout",
     "output_type": "stream",
     "text": [
      "Test Accuracy:  0.9653333333333334\n",
      "Precision:  1.0\n",
      "Recall:  0.08771929824561403\n",
      "F1-Score:  0.16129032258064516\n",
      "Sensitivity:  0.08771929824561403\n",
      "Specificity:  1.0\n",
      "ROC-AUC Score:  0.543859649122807\n",
      "Log Loss:  1.1973442483569046\n"
     ]
    },
    {
     "data": {
      "text/plain": [
       "<sklearn.metrics._plot.confusion_matrix.ConfusionMatrixDisplay at 0x286c8046310>"
      ]
     },
     "execution_count": 10,
     "metadata": {},
     "output_type": "execute_result"
    },
    {
     "data": {
      "image/png": "[encoded data removed]",
      "text/plain": [
       "<Figure size 432x288 with 2 Axes>"
      ]
     },
     "metadata": {
      "needs_background": "light"
     },
     "output_type": "display_data"
    }
   ],
   "source": [
    "logreg = LogisticRegression()\n",
    "logreg.fit(x_train, y_train)\n",
    "prediction_logreg = logreg.predict(x_test)\n",
    "\n",
    "conf_matrix = confusion_matrix(y_test, prediction_logreg)\n",
    "TP = conf_matrix[1][1]\n",
    "TN = conf_matrix[0][0]\n",
    "FP = conf_matrix[0][1]\n",
    "FN = conf_matrix[1][0]\n",
    "\n",
    "#Results\n",
    "log_accuracy = accuracy_score(y_test,prediction_logreg)\n",
    "log_precision = precision_score(y_test,prediction_logreg)\n",
    "log_recall = recall_score(y_test,prediction_logreg)\n",
    "log_f1_score = f1_score(y_test,prediction_logreg)\n",
    "log_sensitivity = TP / float(TP+FN)\n",
    "log_specificity = TN / float(TN+FP)\n",
    "log_roc_auc_score = roc_auc_score(y_test,prediction_logreg) \n",
    "log_log_loss = log_loss(y_test,prediction_logreg) \n",
    "print(\"Test Accuracy: \",accuracy_score(y_test,prediction_logreg))\n",
    "print(\"Precision: \",precision_score(y_test,prediction_logreg))\n",
    "print(\"Recall: \",recall_score(y_test,prediction_logreg))\n",
    "print(\"F1-Score: \",f1_score(y_test,prediction_logreg))\n",
    "print(\"Sensitivity: \",TP / float(TP+FN))\n",
    "print(\"Specificity: \",TN / float(TN+FP))\n",
    "print(\"ROC-AUC Score: \",roc_auc_score(y_test,prediction_logreg))\n",
    "print(\"Log Loss: \",log_loss(y_test,prediction_logreg))\n",
    "plot_confusion_matrix(logreg,x_test,y_test,cmap=plt.cm.Blues)\n",
    "# plot_roc_curve(logreg,x_test,y_test)\n",
    "# plot_precision_recall_curve(logreg,x_test,y_test)"
   ]
  },
  {
   "cell_type": "markdown",
   "id": "tracked-complaint",
   "metadata": {},
   "source": [
    "### Tuned Logreg"
   ]
  },
  {
   "cell_type": "code",
   "execution_count": 11,
   "id": "toxic-shift",
   "metadata": {},
   "outputs": [
    {
     "name": "stdout",
     "output_type": "stream",
     "text": [
      "Best: 0.960067 using {'C': 10, 'penalty': 'l2', 'solver': 'newton-cg'}\n"
     ]
    }
   ],
   "source": [
    "model = LogisticRegression()\n",
    "solvers = ['newton-cg', 'lbfgs', 'liblinear']\n",
    "penalty = ['l2']\n",
    "c_values = [100, 10, 1.0, 0.1, 0.01]\n",
    "# define grid search\n",
    "grid = dict(solver=solvers,penalty=penalty,C=c_values)\n",
    "cv = RepeatedStratifiedKFold(n_splits=10, n_repeats=3, random_state=1)\n",
    "grid_search = GridSearchCV(estimator=model, param_grid=grid, n_jobs=-1, cv=cv, scoring='accuracy',error_score=0)\n",
    "grid_result = grid_search.fit(x, y)\n",
    "# summarize results\n",
    "print(\"Best: %f using %s\" % (grid_result.best_score_, grid_result.best_params_))\n",
    "# means = grid_result.cv_results_['mean_test_score']\n",
    "# stds = grid_result.cv_results_['std_test_score']\n",
    "# params = grid_result.cv_results_['params']\n",
    "# for mean, stdev, param in zip(means, stds, params):\n",
    "#     print(\"%f (%f) with: %r\" % (mean, stdev, param))"
   ]
  },
  {
   "cell_type": "code",
   "execution_count": 12,
   "id": "spiritual-value",
   "metadata": {},
   "outputs": [
    {
     "data": {
      "text/plain": [
       "LogisticRegression(C=10, solver='newton-cg')"
      ]
     },
     "execution_count": 12,
     "metadata": {},
     "output_type": "execute_result"
    }
   ],
   "source": [
    "grid_result.best_estimator_"
   ]
  },
  {
   "cell_type": "code",
   "execution_count": 13,
   "id": "parallel-bahamas",
   "metadata": {},
   "outputs": [
    {
     "name": "stdout",
     "output_type": "stream",
     "text": [
      "Test Accuracy:  0.966\n",
      "Precision:  1.0\n",
      "Recall:  0.10526315789473684\n",
      "F1-Score:  0.1904761904761905\n",
      "Sensitivity:  0.10526315789473684\n",
      "Specificity:  1.0\n",
      "ROC-AUC Score:  0.5526315789473684\n",
      "Log Loss:  1.1743183974269642\n"
     ]
    },
    {
     "data": {
      "text/plain": [
       "<sklearn.metrics._plot.confusion_matrix.ConfusionMatrixDisplay at 0x286c80b3eb0>"
      ]
     },
     "execution_count": 13,
     "metadata": {},
     "output_type": "execute_result"
    },
    {
     "data": {
      "image/png": "[encoded data removed]",
      "text/plain": [
       "<Figure size 432x288 with 2 Axes>"
      ]
     },
     "metadata": {
      "needs_background": "light"
     },
     "output_type": "display_data"
    }
   ],
   "source": [
    "logreg_tun = grid_result.best_estimator_\n",
    "logreg_tun.fit(x_train, y_train)\n",
    "prediction_logreg_tun = logreg_tun.predict(x_test)\n",
    "\n",
    "conf_matrix = confusion_matrix(y_test, prediction_logreg_tun)\n",
    "TP = conf_matrix[1][1]\n",
    "TN = conf_matrix[0][0]\n",
    "FP = conf_matrix[0][1]\n",
    "FN = conf_matrix[1][0]\n",
    "\n",
    "#Results\n",
    "log_tun_accuracy = accuracy_score(y_test,prediction_logreg_tun)\n",
    "log_tun_precision = precision_score(y_test,prediction_logreg_tun)\n",
    "log_tun_recall = recall_score(y_test,prediction_logreg_tun)\n",
    "log_tun_f1_score = f1_score(y_test,prediction_logreg_tun)\n",
    "log_tun_sensitivity = TP / float(TP+FN)\n",
    "log_tun_specificity = TN / float(TN+FP)\n",
    "log_tun_roc_auc_score = roc_auc_score(y_test,prediction_logreg_tun) \n",
    "log_tun_log_loss = log_loss(y_test,prediction_logreg_tun) \n",
    "print(\"Test Accuracy: \",accuracy_score(y_test,prediction_logreg_tun))\n",
    "print(\"Precision: \",precision_score(y_test,prediction_logreg_tun))\n",
    "print(\"Recall: \",recall_score(y_test,prediction_logreg_tun))\n",
    "print(\"F1-Score: \",f1_score(y_test,prediction_logreg_tun))\n",
    "print(\"Sensitivity: \",TP / float(TP+FN))\n",
    "print(\"Specificity: \",TN / float(TN+FP))\n",
    "print(\"ROC-AUC Score: \",roc_auc_score(y_test,prediction_logreg_tun))\n",
    "print(\"Log Loss: \",log_loss(y_test,prediction_logreg_tun))\n",
    "plot_confusion_matrix(logreg_tun,x_test,y_test,cmap=plt.cm.Blues)\n",
    "# plot_roc_curve(logreg_tun,x_test,y_test)\n",
    "# plot_precision_recall_curve(logreg_tun,x_test,y_test)"
   ]
  },
  {
   "cell_type": "markdown",
   "id": "angry-relay",
   "metadata": {},
   "source": [
    "## K- Nearest Neighbor"
   ]
  },
  {
   "cell_type": "code",
   "execution_count": 14,
   "id": "binding-champagne",
   "metadata": {},
   "outputs": [
    {
     "name": "stdout",
     "output_type": "stream",
     "text": [
      "Test Accuracy:  0.964\n",
      "Precision:  0.6\n",
      "Recall:  0.15789473684210525\n",
      "F1-Score:  0.25\n",
      "Sensitivity:  0.15789473684210525\n",
      "Specificity:  0.9958419958419958\n",
      "ROC-AUC Score:  0.5768683663420505\n",
      "Log Loss:  1.2433991486065064\n"
     ]
    },
    {
     "data": {
      "text/plain": [
       "<sklearn.metrics._plot.confusion_matrix.ConfusionMatrixDisplay at 0x286dba6bb80>"
      ]
     },
     "execution_count": 14,
     "metadata": {},
     "output_type": "execute_result"
    },
    {
     "data": {
      "image/png": "[encoded data removed]",
      "text/plain": [
       "<Figure size 432x288 with 2 Axes>"
      ]
     },
     "metadata": {
      "needs_background": "light"
     },
     "output_type": "display_data"
    }
   ],
   "source": [
    "knn = KNeighborsClassifier()\n",
    "knn.fit(x_train, y_train)\n",
    "prediction_knn = knn.predict(x_test)\n",
    "\n",
    "conf_matrix = confusion_matrix(y_test, prediction_knn)\n",
    "TP = conf_matrix[1][1]\n",
    "TN = conf_matrix[0][0]\n",
    "FP = conf_matrix[0][1]\n",
    "FN = conf_matrix[1][0]\n",
    "\n",
    "#Results\n",
    "knn_accuracy = accuracy_score(y_test,prediction_knn)\n",
    "knn_precision = precision_score(y_test,prediction_knn)\n",
    "knn_recall = recall_score(y_test,prediction_knn)\n",
    "knn_f1_score = f1_score(y_test,prediction_knn)\n",
    "knn_sensitivity = TP / float(TP+FN)\n",
    "knn_specificity = TN / float(TN+FP)\n",
    "knn_roc_auc_score = roc_auc_score(y_test,prediction_knn) \n",
    "knn_log_loss = log_loss(y_test,prediction_knn) \n",
    "print(\"Test Accuracy: \",accuracy_score(y_test,prediction_knn))\n",
    "print(\"Precision: \",precision_score(y_test,prediction_knn))\n",
    "print(\"Recall: \",recall_score(y_test,prediction_knn))\n",
    "print(\"F1-Score: \",f1_score(y_test,prediction_knn))\n",
    "print(\"Sensitivity: \",TP / float(TP+FN))\n",
    "print(\"Specificity: \",TN / float(TN+FP))\n",
    "print(\"ROC-AUC Score: \",roc_auc_score(y_test,prediction_knn))\n",
    "print(\"Log Loss: \",log_loss(y_test,prediction_knn))\n",
    "plot_confusion_matrix(knn,x_test,y_test,cmap=plt.cm.Blues)\n",
    "# plot_roc_curve(knn,x_test,y_test)\n",
    "# plot_precision_recall_curve(knn,x_test,y_test)"
   ]
  },
  {
   "cell_type": "markdown",
   "id": "allied-testimony",
   "metadata": {},
   "source": [
    "### Tuned KNN"
   ]
  },
  {
   "cell_type": "code",
   "execution_count": 15,
   "id": "stylish-cookbook",
   "metadata": {},
   "outputs": [
    {
     "name": "stdout",
     "output_type": "stream",
     "text": [
      "Best: 0.957600 using {'metric': 'euclidean', 'n_neighbors': 1, 'weights': 'uniform'}\n"
     ]
    }
   ],
   "source": [
    "model = KNeighborsClassifier()\n",
    "n_neighbors = range(1, 21, 2)\n",
    "weights = ['uniform', 'distance']\n",
    "metric = ['euclidean', 'manhattan', 'minkowski']\n",
    "# define grid search\n",
    "grid = dict(n_neighbors=n_neighbors,weights=weights,metric=metric)\n",
    "cv = RepeatedStratifiedKFold(n_splits=10, n_repeats=3, random_state=1)\n",
    "grid_search = GridSearchCV(estimator=model, param_grid=grid, n_jobs=-1, cv=cv, scoring='accuracy',error_score=0)\n",
    "grid_result = grid_search.fit(x, y)\n",
    "# summarize results\n",
    "print(\"Best: %f using %s\" % (grid_result.best_score_, grid_result.best_params_))\n",
    "# means = grid_result.cv_results_['mean_test_score']\n",
    "# stds = grid_result.cv_results_['std_test_score']\n",
    "# params = grid_result.cv_results_['params']\n",
    "# for mean, stdev, param in zip(means, stds, params):\n",
    "#     print(\"%f (%f) with: %r\" % (mean, stdev, param))"
   ]
  },
  {
   "cell_type": "code",
   "execution_count": 16,
   "id": "infrared-moment",
   "metadata": {},
   "outputs": [
    {
     "data": {
      "text/plain": [
       "KNeighborsClassifier(metric='euclidean', n_neighbors=1)"
      ]
     },
     "execution_count": 16,
     "metadata": {},
     "output_type": "execute_result"
    }
   ],
   "source": [
    "grid_result.best_estimator_"
   ]
  },
  {
   "cell_type": "code",
   "execution_count": 17,
   "id": "streaming-mention",
   "metadata": {},
   "outputs": [
    {
     "name": "stdout",
     "output_type": "stream",
     "text": [
      "Test Accuracy:  0.962\n",
      "Precision:  0.5\n",
      "Recall:  0.07017543859649122\n",
      "F1-Score:  0.12307692307692307\n",
      "Sensitivity:  0.07017543859649122\n",
      "Specificity:  0.9972279972279973\n",
      "ROC-AUC Score:  0.5337017179122443\n",
      "Log Loss:  1.3124756352664204\n"
     ]
    },
    {
     "data": {
      "text/plain": [
       "<sklearn.metrics._plot.confusion_matrix.ConfusionMatrixDisplay at 0x286dba4e970>"
      ]
     },
     "execution_count": 17,
     "metadata": {},
     "output_type": "execute_result"
    },
    {
     "data": {
      "image/png": "[encoded data removed]",
      "text/plain": [
       "<Figure size 432x288 with 2 Axes>"
      ]
     },
     "metadata": {
      "needs_background": "light"
     },
     "output_type": "display_data"
    }
   ],
   "source": [
    "knn_tun = grid_result.best_estimator_\n",
    "knn_tun.fit(x_train, y_train)\n",
    "prediction_knn_tun = knn_tun.predict(x_test)\n",
    "\n",
    "conf_matrix = confusion_matrix(y_test, prediction_knn_tun)\n",
    "TP = conf_matrix[1][1]\n",
    "TN = conf_matrix[0][0]\n",
    "FP = conf_matrix[0][1]\n",
    "FN = conf_matrix[1][0]\n",
    "\n",
    "#Results\n",
    "knn_tun_accuracy = accuracy_score(y_test,prediction_knn_tun)\n",
    "knn_tun_precision = precision_score(y_test,prediction_knn_tun)\n",
    "knn_tun_recall = recall_score(y_test,prediction_knn_tun)\n",
    "knn_tun_f1_score = f1_score(y_test,prediction_knn_tun)\n",
    "knn_tun_sensitivity = TP / float(TP+FN)\n",
    "knn_tun_specificity = TN / float(TN+FP)\n",
    "knn_tun_roc_auc_score = roc_auc_score(y_test,prediction_knn_tun) \n",
    "knn_tun_log_loss = log_loss(y_test,prediction_knn_tun)\n",
    "print(\"Test Accuracy: \",accuracy_score(y_test,prediction_knn_tun))\n",
    "print(\"Precision: \",precision_score(y_test,prediction_knn_tun))\n",
    "print(\"Recall: \",recall_score(y_test,prediction_knn_tun))\n",
    "print(\"F1-Score: \",f1_score(y_test,prediction_knn_tun))\n",
    "print(\"Sensitivity: \",TP / float(TP+FN))\n",
    "print(\"Specificity: \",TN / float(TN+FP))\n",
    "print(\"ROC-AUC Score: \",roc_auc_score(y_test,prediction_knn_tun))\n",
    "print(\"Log Loss: \",log_loss(y_test,prediction_knn_tun))\n",
    "plot_confusion_matrix(knn_tun,x_test,y_test,cmap=plt.cm.Blues)\n",
    "# plot_roc_curve(knn_tun,x_test,y_test)\n",
    "# plot_precision_recall_curve(knn_tun,x_test,y_test)"
   ]
  },
  {
   "cell_type": "markdown",
   "id": "pacific-leeds",
   "metadata": {},
   "source": [
    "## Random Forest"
   ]
  },
  {
   "cell_type": "code",
   "execution_count": 18,
   "id": "weighted-toddler",
   "metadata": {},
   "outputs": [
    {
     "name": "stdout",
     "output_type": "stream",
     "text": [
      "Test Accuracy:  0.9646666666666667\n",
      "Precision:  0.7\n",
      "Recall:  0.12280701754385964\n",
      "F1-Score:  0.208955223880597\n",
      "Sensitivity:  0.12280701754385964\n",
      "Specificity:  0.997920997920998\n",
      "ROC-AUC Score:  0.5603640077324288\n",
      "Log Loss:  1.2203716984817052\n"
     ]
    },
    {
     "data": {
      "text/plain": [
       "<sklearn.metrics._plot.confusion_matrix.ConfusionMatrixDisplay at 0x286d967bb50>"
      ]
     },
     "execution_count": 18,
     "metadata": {},
     "output_type": "execute_result"
    },
    {
     "data": {
      "image/png": "[encoded data removed]",
      "text/plain": [
       "<Figure size 432x288 with 2 Axes>"
      ]
     },
     "metadata": {
      "needs_background": "light"
     },
     "output_type": "display_data"
    }
   ],
   "source": [
    "randomf = RandomForestClassifier()\n",
    "randomf.fit(x_train, y_train)\n",
    "prediction_randomf = randomf.predict(x_test)\n",
    "\n",
    "conf_matrix = confusion_matrix(y_test, prediction_randomf)\n",
    "TP = conf_matrix[1][1]\n",
    "TN = conf_matrix[0][0]\n",
    "FP = conf_matrix[0][1]\n",
    "FN = conf_matrix[1][0]\n",
    "\n",
    "#Results\n",
    "randomf_accuracy = accuracy_score(y_test,prediction_randomf)\n",
    "randomf_precision = precision_score(y_test,prediction_randomf)\n",
    "randomf_recall = recall_score(y_test,prediction_randomf)\n",
    "randomf_f1_score = f1_score(y_test,prediction_randomf)\n",
    "randomf_sensitivity = TP / float(TP+FN)\n",
    "randomf_specificity = TN / float(TN+FP)\n",
    "randomf_roc_auc_score = roc_auc_score(y_test,prediction_randomf) \n",
    "randomf_log_loss = log_loss(y_test,prediction_randomf)\n",
    "print(\"Test Accuracy: \",accuracy_score(y_test,prediction_randomf))\n",
    "print(\"Precision: \",precision_score(y_test,prediction_randomf))\n",
    "print(\"Recall: \",recall_score(y_test,prediction_randomf))\n",
    "print(\"F1-Score: \",f1_score(y_test,prediction_randomf))\n",
    "print(\"Sensitivity: \",TP / float(TP+FN))\n",
    "print(\"Specificity: \",TN / float(TN+FP))\n",
    "print(\"ROC-AUC Score: \",roc_auc_score(y_test,prediction_randomf))\n",
    "print(\"Log Loss: \",log_loss(y_test,prediction_randomf))\n",
    "plot_confusion_matrix(randomf,x_test,y_test,cmap=plt.cm.Blues)\n",
    "# plot_roc_curve(randomf,x_test,y_test)\n",
    "# plot_precision_recall_curve(randomf,x_test,y_test)"
   ]
  },
  {
   "cell_type": "markdown",
   "id": "opposite-embassy",
   "metadata": {},
   "source": [
    "### Tuned random forest"
   ]
  },
  {
   "cell_type": "code",
   "execution_count": 19,
   "id": "worse-reputation",
   "metadata": {},
   "outputs": [
    {
     "name": "stdout",
     "output_type": "stream",
     "text": [
      "Best: 0.960667 using {'n_estimators': 1000, 'min_samples_split': 10, 'min_samples_leaf': 1, 'max_features': 'log2', 'max_depth': 30, 'bootstrap': True}\n",
      "Wall time: 6min 38s\n"
     ]
    }
   ],
   "source": [
    "%%time\n",
    "model = RandomForestClassifier()\n",
    "n_estimators = [10, 100, 1000]\n",
    "max_features = ['sqrt', 'log2']\n",
    "# Maximum number of levels in tree\n",
    "max_depth = [int(x) for x in np.linspace(10, 30, num = 11)]\n",
    "max_depth.append(None)\n",
    "# Minimum number of samples required to split a node\n",
    "min_samples_split = [2, 5, 10]\n",
    "# Minimum number of samples required at each leaf node\n",
    "min_samples_leaf = [1, 2, 4]\n",
    "# Method of selecting samples for training each tree\n",
    "bootstrap = [True, False]\n",
    "# define grid search\n",
    "# grid = dict(n_estimators=n_estimators,max_features=max_features,\n",
    "#             min_samples_split=min_samples_split, min_samples_leaf=min_samples_leaf, bootstrap=bootstrap)\n",
    "\n",
    "random_grid = {'n_estimators': n_estimators,\n",
    "               'max_features': max_features,\n",
    "               'max_depth': max_depth,\n",
    "               'min_samples_split': min_samples_split,\n",
    "               'min_samples_leaf': min_samples_leaf,\n",
    "               'bootstrap': bootstrap}\n",
    "\n",
    "cv = RepeatedStratifiedKFold(n_splits=10, n_repeats=3, random_state=1)\n",
    "random_search = RandomizedSearchCV(estimator=model, param_distributions = random_grid, n_jobs=-1, cv=cv, scoring='accuracy',error_score=0)\n",
    "random_result = random_search.fit(x, y)\n",
    "# summarize results\n",
    "print(\"Best: %f using %s\" % (random_result.best_score_, random_result.best_params_))\n",
    "# means = grid_result.cv_results_['mean_test_score']\n",
    "# stds = grid_result.cv_results_['std_test_score']\n",
    "# params = grid_result.cv_results_['params']\n",
    "# for mean, stdev, param in zip(means, stds, params):\n",
    "#     print(\"%f (%f) with: %r\" % (mean, stdev, param))"
   ]
  },
  {
   "cell_type": "code",
   "execution_count": 20,
   "id": "comic-somerset",
   "metadata": {},
   "outputs": [
    {
     "data": {
      "text/plain": [
       "RandomForestClassifier(max_depth=30, max_features='log2', min_samples_split=10,\n",
       "                       n_estimators=1000)"
      ]
     },
     "execution_count": 20,
     "metadata": {},
     "output_type": "execute_result"
    }
   ],
   "source": [
    "random_result.best_estimator_"
   ]
  },
  {
   "cell_type": "code",
   "execution_count": 21,
   "id": "suitable-nitrogen",
   "metadata": {},
   "outputs": [
    {
     "name": "stdout",
     "output_type": "stream",
     "text": [
      "Test Accuracy:  0.9646666666666667\n",
      "Precision:  0.75\n",
      "Recall:  0.10526315789473684\n",
      "F1-Score:  0.1846153846153846\n",
      "Sensitivity:  0.10526315789473684\n",
      "Specificity:  0.9986139986139986\n",
      "ROC-AUC Score:  0.5519385782543677\n",
      "Log Loss:  1.220371165416752\n"
     ]
    },
    {
     "data": {
      "text/plain": [
       "<sklearn.metrics._plot.confusion_matrix.ConfusionMatrixDisplay at 0x286dba9a0d0>"
      ]
     },
     "execution_count": 21,
     "metadata": {},
     "output_type": "execute_result"
    },
    {
     "data": {
      "image/png": "[encoded data removed]",
      "text/plain": [
       "<Figure size 432x288 with 2 Axes>"
      ]
     },
     "metadata": {
      "needs_background": "light"
     },
     "output_type": "display_data"
    }
   ],
   "source": [
    "randomf_tun = random_result.best_estimator_\n",
    "randomf_tun.fit(x_train, y_train)\n",
    "prediction_randomf_tun = randomf_tun.predict(x_test)\n",
    "\n",
    "conf_matrix = confusion_matrix(y_test, prediction_randomf_tun)\n",
    "TP = conf_matrix[1][1]\n",
    "TN = conf_matrix[0][0]\n",
    "FP = conf_matrix[0][1]\n",
    "FN = conf_matrix[1][0]\n",
    "\n",
    "#Results\n",
    "randomf_tun_accuracy = accuracy_score(y_test,prediction_randomf_tun)\n",
    "randomf_tun_precision = precision_score(y_test,prediction_randomf_tun)\n",
    "randomf_tun_recall = recall_score(y_test,prediction_randomf_tun)\n",
    "randomf_tun_f1_score = f1_score(y_test,prediction_randomf_tun)\n",
    "randomf_tun_sensitivity = TP / float(TP+FN)\n",
    "randomf_tun_specificity = TN / float(TN+FP)\n",
    "randomf_tun_roc_auc_score = roc_auc_score(y_test,prediction_randomf_tun) \n",
    "randomf_tun_log_loss = log_loss(y_test,prediction_randomf_tun)\n",
    "print(\"Test Accuracy: \",accuracy_score(y_test,prediction_randomf_tun))\n",
    "print(\"Precision: \",precision_score(y_test,prediction_randomf_tun))\n",
    "print(\"Recall: \",recall_score(y_test,prediction_randomf_tun))\n",
    "print(\"F1-Score: \",f1_score(y_test,prediction_randomf_tun))\n",
    "print(\"Sensitivity: \",TP / float(TP+FN))\n",
    "print(\"Specificity: \",TN / float(TN+FP))\n",
    "print(\"ROC-AUC Score: \",roc_auc_score(y_test,prediction_randomf_tun))\n",
    "print(\"Log Loss: \",log_loss(y_test,prediction_randomf_tun))\n",
    "plot_confusion_matrix(randomf_tun,x_test,y_test,cmap=plt.cm.Blues)\n",
    "# plot_roc_curve(randomf_tun,x_test,y_test)\n",
    "# plot_precision_recall_curve(randomf_tun,x_test,y_test)"
   ]
  },
  {
   "cell_type": "markdown",
   "id": "southwest-storage",
   "metadata": {},
   "source": [
    "## Ridge Classifier"
   ]
  },
  {
   "cell_type": "code",
   "execution_count": 22,
   "id": "brilliant-darkness",
   "metadata": {},
   "outputs": [
    {
     "name": "stdout",
     "output_type": "stream",
     "text": [
      "Test Accuracy:  0.966\n",
      "Precision:  1.0\n",
      "Recall:  0.10526315789473684\n",
      "F1-Score:  0.1904761904761905\n",
      "Sensitivity:  0.10526315789473684\n",
      "Specificity:  1.0\n",
      "ROC-AUC Score:  0.5526315789473684\n",
      "Log Loss:  1.1743183974269642\n"
     ]
    },
    {
     "data": {
      "text/plain": [
       "<sklearn.metrics._plot.confusion_matrix.ConfusionMatrixDisplay at 0x286dba9a0a0>"
      ]
     },
     "execution_count": 22,
     "metadata": {},
     "output_type": "execute_result"
    },
    {
     "data": {
      "image/png": "[encoded data removed]",
      "text/plain": [
       "<Figure size 432x288 with 2 Axes>"
      ]
     },
     "metadata": {
      "needs_background": "light"
     },
     "output_type": "display_data"
    }
   ],
   "source": [
    "ridge = RidgeClassifier()\n",
    "ridge.fit(x_train, y_train)\n",
    "prediction_ridge = ridge.predict(x_test)\n",
    "\n",
    "conf_matrix = confusion_matrix(y_test, prediction_ridge)\n",
    "TP = conf_matrix[1][1]\n",
    "TN = conf_matrix[0][0]\n",
    "FP = conf_matrix[0][1]\n",
    "FN = conf_matrix[1][0]\n",
    "\n",
    "#Results\n",
    "ridge_accuracy = accuracy_score(y_test,prediction_ridge)\n",
    "ridge_precision = precision_score(y_test,prediction_ridge)\n",
    "ridge_recall = recall_score(y_test,prediction_ridge)\n",
    "ridge_f1_score = f1_score(y_test,prediction_ridge)\n",
    "ridge_sensitivity = TP / float(TP+FN)\n",
    "ridge_specificity = TN / float(TN+FP)\n",
    "ridge_roc_auc_score = roc_auc_score(y_test,prediction_ridge) \n",
    "ridge_log_loss = log_loss(y_test,prediction_ridge)\n",
    "print(\"Test Accuracy: \",accuracy_score(y_test,prediction_ridge))\n",
    "print(\"Precision: \",precision_score(y_test,prediction_ridge))\n",
    "print(\"Recall: \",recall_score(y_test,prediction_ridge))\n",
    "print(\"F1-Score: \",f1_score(y_test,prediction_ridge))\n",
    "print(\"Sensitivity: \",TP / float(TP+FN))\n",
    "print(\"Specificity: \",TN / float(TN+FP))\n",
    "print(\"ROC-AUC Score: \",roc_auc_score(y_test,prediction_ridge))\n",
    "print(\"Log Loss: \",log_loss(y_test,prediction_ridge))\n",
    "plot_confusion_matrix(ridge,x_test,y_test,cmap=plt.cm.Blues)\n",
    "# plot_roc_curve(ridge,x_test,y_test)\n",
    "# plot_precision_recall_curve(ridge,x_test,y_test)"
   ]
  },
  {
   "cell_type": "markdown",
   "id": "criminal-development",
   "metadata": {},
   "source": [
    "### Tuned ridge"
   ]
  },
  {
   "cell_type": "code",
   "execution_count": 23,
   "id": "medical-logan",
   "metadata": {},
   "outputs": [
    {
     "name": "stdout",
     "output_type": "stream",
     "text": [
      "Best: 0.960867 using {'alpha': 0.8}\n",
      "Wall time: 2.61 s\n"
     ]
    }
   ],
   "source": [
    "%%time\n",
    "model = RidgeClassifier()\n",
    "alpha = [0.1, 0.2, 0.3, 0.4, 0.5, 0.6, 0.7, 0.8, 0.9, 1.0]\n",
    "# define grid search\n",
    "grid = dict(alpha=alpha)\n",
    "cv = RepeatedStratifiedKFold(n_splits=10, n_repeats=3, random_state=1)\n",
    "grid_search = GridSearchCV(estimator=model, param_grid=grid, n_jobs=-1, cv=cv, scoring='accuracy',error_score=0)\n",
    "grid_result = grid_search.fit(x, y)\n",
    "# summarize results\n",
    "print(\"Best: %f using %s\" % (grid_result.best_score_, grid_result.best_params_))\n",
    "means = grid_result.cv_results_['mean_test_score']\n",
    "# stds = grid_result.cv_results_['std_test_score']\n",
    "# params = grid_result.cv_results_['params']\n",
    "# for mean, stdev, param in zip(means, stds, params):\n",
    "#     print(\"%f (%f) with: %r\" % (mean, stdev, param))"
   ]
  },
  {
   "cell_type": "code",
   "execution_count": 24,
   "id": "seeing-fourth",
   "metadata": {},
   "outputs": [
    {
     "data": {
      "text/plain": [
       "RidgeClassifier(alpha=0.8)"
      ]
     },
     "execution_count": 24,
     "metadata": {},
     "output_type": "execute_result"
    }
   ],
   "source": [
    "grid_result.best_estimator_"
   ]
  },
  {
   "cell_type": "code",
   "execution_count": 25,
   "id": "laughing-privacy",
   "metadata": {},
   "outputs": [
    {
     "name": "stdout",
     "output_type": "stream",
     "text": [
      "Test Accuracy:  0.966\n",
      "Precision:  1.0\n",
      "Recall:  0.10526315789473684\n",
      "F1-Score:  0.1904761904761905\n",
      "Sensitivity:  0.10526315789473684\n",
      "Specificity:  1.0\n",
      "ROC-AUC Score:  0.5526315789473684\n",
      "Log Loss:  1.1743183974269642\n"
     ]
    },
    {
     "data": {
      "text/plain": [
       "<sklearn.metrics._plot.confusion_matrix.ConfusionMatrixDisplay at 0x286dce04f10>"
      ]
     },
     "execution_count": 25,
     "metadata": {},
     "output_type": "execute_result"
    },
    {
     "data": {
      "image/png": "[encoded data removed]",
      "text/plain": [
       "<Figure size 432x288 with 2 Axes>"
      ]
     },
     "metadata": {
      "needs_background": "light"
     },
     "output_type": "display_data"
    }
   ],
   "source": [
    "ridge_tun = grid_result.best_estimator_\n",
    "ridge_tun.fit(x_train, y_train)\n",
    "prediction_ridge_tun = ridge_tun.predict(x_test)\n",
    "\n",
    "conf_matrix = confusion_matrix(y_test, prediction_ridge_tun)\n",
    "TP = conf_matrix[1][1]\n",
    "TN = conf_matrix[0][0]\n",
    "FP = conf_matrix[0][1]\n",
    "FN = conf_matrix[1][0]\n",
    "\n",
    "#Results\n",
    "ridge_tun_accuracy = accuracy_score(y_test,prediction_ridge_tun)\n",
    "ridge_tun_precision = precision_score(y_test,prediction_ridge_tun)\n",
    "ridge_tun_recall = recall_score(y_test,prediction_ridge_tun)\n",
    "ridge_tun_f1_score = f1_score(y_test,prediction_ridge_tun)\n",
    "ridge_tun_sensitivity = TP / float(TP+FN)\n",
    "ridge_tun_specificity = TN / float(TN+FP)\n",
    "ridge_tun_roc_auc_score = roc_auc_score(y_test,prediction_ridge_tun) \n",
    "ridge_tun_log_loss = log_loss(y_test,prediction_ridge_tun)\n",
    "print(\"Test Accuracy: \",accuracy_score(y_test,prediction_ridge_tun))\n",
    "print(\"Precision: \",precision_score(y_test,prediction_ridge_tun))\n",
    "print(\"Recall: \",recall_score(y_test,prediction_ridge_tun))\n",
    "print(\"F1-Score: \",f1_score(y_test,prediction_ridge_tun))\n",
    "print(\"Sensitivity: \",TP / float(TP+FN))\n",
    "print(\"Specificity: \",TN / float(TN+FP))\n",
    "print(\"ROC-AUC Score: \",roc_auc_score(y_test,prediction_ridge_tun))\n",
    "print(\"Log Loss: \",log_loss(y_test,prediction_ridge_tun))\n",
    "plot_confusion_matrix(ridge_tun,x_test,y_test,cmap=plt.cm.Blues)\n",
    "# plot_roc_curve(ridge_tun,x_test,y_test)\n",
    "# plot_precision_recall_curve(ridge_tun,x_test,y_test)"
   ]
  },
  {
   "cell_type": "markdown",
   "id": "reserved-boards",
   "metadata": {},
   "source": [
    "## Support vector Machine (SVM)"
   ]
  },
  {
   "cell_type": "code",
   "execution_count": 26,
   "id": "consolidated-craps",
   "metadata": {},
   "outputs": [
    {
     "name": "stdout",
     "output_type": "stream",
     "text": [
      "Test Accuracy:  0.9626666666666667\n",
      "Precision:  0.6666666666666666\n",
      "Recall:  0.03508771929824561\n",
      "F1-Score:  0.06666666666666667\n",
      "Sensitivity:  0.03508771929824561\n",
      "Specificity:  0.9993069993069993\n",
      "ROC-AUC Score:  0.5171973593026226\n",
      "Log Loss:  1.2894481851416197\n"
     ]
    },
    {
     "data": {
      "text/plain": [
       "<sklearn.metrics._plot.confusion_matrix.ConfusionMatrixDisplay at 0x286dce04a30>"
      ]
     },
     "execution_count": 26,
     "metadata": {},
     "output_type": "execute_result"
    },
    {
     "data": {
      "image/png": "[encoded data removed]",
      "text/plain": [
       "<Figure size 432x288 with 2 Axes>"
      ]
     },
     "metadata": {
      "needs_background": "light"
     },
     "output_type": "display_data"
    }
   ],
   "source": [
    "svc = SVC()\n",
    "svc.fit(x_train, y_train)\n",
    "prediction_svc = svc.predict(x_test)\n",
    "\n",
    "conf_matrix = confusion_matrix(y_test, prediction_svc)\n",
    "TP = conf_matrix[1][1]\n",
    "TN = conf_matrix[0][0]\n",
    "FP = conf_matrix[0][1]\n",
    "FN = conf_matrix[1][0]\n",
    "\n",
    "#Results\n",
    "svc_accuracy = accuracy_score(y_test,prediction_svc)\n",
    "svc_precision = precision_score(y_test,prediction_svc)\n",
    "svc_recall = recall_score(y_test,prediction_svc)\n",
    "svc_f1_score = f1_score(y_test,prediction_svc)\n",
    "svc_sensitivity = TP / float(TP+FN)\n",
    "svc_specificity = TN / float(TN+FP)\n",
    "svc_roc_auc_score = roc_auc_score(y_test,prediction_svc) \n",
    "svc_log_loss = log_loss(y_test,prediction_svc)\n",
    "print(\"Test Accuracy: \",accuracy_score(y_test,prediction_svc))\n",
    "print(\"Precision: \",precision_score(y_test,prediction_svc))\n",
    "print(\"Recall: \",recall_score(y_test,prediction_svc))\n",
    "print(\"F1-Score: \",f1_score(y_test,prediction_svc))\n",
    "print(\"Sensitivity: \",TP / float(TP+FN))\n",
    "print(\"Specificity: \",TN / float(TN+FP))\n",
    "print(\"ROC-AUC Score: \",roc_auc_score(y_test,prediction_svc))\n",
    "print(\"Log Loss: \",log_loss(y_test,prediction_svc))\n",
    "plot_confusion_matrix(svc,x_test,y_test,cmap=plt.cm.Blues)\n",
    "# plot_roc_curve(svc,x_test,y_test)\n",
    "# plot_precision_recall_curve(svc,x_test,y_test)"
   ]
  },
  {
   "cell_type": "markdown",
   "id": "soviet-orleans",
   "metadata": {},
   "source": [
    "## Tuned SVC"
   ]
  },
  {
   "cell_type": "code",
   "execution_count": 27,
   "id": "monthly-bobby",
   "metadata": {},
   "outputs": [
    {
     "name": "stdout",
     "output_type": "stream",
     "text": [
      "Best: 0.959533 using {'C': 0.1, 'gamma': 'scale', 'kernel': 'poly'}\n"
     ]
    }
   ],
   "source": [
    "model = SVC()\n",
    "kernel = ['poly', 'rbf', 'sigmoid']\n",
    "C = [50, 10, 1.0, 0.1, 0.01]\n",
    "gamma = ['scale']\n",
    "# define grid search\n",
    "grid = dict(kernel=kernel,C=C,gamma=gamma)\n",
    "cv = RepeatedStratifiedKFold(n_splits=10, n_repeats=3, random_state=1)\n",
    "grid_search = GridSearchCV(estimator=model, param_grid=grid, n_jobs=-1, cv=cv, scoring='accuracy',error_score=0)\n",
    "grid_result = grid_search.fit(x, y)\n",
    "# summarize results\n",
    "print(\"Best: %f using %s\" % (grid_result.best_score_, grid_result.best_params_))\n",
    "# means = grid_result.cv_results_['mean_test_score']\n",
    "# stds = grid_result.cv_results_['std_test_score']\n",
    "# params = grid_result.cv_results_['params']\n",
    "# for mean, stdev, param in zip(means, stds, params):\n",
    "#     print(\"%f (%f) with: %r\" % (mean, stdev, param))"
   ]
  },
  {
   "cell_type": "code",
   "execution_count": 28,
   "id": "dirty-sherman",
   "metadata": {},
   "outputs": [
    {
     "data": {
      "text/plain": [
       "SVC(C=0.1, kernel='poly')"
      ]
     },
     "execution_count": 28,
     "metadata": {},
     "output_type": "execute_result"
    }
   ],
   "source": [
    "grid_result.best_estimator_"
   ]
  },
  {
   "cell_type": "code",
   "execution_count": 29,
   "id": "specified-egypt",
   "metadata": {},
   "outputs": [
    {
     "name": "stdout",
     "output_type": "stream",
     "text": [
      "Test Accuracy:  0.962\n",
      "Precision:  0.5\n",
      "Recall:  0.05263157894736842\n",
      "F1-Score:  0.09523809523809525\n",
      "Sensitivity:  0.05263157894736842\n",
      "Specificity:  0.997920997920998\n",
      "ROC-AUC Score:  0.5252762884341832\n",
      "Log Loss:  1.3124751022014671\n"
     ]
    },
    {
     "data": {
      "text/plain": [
       "<sklearn.metrics._plot.confusion_matrix.ConfusionMatrixDisplay at 0x286deea5550>"
      ]
     },
     "execution_count": 29,
     "metadata": {},
     "output_type": "execute_result"
    },
    {
     "data": {
      "image/png": "[encoded data removed]",
      "text/plain": [
       "<Figure size 432x288 with 2 Axes>"
      ]
     },
     "metadata": {
      "needs_background": "light"
     },
     "output_type": "display_data"
    }
   ],
   "source": [
    "svc_tun = grid_result.best_estimator_\n",
    "svc_tun.fit(x_train, y_train)\n",
    "prediction_svc_tun = svc_tun.predict(x_test)\n",
    "\n",
    "conf_matrix = confusion_matrix(y_test, prediction_svc_tun)\n",
    "TP = conf_matrix[1][1]\n",
    "TN = conf_matrix[0][0]\n",
    "FP = conf_matrix[0][1]\n",
    "FN = conf_matrix[1][0]\n",
    "\n",
    "#Results\n",
    "svc_tun_accuracy = accuracy_score(y_test,prediction_svc_tun)\n",
    "svc_tun_precision = precision_score(y_test,prediction_svc_tun)\n",
    "svc_tun_recall = recall_score(y_test,prediction_svc_tun)\n",
    "svc_tun_f1_score = f1_score(y_test,prediction_svc_tun)\n",
    "svc_tun_sensitivity = TP / float(TP+FN)\n",
    "svc_tun_specificity = TN / float(TN+FP)\n",
    "svc_tun_roc_auc_score = roc_auc_score(y_test,prediction_svc_tun) \n",
    "svc_tun_log_loss = log_loss(y_test,prediction_svc_tun)\n",
    "print(\"Test Accuracy: \",accuracy_score(y_test,prediction_svc_tun))\n",
    "print(\"Precision: \",precision_score(y_test,prediction_svc_tun))\n",
    "print(\"Recall: \",recall_score(y_test,prediction_svc_tun))\n",
    "print(\"F1-Score: \",f1_score(y_test,prediction_svc_tun))\n",
    "print(\"Sensitivity: \",TP / float(TP+FN))\n",
    "print(\"Specificity: \",TN / float(TN+FP))\n",
    "print(\"ROC-AUC Score: \",roc_auc_score(y_test,prediction_svc_tun))\n",
    "print(\"Log Loss: \",log_loss(y_test,prediction_svc_tun))\n",
    "plot_confusion_matrix(svc_tun,x_test,y_test,cmap=plt.cm.Blues)\n",
    "# plot_roc_curve(svc_tun,x_test,y_test)\n",
    "# plot_precision_recall_curve(svc_tun,x_test,y_test)"
   ]
  },
  {
   "cell_type": "markdown",
   "id": "assisted-casino",
   "metadata": {},
   "source": [
    "## Gradient Boosting Classifier"
   ]
  },
  {
   "cell_type": "code",
   "execution_count": 30,
   "id": "confidential-maker",
   "metadata": {},
   "outputs": [
    {
     "name": "stdout",
     "output_type": "stream",
     "text": [
      "Test Accuracy:  0.9646666666666667\n",
      "Precision:  0.75\n",
      "Recall:  0.10526315789473684\n",
      "F1-Score:  0.1846153846153846\n",
      "Sensitivity:  0.10526315789473684\n",
      "Specificity:  0.9986139986139986\n",
      "ROC-AUC Score:  0.5519385782543677\n",
      "Log Loss:  1.220371165416752\n"
     ]
    },
    {
     "data": {
      "text/plain": [
       "<sklearn.metrics._plot.confusion_matrix.ConfusionMatrixDisplay at 0x286dbe19e20>"
      ]
     },
     "execution_count": 30,
     "metadata": {},
     "output_type": "execute_result"
    },
    {
     "data": {
      "image/png": "[encoded data removed]",
      "text/plain": [
       "<Figure size 432x288 with 2 Axes>"
      ]
     },
     "metadata": {
      "needs_background": "light"
     },
     "output_type": "display_data"
    }
   ],
   "source": [
    "gradientboost = GradientBoostingClassifier()\n",
    "gradientboost.fit(x_train, y_train)\n",
    "prediction_gradientboost = gradientboost.predict(x_test)\n",
    "\n",
    "conf_matrix = confusion_matrix(y_test, prediction_gradientboost)\n",
    "TP = conf_matrix[1][1]\n",
    "TN = conf_matrix[0][0]\n",
    "FP = conf_matrix[0][1]\n",
    "FN = conf_matrix[1][0]\n",
    "\n",
    "#Results\n",
    "gradientbos_accuracy = accuracy_score(y_test,prediction_gradientboost)\n",
    "gradientbos_precision = precision_score(y_test,prediction_gradientboost)\n",
    "gradientbos_recall = recall_score(y_test,prediction_gradientboost)\n",
    "gradientbos_f1_score = f1_score(y_test,prediction_gradientboost)\n",
    "gradientbos_sensitivity = TP / float(TP+FN)\n",
    "gradientbos_specificity = TN / float(TN+FP)\n",
    "gradientbos_roc_auc_score = roc_auc_score(y_test,prediction_gradientboost) \n",
    "gradientbos_log_loss = log_loss(y_test,prediction_gradientboost)\n",
    "print(\"Test Accuracy: \",accuracy_score(y_test,prediction_gradientboost))\n",
    "print(\"Precision: \",precision_score(y_test,prediction_gradientboost))\n",
    "print(\"Recall: \",recall_score(y_test,prediction_gradientboost))\n",
    "print(\"F1-Score: \",f1_score(y_test,prediction_gradientboost))\n",
    "print(\"Sensitivity: \",TP / float(TP+FN))\n",
    "print(\"Specificity: \",TN / float(TN+FP))\n",
    "print(\"ROC-AUC Score: \",roc_auc_score(y_test,prediction_gradientboost))\n",
    "print(\"Log Loss: \",log_loss(y_test,prediction_gradientboost))\n",
    "plot_confusion_matrix(gradientboost,x_test,y_test,cmap=plt.cm.Blues)\n",
    "# plot_roc_curve(gradientboost,x_test,y_test)\n",
    "# plot_precision_recall_curve(gradientboost,x_test,y_test)"
   ]
  },
  {
   "cell_type": "markdown",
   "id": "advised-immigration",
   "metadata": {},
   "source": [
    "### Tuned gradient boosting"
   ]
  },
  {
   "cell_type": "code",
   "execution_count": 31,
   "id": "executive-elevation",
   "metadata": {},
   "outputs": [
    {
     "name": "stdout",
     "output_type": "stream",
     "text": [
      "Best: 0.960067 using {'subsample': 0.7, 'n_estimators': 1000, 'max_depth': 3, 'learning_rate': 0.01}\n",
      "Wall time: 7min 23s\n"
     ]
    }
   ],
   "source": [
    "%%time\n",
    "model = GradientBoostingClassifier()\n",
    "n_estimators = [10, 100, 1000]\n",
    "learning_rate = [0.001, 0.01, 0.1]\n",
    "subsample = [0.5, 0.7, 1.0]\n",
    "max_depth = [3, 7, 9]\n",
    "# define grid search\n",
    "random_grid = dict(learning_rate=learning_rate, n_estimators=n_estimators, subsample=subsample, max_depth=max_depth)\n",
    "cv = RepeatedStratifiedKFold(n_splits=10, n_repeats=3, random_state=1)\n",
    "random_search = RandomizedSearchCV(estimator=model, param_distributions = random_grid, n_jobs=-1, cv=cv, scoring='accuracy',error_score=0)\n",
    "random_result = random_search.fit(x, y)\n",
    "# summarize results\n",
    "print(\"Best: %f using %s\" % (random_result.best_score_, random_result.best_params_))\n",
    "# means = grid_result.cv_results_['mean_test_score']\n",
    "# stds = grid_result.cv_results_['std_test_score']\n",
    "# params = grid_result.cv_results_['params']\n",
    "# for mean, stdev, param in zip(means, stds, params):\n",
    "#     print(\"%f (%f) with: %r\" % (mean, stdev, param))"
   ]
  },
  {
   "cell_type": "code",
   "execution_count": 32,
   "id": "prescribed-curtis",
   "metadata": {},
   "outputs": [
    {
     "data": {
      "text/plain": [
       "GradientBoostingClassifier(learning_rate=0.01, n_estimators=1000, subsample=0.7)"
      ]
     },
     "execution_count": 32,
     "metadata": {},
     "output_type": "execute_result"
    }
   ],
   "source": [
    "random_result.best_estimator_"
   ]
  },
  {
   "cell_type": "code",
   "execution_count": 33,
   "id": "forward-croatia",
   "metadata": {},
   "outputs": [
    {
     "name": "stdout",
     "output_type": "stream",
     "text": [
      "Test Accuracy:  0.9646666666666667\n",
      "Precision:  0.7\n",
      "Recall:  0.12280701754385964\n",
      "F1-Score:  0.208955223880597\n",
      "Sensitivity:  0.12280701754385964\n",
      "Specificity:  0.997920997920998\n",
      "ROC-AUC Score:  0.5603640077324288\n",
      "Log Loss:  1.2203716984817052\n"
     ]
    },
    {
     "data": {
      "text/plain": [
       "<sklearn.metrics._plot.confusion_matrix.ConfusionMatrixDisplay at 0x286dbbbe070>"
      ]
     },
     "execution_count": 33,
     "metadata": {},
     "output_type": "execute_result"
    },
    {
     "data": {
      "image/png": "[encoded data removed]",
      "text/plain": [
       "<Figure size 432x288 with 2 Axes>"
      ]
     },
     "metadata": {
      "needs_background": "light"
     },
     "output_type": "display_data"
    }
   ],
   "source": [
    "gradientboost_tun = random_result.best_estimator_\n",
    "gradientboost_tun.fit(x_train, y_train)\n",
    "prediction_gradientboost_tun = gradientboost_tun.predict(x_test)\n",
    "\n",
    "conf_matrix = confusion_matrix(y_test, prediction_gradientboost_tun)\n",
    "TP = conf_matrix[1][1]\n",
    "TN = conf_matrix[0][0]\n",
    "FP = conf_matrix[0][1]\n",
    "FN = conf_matrix[1][0]\n",
    "\n",
    "#Results\n",
    "gradientbos_tun_accuracy = accuracy_score(y_test,prediction_gradientboost_tun)\n",
    "gradientbos_tun_precision = precision_score(y_test,prediction_gradientboost_tun)\n",
    "gradientbos_tun_recall = recall_score(y_test,prediction_gradientboost_tun)\n",
    "gradientbos_tun_f1_score = f1_score(y_test,prediction_gradientboost_tun)\n",
    "gradientbos_tun_sensitivity = TP / float(TP+FN)\n",
    "gradientbos_tun_specificity = TN / float(TN+FP)\n",
    "gradientbos_tun_roc_auc_score = roc_auc_score(y_test,prediction_gradientboost_tun) \n",
    "gradientbos_tun_log_loss = log_loss(y_test,prediction_gradientboost_tun)\n",
    "print(\"Test Accuracy: \",accuracy_score(y_test,prediction_gradientboost_tun))\n",
    "print(\"Precision: \",precision_score(y_test,prediction_gradientboost_tun))\n",
    "print(\"Recall: \",recall_score(y_test,prediction_gradientboost_tun))\n",
    "print(\"F1-Score: \",f1_score(y_test,prediction_gradientboost_tun))\n",
    "print(\"Sensitivity: \",TP / float(TP+FN))\n",
    "print(\"Specificity: \",TN / float(TN+FP))\n",
    "print(\"ROC-AUC Score: \",roc_auc_score(y_test,prediction_gradientboost_tun))\n",
    "print(\"Log Loss: \",log_loss(y_test,prediction_gradientboost_tun))\n",
    "plot_confusion_matrix(gradientboost_tun,x_test,y_test,cmap=plt.cm.Blues)\n",
    "# plot_roc_curve(gradientboost_tun,x_test,y_test)\n",
    "# plot_precision_recall_curve(gradientboost_tun,x_test,y_test)"
   ]
  },
  {
   "cell_type": "markdown",
   "id": "liked-organic",
   "metadata": {},
   "source": [
    "## XGB Classifier "
   ]
  },
  {
   "cell_type": "code",
   "execution_count": 34,
   "id": "overhead-murray",
   "metadata": {},
   "outputs": [
    {
     "name": "stderr",
     "output_type": "stream",
     "text": [
      "c:\\users\\dhchaudhary\\appdata\\local\\programs\\python\\python39\\lib\\site-packages\\xgboost\\sklearn.py:888: UserWarning: The use of label encoder in XGBClassifier is deprecated and will be removed in a future release. To remove this warning, do the following: 1) Pass option use_label_encoder=False when constructing XGBClassifier object; and 2) Encode your labels (y) as integers starting with 0, i.e. 0, 1, 2, ..., [num_class - 1].\n",
      "  warnings.warn(label_encoder_deprecation_msg, UserWarning)\n"
     ]
    },
    {
     "name": "stdout",
     "output_type": "stream",
     "text": [
      "[08:45:02] WARNING: C:/Users/Administrator/workspace/xgboost-win64_release_1.3.0/src/learner.cc:1061: Starting in XGBoost 1.3.0, the default evaluation metric used with the objective 'binary:logistic' was changed from 'error' to 'logloss'. Explicitly set eval_metric if you'd like to restore the old behavior.\n",
      "Test Accuracy:  0.9626666666666667\n",
      "Precision:  0.5714285714285714\n",
      "Recall:  0.07017543859649122\n",
      "F1-Score:  0.125\n",
      "Sensitivity:  0.07017543859649122\n",
      "Specificity:  0.997920997920998\n",
      "ROC-AUC Score:  0.5340482182587446\n",
      "Log Loss:  1.2894492512715265\n"
     ]
    },
    {
     "data": {
      "text/plain": [
       "<sklearn.metrics._plot.confusion_matrix.ConfusionMatrixDisplay at 0x286df1f7550>"
      ]
     },
     "execution_count": 34,
     "metadata": {},
     "output_type": "execute_result"
    },
    {
     "data": {
      "image/png": "[encoded data removed]",
      "text/plain": [
       "<Figure size 432x288 with 2 Axes>"
      ]
     },
     "metadata": {
      "needs_background": "light"
     },
     "output_type": "display_data"
    }
   ],
   "source": [
    "xgb = XGBClassifier()\n",
    "xgb.fit(x_train, y_train)\n",
    "prediction_xgb = xgb.predict(x_test)\n",
    "\n",
    "conf_matrix = confusion_matrix(y_test, prediction_xgb)\n",
    "TP = conf_matrix[1][1]\n",
    "TN = conf_matrix[0][0]\n",
    "FP = conf_matrix[0][1]\n",
    "FN = conf_matrix[1][0]\n",
    "\n",
    "#Results\n",
    "xgb_accuracy = accuracy_score(y_test,prediction_xgb)\n",
    "xgb_precision = precision_score(y_test,prediction_xgb)\n",
    "xgb_recall = recall_score(y_test,prediction_xgb)\n",
    "xgb_f1_score = f1_score(y_test,prediction_xgb)\n",
    "xgb_sensitivity = TP / float(TP+FN)\n",
    "xgb_specificity = TN / float(TN+FP)\n",
    "xgb_roc_auc_score = roc_auc_score(y_test,prediction_xgb) \n",
    "xgb_log_loss = log_loss(y_test,prediction_xgb)\n",
    "print(\"Test Accuracy: \",accuracy_score(y_test,prediction_xgb))\n",
    "print(\"Precision: \",precision_score(y_test,prediction_xgb))\n",
    "print(\"Recall: \",recall_score(y_test,prediction_xgb))\n",
    "print(\"F1-Score: \",f1_score(y_test,prediction_xgb))\n",
    "print(\"Sensitivity: \",TP / float(TP+FN))\n",
    "print(\"Specificity: \",TN / float(TN+FP))\n",
    "print(\"ROC-AUC Score: \",roc_auc_score(y_test,prediction_xgb))\n",
    "print(\"Log Loss: \",log_loss(y_test,prediction_xgb))\n",
    "plot_confusion_matrix(xgb,x_test,y_test,cmap=plt.cm.Blues)\n",
    "# plot_roc_curve(xgb,x_test,y_test)\n",
    "# plot_precision_recall_curve(xgb,x_test,y_test)"
   ]
  },
  {
   "cell_type": "markdown",
   "id": "equipped-stadium",
   "metadata": {},
   "source": [
    "### Tuned XGB"
   ]
  },
  {
   "cell_type": "code",
   "execution_count": 35,
   "id": "dressed-bridge",
   "metadata": {},
   "outputs": [
    {
     "name": "stderr",
     "output_type": "stream",
     "text": [
      "c:\\users\\dhchaudhary\\appdata\\local\\programs\\python\\python39\\lib\\site-packages\\xgboost\\sklearn.py:888: UserWarning: The use of label encoder in XGBClassifier is deprecated and will be removed in a future release. To remove this warning, do the following: 1) Pass option use_label_encoder=False when constructing XGBClassifier object; and 2) Encode your labels (y) as integers starting with 0, i.e. 0, 1, 2, ..., [num_class - 1].\n",
      "  warnings.warn(label_encoder_deprecation_msg, UserWarning)\n"
     ]
    },
    {
     "name": "stdout",
     "output_type": "stream",
     "text": [
      "[08:52:44] WARNING: C:/Users/Administrator/workspace/xgboost-win64_release_1.3.0/src/learner.cc:1061: Starting in XGBoost 1.3.0, the default evaluation metric used with the objective 'binary:logistic' was changed from 'error' to 'logloss'. Explicitly set eval_metric if you'd like to restore the old behavior.\n",
      "Best: 0.959200 using {'subsample': 0.8, 'n_estimators': 1000, 'min_child_weight': 1, 'max_depth': 3, 'gamma': 1.5, 'colsample_bytree': 1.0}\n",
      "Wall time: 7min 45s\n"
     ]
    }
   ],
   "source": [
    "%%time\n",
    "model = XGBClassifier()\n",
    "random_grid = {\n",
    "        'n_estimators' : [10, 100, 1000],\n",
    "        'min_child_weight': [1, 5, 10],\n",
    "        'gamma': [0.5, 1, 1.5, 2, 5],\n",
    "        'subsample': [0.6, 0.8, 1.0],\n",
    "        'colsample_bytree': [0.6, 0.8, 1.0],\n",
    "        'max_depth': [3, 4, 5]\n",
    "        }\n",
    "# cv = KFold(n_splits=2)\n",
    "cv = RepeatedStratifiedKFold(n_splits=10, n_repeats=3, random_state=1)\n",
    "\n",
    "# gs = GridSearchCV(estimator = XGBClassifier(n_estimators=500), param_grid = grid, scoring='accuracy',n_jobs=-1, cv=cv)\n",
    "random_search = RandomizedSearchCV(estimator=model, param_distributions = random_grid, n_jobs=-1, cv=cv, scoring='accuracy',error_score=0)\n",
    "random_result = random_search.fit(x, y)\n",
    "# summarize results\n",
    "print(\"Best: %f using %s\" % (random_result.best_score_, random_result.best_params_))\n",
    "# means = grid_result.cv_results_['mean_test_score']\n",
    "# stds = grid_result.cv_results_['std_test_score']\n",
    "# params = grid_result.cv_results_['params']\n",
    "# for mean, stdev, param in zip(means, stds, params):\n",
    "#     print(\"%f (%f) with: %r\" % (mean, stdev, param))"
   ]
  },
  {
   "cell_type": "code",
   "execution_count": 36,
   "id": "extensive-graphics",
   "metadata": {},
   "outputs": [
    {
     "data": {
      "text/plain": [
       "XGBClassifier(base_score=0.5, booster='gbtree', colsample_bylevel=1,\n",
       "              colsample_bynode=1, colsample_bytree=1.0, gamma=1.5, gpu_id=-1,\n",
       "              importance_type='gain', interaction_constraints='',\n",
       "              learning_rate=0.300000012, max_delta_step=0, max_depth=3,\n",
       "              min_child_weight=1, missing=nan, monotone_constraints='()',\n",
       "              n_estimators=1000, n_jobs=4, num_parallel_tree=1, random_state=0,\n",
       "              reg_alpha=0, reg_lambda=1, scale_pos_weight=1, subsample=0.8,\n",
       "              tree_method='exact', validate_parameters=1, verbosity=None)"
      ]
     },
     "execution_count": 36,
     "metadata": {},
     "output_type": "execute_result"
    }
   ],
   "source": [
    "random_result.best_estimator_"
   ]
  },
  {
   "cell_type": "code",
   "execution_count": 37,
   "id": "assisted-designer",
   "metadata": {},
   "outputs": [
    {
     "name": "stdout",
     "output_type": "stream",
     "text": [
      "[08:52:49] WARNING: C:/Users/Administrator/workspace/xgboost-win64_release_1.3.0/src/learner.cc:1061: Starting in XGBoost 1.3.0, the default evaluation metric used with the objective 'binary:logistic' was changed from 'error' to 'logloss'. Explicitly set eval_metric if you'd like to restore the old behavior.\n",
      "Test Accuracy:  0.962\n",
      "Precision:  0.5\n",
      "Recall:  0.05263157894736842\n",
      "F1-Score:  0.09523809523809525\n",
      "Sensitivity:  0.05263157894736842\n",
      "Specificity:  0.997920997920998\n",
      "ROC-AUC Score:  0.5252762884341832\n",
      "Log Loss:  1.3124751022014671\n"
     ]
    },
    {
     "data": {
      "text/plain": [
       "<sklearn.metrics._plot.confusion_matrix.ConfusionMatrixDisplay at 0x286df31b1c0>"
      ]
     },
     "execution_count": 37,
     "metadata": {},
     "output_type": "execute_result"
    },
    {
     "data": {
      "image/png": "[encoded data removed]",
      "text/plain": [
       "<Figure size 432x288 with 2 Axes>"
      ]
     },
     "metadata": {
      "needs_background": "light"
     },
     "output_type": "display_data"
    }
   ],
   "source": [
    "xgb_tun = random_result.best_estimator_\n",
    "xgb_tun.fit(x_train, y_train)\n",
    "prediction_xgb_tun = xgb_tun.predict(x_test)\n",
    "\n",
    "conf_matrix = confusion_matrix(y_test, prediction_xgb_tun)\n",
    "TP = conf_matrix[1][1]\n",
    "TN = conf_matrix[0][0]\n",
    "FP = conf_matrix[0][1]\n",
    "FN = conf_matrix[1][0]\n",
    "\n",
    "#Results\n",
    "xgb_tun_accuracy = accuracy_score(y_test,prediction_xgb_tun)\n",
    "xgb_tun_precision = precision_score(y_test,prediction_xgb_tun)\n",
    "xgb_tun_recall = recall_score(y_test,prediction_xgb_tun)\n",
    "xgb_tun_f1_score = f1_score(y_test,prediction_xgb_tun)\n",
    "xgb_tun_sensitivity = TP / float(TP+FN)\n",
    "xgb_tun_specificity = TN / float(TN+FP)\n",
    "xgb_tun_roc_auc_score = roc_auc_score(y_test,prediction_xgb_tun) \n",
    "xgb_tun_log_loss = log_loss(y_test,prediction_xgb_tun)\n",
    "print(\"Test Accuracy: \",accuracy_score(y_test,prediction_xgb_tun))\n",
    "print(\"Precision: \",precision_score(y_test,prediction_xgb_tun))\n",
    "print(\"Recall: \",recall_score(y_test,prediction_xgb_tun))\n",
    "print(\"F1-Score: \",f1_score(y_test,prediction_xgb_tun))\n",
    "print(\"Sensitivity: \",TP / float(TP+FN))\n",
    "print(\"Specificity: \",TN / float(TN+FP))\n",
    "print(\"ROC-AUC Score: \",roc_auc_score(y_test,prediction_xgb_tun))\n",
    "print(\"Log Loss: \",log_loss(y_test,prediction_xgb_tun))\n",
    "plot_confusion_matrix(xgb_tun,x_test,y_test,cmap=plt.cm.Blues)\n",
    "# plot_roc_curve(xgb_tun,x_test,y_test)\n",
    "# plot_precision_recall_curve(xgb_tun,x_test,y_test)"
   ]
  },
  {
   "cell_type": "code",
   "execution_count": 38,
   "id": "loaded-delight",
   "metadata": {},
   "outputs": [],
   "source": [
    "if precision_score(y_test,prediction_xgb_tun)>precision_score(y_test,prediction_xgb):\n",
    "    print(max(precision_score(y_test,prediction_xgb_tun),precision_score(y_test,prediction_xgb) ))"
   ]
  },
  {
   "cell_type": "code",
   "execution_count": 39,
   "id": "exposed-location",
   "metadata": {},
   "outputs": [],
   "source": [
    "all_classification_model = pd.DataFrame(columns=['Accuracy', 'Sensitivity(recall)', 'Specificity', 'Precision', 'F1-Score', 'ROC-AUC Score'])"
   ]
  },
  {
   "cell_type": "code",
   "execution_count": 40,
   "id": "adjusted-heavy",
   "metadata": {},
   "outputs": [
    {
     "data": {
      "text/html": [
       "<div>\n",
       "<style scoped>\n",
       "    .dataframe tbody tr th:only-of-type {\n",
       "        vertical-align: middle;\n",
       "    }\n",
       "\n",
       "    .dataframe tbody tr th {\n",
       "        vertical-align: top;\n",
       "    }\n",
       "\n",
       "    .dataframe thead th {\n",
       "        text-align: right;\n",
       "    }\n",
       "</style>\n",
       "<table border=\"1\" class=\"dataframe\">\n",
       "  <thead>\n",
       "    <tr style=\"text-align: right;\">\n",
       "      <th></th>\n",
       "      <th>Accuracy</th>\n",
       "      <th>Sensitivity(recall)</th>\n",
       "      <th>Specificity</th>\n",
       "      <th>Precision</th>\n",
       "      <th>F1-Score</th>\n",
       "      <th>ROC-AUC Score</th>\n",
       "    </tr>\n",
       "  </thead>\n",
       "  <tbody>\n",
       "  </tbody>\n",
       "</table>\n",
       "</div>"
      ],
      "text/plain": [
       "Empty DataFrame\n",
       "Columns: [Accuracy, Sensitivity(recall), Specificity, Precision, F1-Score, ROC-AUC Score]\n",
       "Index: []"
      ]
     },
     "execution_count": 40,
     "metadata": {},
     "output_type": "execute_result"
    }
   ],
   "source": [
    "all_classification_model"
   ]
  },
  {
   "cell_type": "code",
   "execution_count": 41,
   "id": "american-token",
   "metadata": {},
   "outputs": [],
   "source": [
    "model = ['Logistic', 'Tuned Logistic', 'KNN', 'Tuned KNN', 'Random forest', 'Tuned Random forest', 'Ridge', 'Tuned Ridge', 'SVM', 'Tuned SVM', 'Gradient Boost', 'Tuned Gradient Boost', 'XGB', 'Tuned XGB']"
   ]
  },
  {
   "cell_type": "code",
   "execution_count": 42,
   "id": "based-parallel",
   "metadata": {},
   "outputs": [],
   "source": [
    "# for i in model:\n",
    "all_classification_model.loc['Logistic'] =[log_accuracy, log_sensitivity, log_specificity, log_precision, log_f1_score, log_roc_auc_score]\n",
    "all_classification_model.loc['Tuned Logistic'] =[log_tun_accuracy, log_tun_sensitivity, log_tun_specificity, log_tun_precision, log_tun_f1_score, log_tun_roc_auc_score]\n",
    "all_classification_model.loc['KNN'] =[knn_accuracy, knn_sensitivity, knn_specificity, knn_precision, knn_f1_score, knn_roc_auc_score]\n",
    "all_classification_model.loc['Tuned KNN'] =[knn_tun_accuracy, knn_tun_sensitivity, knn_tun_specificity, knn_tun_precision, knn_tun_f1_score, knn_tun_roc_auc_score]\n",
    "all_classification_model.loc['Random forest'] =[randomf_accuracy, randomf_sensitivity, randomf_specificity, randomf_precision, randomf_f1_score, randomf_roc_auc_score]\n",
    "all_classification_model.loc['Tuned Random forest'] =[randomf_tun_accuracy, randomf_tun_sensitivity, randomf_tun_specificity, randomf_tun_precision, randomf_tun_f1_score, randomf_tun_roc_auc_score]\n",
    "all_classification_model.loc['Ridge'] =[ridge_accuracy, ridge_sensitivity, ridge_specificity, ridge_precision, ridge_f1_score, ridge_roc_auc_score]\n",
    "all_classification_model.loc['Tuned Ridge'] =[ridge_tun_accuracy, ridge_tun_sensitivity, ridge_tun_specificity, ridge_tun_precision, ridge_tun_f1_score, ridge_tun_roc_auc_score]\n",
    "all_classification_model.loc['SVM'] =[svc_accuracy, svc_sensitivity, svc_specificity, svc_precision, svc_f1_score, svc_roc_auc_score]\n",
    "all_classification_model.loc['Tuned SVM'] =[svc_tun_accuracy, svc_tun_sensitivity, svc_tun_specificity, svc_tun_precision, svc_tun_f1_score, svc_tun_roc_auc_score]\n",
    "all_classification_model.loc['Gradient Boost'] =[gradientbos_accuracy, gradientbos_sensitivity, gradientbos_specificity, gradientbos_precision, gradientbos_f1_score, gradientbos_roc_auc_score]\n",
    "all_classification_model.loc['Tuned Gradient Boost'] =[gradientbos_tun_accuracy, gradientbos_tun_sensitivity, gradientbos_tun_specificity, gradientbos_tun_precision, gradientbos_tun_f1_score, gradientbos_tun_roc_auc_score]\n",
    "all_classification_model.loc['XGB'] =[xgb_accuracy, xgb_sensitivity, xgb_specificity, xgb_precision, xgb_f1_score, xgb_roc_auc_score]\n",
    "all_classification_model.loc['Tuned XGB'] =[xgb_tun_accuracy, xgb_tun_sensitivity, xgb_tun_specificity, xgb_tun_precision, xgb_tun_f1_score, xgb_tun_roc_auc_score]\n",
    "\n",
    "\n",
    "\n"
   ]
  },
  {
   "cell_type": "code",
   "execution_count": 43,
   "id": "outer-local",
   "metadata": {},
   "outputs": [
    {
     "data": {
      "text/html": [
       "<div>\n",
       "<style scoped>\n",
       "    .dataframe tbody tr th:only-of-type {\n",
       "        vertical-align: middle;\n",
       "    }\n",
       "\n",
       "    .dataframe tbody tr th {\n",
       "        vertical-align: top;\n",
       "    }\n",
       "\n",
       "    .dataframe thead th {\n",
       "        text-align: right;\n",
       "    }\n",
       "</style>\n",
       "<table border=\"1\" class=\"dataframe\">\n",
       "  <thead>\n",
       "    <tr style=\"text-align: right;\">\n",
       "      <th></th>\n",
       "      <th>Accuracy</th>\n",
       "      <th>Sensitivity(recall)</th>\n",
       "      <th>Specificity</th>\n",
       "      <th>Precision</th>\n",
       "      <th>F1-Score</th>\n",
       "      <th>ROC-AUC Score</th>\n",
       "    </tr>\n",
       "  </thead>\n",
       "  <tbody>\n",
       "    <tr>\n",
       "      <th>Logistic</th>\n",
       "      <td>0.965333</td>\n",
       "      <td>0.087719</td>\n",
       "      <td>1.000000</td>\n",
       "      <td>1.000000</td>\n",
       "      <td>0.161290</td>\n",
       "      <td>0.543860</td>\n",
       "    </tr>\n",
       "    <tr>\n",
       "      <th>Tuned Logistic</th>\n",
       "      <td>0.966000</td>\n",
       "      <td>0.105263</td>\n",
       "      <td>1.000000</td>\n",
       "      <td>1.000000</td>\n",
       "      <td>0.190476</td>\n",
       "      <td>0.552632</td>\n",
       "    </tr>\n",
       "    <tr>\n",
       "      <th>KNN</th>\n",
       "      <td>0.964000</td>\n",
       "      <td>0.157895</td>\n",
       "      <td>0.995842</td>\n",
       "      <td>0.600000</td>\n",
       "      <td>0.250000</td>\n",
       "      <td>0.576868</td>\n",
       "    </tr>\n",
       "    <tr>\n",
       "      <th>Tuned KNN</th>\n",
       "      <td>0.962000</td>\n",
       "      <td>0.070175</td>\n",
       "      <td>0.997228</td>\n",
       "      <td>0.500000</td>\n",
       "      <td>0.123077</td>\n",
       "      <td>0.533702</td>\n",
       "    </tr>\n",
       "    <tr>\n",
       "      <th>Random forest</th>\n",
       "      <td>0.964667</td>\n",
       "      <td>0.122807</td>\n",
       "      <td>0.997921</td>\n",
       "      <td>0.700000</td>\n",
       "      <td>0.208955</td>\n",
       "      <td>0.560364</td>\n",
       "    </tr>\n",
       "    <tr>\n",
       "      <th>Tuned Random forest</th>\n",
       "      <td>0.964667</td>\n",
       "      <td>0.105263</td>\n",
       "      <td>0.998614</td>\n",
       "      <td>0.750000</td>\n",
       "      <td>0.184615</td>\n",
       "      <td>0.551939</td>\n",
       "    </tr>\n",
       "    <tr>\n",
       "      <th>Ridge</th>\n",
       "      <td>0.966000</td>\n",
       "      <td>0.105263</td>\n",
       "      <td>1.000000</td>\n",
       "      <td>1.000000</td>\n",
       "      <td>0.190476</td>\n",
       "      <td>0.552632</td>\n",
       "    </tr>\n",
       "    <tr>\n",
       "      <th>Tuned Ridge</th>\n",
       "      <td>0.966000</td>\n",
       "      <td>0.105263</td>\n",
       "      <td>1.000000</td>\n",
       "      <td>1.000000</td>\n",
       "      <td>0.190476</td>\n",
       "      <td>0.552632</td>\n",
       "    </tr>\n",
       "    <tr>\n",
       "      <th>SVM</th>\n",
       "      <td>0.962667</td>\n",
       "      <td>0.035088</td>\n",
       "      <td>0.999307</td>\n",
       "      <td>0.666667</td>\n",
       "      <td>0.066667</td>\n",
       "      <td>0.517197</td>\n",
       "    </tr>\n",
       "    <tr>\n",
       "      <th>Tuned SVM</th>\n",
       "      <td>0.962000</td>\n",
       "      <td>0.052632</td>\n",
       "      <td>0.997921</td>\n",
       "      <td>0.500000</td>\n",
       "      <td>0.095238</td>\n",
       "      <td>0.525276</td>\n",
       "    </tr>\n",
       "    <tr>\n",
       "      <th>Gradient Boost</th>\n",
       "      <td>0.964667</td>\n",
       "      <td>0.105263</td>\n",
       "      <td>0.998614</td>\n",
       "      <td>0.750000</td>\n",
       "      <td>0.184615</td>\n",
       "      <td>0.551939</td>\n",
       "    </tr>\n",
       "    <tr>\n",
       "      <th>Tuned Gradient Boost</th>\n",
       "      <td>0.964667</td>\n",
       "      <td>0.122807</td>\n",
       "      <td>0.997921</td>\n",
       "      <td>0.700000</td>\n",
       "      <td>0.208955</td>\n",
       "      <td>0.560364</td>\n",
       "    </tr>\n",
       "    <tr>\n",
       "      <th>XGB</th>\n",
       "      <td>0.962667</td>\n",
       "      <td>0.070175</td>\n",
       "      <td>0.997921</td>\n",
       "      <td>0.571429</td>\n",
       "      <td>0.125000</td>\n",
       "      <td>0.534048</td>\n",
       "    </tr>\n",
       "    <tr>\n",
       "      <th>Tuned XGB</th>\n",
       "      <td>0.962000</td>\n",
       "      <td>0.052632</td>\n",
       "      <td>0.997921</td>\n",
       "      <td>0.500000</td>\n",
       "      <td>0.095238</td>\n",
       "      <td>0.525276</td>\n",
       "    </tr>\n",
       "  </tbody>\n",
       "</table>\n",
       "</div>"
      ],
      "text/plain": [
       "                      Accuracy  Sensitivity(recall)  Specificity  Precision  \\\n",
       "Logistic              0.965333             0.087719     1.000000   1.000000   \n",
       "Tuned Logistic        0.966000             0.105263     1.000000   1.000000   \n",
       "KNN                   0.964000             0.157895     0.995842   0.600000   \n",
       "Tuned KNN             0.962000             0.070175     0.997228   0.500000   \n",
       "Random forest         0.964667             0.122807     0.997921   0.700000   \n",
       "Tuned Random forest   0.964667             0.105263     0.998614   0.750000   \n",
       "Ridge                 0.966000             0.105263     1.000000   1.000000   \n",
       "Tuned Ridge           0.966000             0.105263     1.000000   1.000000   \n",
       "SVM                   0.962667             0.035088     0.999307   0.666667   \n",
       "Tuned SVM             0.962000             0.052632     0.997921   0.500000   \n",
       "Gradient Boost        0.964667             0.105263     0.998614   0.750000   \n",
       "Tuned Gradient Boost  0.964667             0.122807     0.997921   0.700000   \n",
       "XGB                   0.962667             0.070175     0.997921   0.571429   \n",
       "Tuned XGB             0.962000             0.052632     0.997921   0.500000   \n",
       "\n",
       "                      F1-Score  ROC-AUC Score  \n",
       "Logistic              0.161290       0.543860  \n",
       "Tuned Logistic        0.190476       0.552632  \n",
       "KNN                   0.250000       0.576868  \n",
       "Tuned KNN             0.123077       0.533702  \n",
       "Random forest         0.208955       0.560364  \n",
       "Tuned Random forest   0.184615       0.551939  \n",
       "Ridge                 0.190476       0.552632  \n",
       "Tuned Ridge           0.190476       0.552632  \n",
       "SVM                   0.066667       0.517197  \n",
       "Tuned SVM             0.095238       0.525276  \n",
       "Gradient Boost        0.184615       0.551939  \n",
       "Tuned Gradient Boost  0.208955       0.560364  \n",
       "XGB                   0.125000       0.534048  \n",
       "Tuned XGB             0.095238       0.525276  "
      ]
     },
     "execution_count": 43,
     "metadata": {},
     "output_type": "execute_result"
    }
   ],
   "source": [
    "all_classification_model"
   ]
  },
  {
   "cell_type": "code",
   "execution_count": null,
   "id": "loaded-means",
   "metadata": {},
   "outputs": [],
   "source": []
  },
  {
   "cell_type": "code",
   "execution_count": null,
   "id": "automatic-patio",
   "metadata": {},
   "outputs": [],
   "source": []
  },
  {
   "cell_type": "code",
   "execution_count": null,
   "id": "sophisticated-causing",
   "metadata": {},
   "outputs": [],
   "source": []
  },
  {
   "cell_type": "code",
   "execution_count": null,
   "id": "dutch-evening",
   "metadata": {},
   "outputs": [],
   "source": []
  },
  {
   "cell_type": "code",
   "execution_count": null,
   "id": "instrumental-arrival",
   "metadata": {},
   "outputs": [],
   "source": []
  },
  {
   "cell_type": "code",
   "execution_count": null,
   "id": "architectural-flexibility",
   "metadata": {},
   "outputs": [],
   "source": []
  },
  {
   "cell_type": "code",
   "execution_count": null,
   "id": "round-daisy",
   "metadata": {},
   "outputs": [],
   "source": []
  },
  {
   "cell_type": "code",
   "execution_count": null,
   "id": "oriented-indian",
   "metadata": {},
   "outputs": [],
   "source": []
  }
 ],
 "metadata": {
  "kernelspec": {
   "display_name": "Python 3",
   "language": "python",
   "name": "python3"
  },
  "language_info": {
   "codemirror_mode": {
    "name": "ipython",
    "version": 3
   },
   "file_extension": ".py",
   "mimetype": "text/x-python",
   "name": "python",
   "nbconvert_exporter": "python",
   "pygments_lexer": "ipython3",
   "version": "3.9.2"
  }
 },
 "nbformat": 4,
 "nbformat_minor": 5
}
