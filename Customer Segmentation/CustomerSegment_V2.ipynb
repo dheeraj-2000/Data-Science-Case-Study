{
 "cells": [
  {
   "cell_type": "markdown",
   "id": "demonstrated-steam",
   "metadata": {},
   "source": [
    "# Customer Segmentation Classification\n",
    "\n",
    "## _Context (Use Case)_\n",
    "An *automobile company* has plans to enter new markets with their existing products (P1, P2, P3, P4, and P5). After intensive market research, they’ve deduced that the behavior of the new market is similar to their existing market.\n",
    "\n",
    "In their existing market, the sales team has classified all customers into 4 segments (A, B, C, D ). Then, they performed segmented outreach and communication for a different segment of customers. This strategy has work e exceptionally well for them. They plan to use the same strategy for the new markets and have identified 2627 new potential customers.\n",
    "\n",
    "You are required to help the manager to predict the right group of the new customers."
   ]
  },
  {
   "cell_type": "code",
   "execution_count": 238,
   "id": "rubber-samoa",
   "metadata": {},
   "outputs": [],
   "source": [
    "# libraries\n",
    "import pandas as pd\n",
    "import numpy as np\n",
    "import matplotlib.pyplot as plt\n",
    "%matplotlib inline\n",
    "import seaborn as sns"
   ]
  },
  {
   "cell_type": "markdown",
   "id": "signal-workplace",
   "metadata": {},
   "source": [
    "## Import Test & Train datasets"
   ]
  },
  {
   "cell_type": "code",
   "execution_count": 239,
   "id": "willing-edwards",
   "metadata": {},
   "outputs": [],
   "source": [
    "train_df = pd.read_csv(r\"C:\\Users\\dhchaudhary\\Desktop\\MasterProject\\Data_Science_Case_Studies\\Train.csv\")\n",
    "test_df = pd.read_csv(r\"C:\\Users\\dhchaudhary\\Desktop\\MasterProject\\Data_Science_Case_Studies\\Test.csv\")"
   ]
  },
  {
   "cell_type": "code",
   "execution_count": 240,
   "id": "blessed-girlfriend",
   "metadata": {},
   "outputs": [
    {
     "data": {
      "text/html": [
       "<div>\n",
       "<style scoped>\n",
       "    .dataframe tbody tr th:only-of-type {\n",
       "        vertical-align: middle;\n",
       "    }\n",
       "\n",
       "    .dataframe tbody tr th {\n",
       "        vertical-align: top;\n",
       "    }\n",
       "\n",
       "    .dataframe thead th {\n",
       "        text-align: right;\n",
       "    }\n",
       "</style>\n",
       "<table border=\"1\" class=\"dataframe\">\n",
       "  <thead>\n",
       "    <tr style=\"text-align: right;\">\n",
       "      <th></th>\n",
       "      <th>ID</th>\n",
       "      <th>Gender</th>\n",
       "      <th>Ever_Married</th>\n",
       "      <th>Age</th>\n",
       "      <th>Graduated</th>\n",
       "      <th>Profession</th>\n",
       "      <th>Work_Experience</th>\n",
       "      <th>Spending_Score</th>\n",
       "      <th>Family_Size</th>\n",
       "      <th>Var_1</th>\n",
       "      <th>Segmentation</th>\n",
       "    </tr>\n",
       "  </thead>\n",
       "  <tbody>\n",
       "    <tr>\n",
       "      <th>0</th>\n",
       "      <td>462809</td>\n",
       "      <td>Male</td>\n",
       "      <td>No</td>\n",
       "      <td>22</td>\n",
       "      <td>No</td>\n",
       "      <td>Healthcare</td>\n",
       "      <td>1.0</td>\n",
       "      <td>Low</td>\n",
       "      <td>4.0</td>\n",
       "      <td>Cat_4</td>\n",
       "      <td>D</td>\n",
       "    </tr>\n",
       "    <tr>\n",
       "      <th>1</th>\n",
       "      <td>462643</td>\n",
       "      <td>Female</td>\n",
       "      <td>Yes</td>\n",
       "      <td>38</td>\n",
       "      <td>Yes</td>\n",
       "      <td>Engineer</td>\n",
       "      <td>NaN</td>\n",
       "      <td>Average</td>\n",
       "      <td>3.0</td>\n",
       "      <td>Cat_4</td>\n",
       "      <td>A</td>\n",
       "    </tr>\n",
       "    <tr>\n",
       "      <th>2</th>\n",
       "      <td>466315</td>\n",
       "      <td>Female</td>\n",
       "      <td>Yes</td>\n",
       "      <td>67</td>\n",
       "      <td>Yes</td>\n",
       "      <td>Engineer</td>\n",
       "      <td>1.0</td>\n",
       "      <td>Low</td>\n",
       "      <td>1.0</td>\n",
       "      <td>Cat_6</td>\n",
       "      <td>B</td>\n",
       "    </tr>\n",
       "    <tr>\n",
       "      <th>3</th>\n",
       "      <td>461735</td>\n",
       "      <td>Male</td>\n",
       "      <td>Yes</td>\n",
       "      <td>67</td>\n",
       "      <td>Yes</td>\n",
       "      <td>Lawyer</td>\n",
       "      <td>0.0</td>\n",
       "      <td>High</td>\n",
       "      <td>2.0</td>\n",
       "      <td>Cat_6</td>\n",
       "      <td>B</td>\n",
       "    </tr>\n",
       "    <tr>\n",
       "      <th>4</th>\n",
       "      <td>462669</td>\n",
       "      <td>Female</td>\n",
       "      <td>Yes</td>\n",
       "      <td>40</td>\n",
       "      <td>Yes</td>\n",
       "      <td>Entertainment</td>\n",
       "      <td>NaN</td>\n",
       "      <td>High</td>\n",
       "      <td>6.0</td>\n",
       "      <td>Cat_6</td>\n",
       "      <td>A</td>\n",
       "    </tr>\n",
       "  </tbody>\n",
       "</table>\n",
       "</div>"
      ],
      "text/plain": [
       "       ID  Gender Ever_Married  Age Graduated     Profession  Work_Experience  \\\n",
       "0  462809    Male           No   22        No     Healthcare              1.0   \n",
       "1  462643  Female          Yes   38       Yes       Engineer              NaN   \n",
       "2  466315  Female          Yes   67       Yes       Engineer              1.0   \n",
       "3  461735    Male          Yes   67       Yes         Lawyer              0.0   \n",
       "4  462669  Female          Yes   40       Yes  Entertainment              NaN   \n",
       "\n",
       "  Spending_Score  Family_Size  Var_1 Segmentation  \n",
       "0            Low          4.0  Cat_4            D  \n",
       "1        Average          3.0  Cat_4            A  \n",
       "2            Low          1.0  Cat_6            B  \n",
       "3           High          2.0  Cat_6            B  \n",
       "4           High          6.0  Cat_6            A  "
      ]
     },
     "execution_count": 240,
     "metadata": {},
     "output_type": "execute_result"
    }
   ],
   "source": [
    "train_df.head()"
   ]
  },
  {
   "cell_type": "code",
   "execution_count": 241,
   "id": "antique-brother",
   "metadata": {},
   "outputs": [
    {
     "data": {
      "text/plain": [
       "(8068, 11)"
      ]
     },
     "execution_count": 241,
     "metadata": {},
     "output_type": "execute_result"
    }
   ],
   "source": [
    "train_df.shape"
   ]
  },
  {
   "cell_type": "code",
   "execution_count": 242,
   "id": "political-passage",
   "metadata": {},
   "outputs": [
    {
     "data": {
      "text/plain": [
       "(2627, 10)"
      ]
     },
     "execution_count": 242,
     "metadata": {},
     "output_type": "execute_result"
    }
   ],
   "source": [
    "test_df.shape"
   ]
  },
  {
   "cell_type": "code",
   "execution_count": 243,
   "id": "spare-liberty",
   "metadata": {},
   "outputs": [
    {
     "data": {
      "text/plain": [
       "0    D\n",
       "1    A\n",
       "2    B\n",
       "3    B\n",
       "4    A\n",
       "Name: Segmentation, dtype: object"
      ]
     },
     "execution_count": 243,
     "metadata": {},
     "output_type": "execute_result"
    }
   ],
   "source": [
    "x = train_df.iloc[:, -1]\n",
    "x.head()"
   ]
  },
  {
   "cell_type": "code",
   "execution_count": 244,
   "id": "dominant-algorithm",
   "metadata": {},
   "outputs": [
    {
     "data": {
      "text/html": [
       "<div>\n",
       "<style scoped>\n",
       "    .dataframe tbody tr th:only-of-type {\n",
       "        vertical-align: middle;\n",
       "    }\n",
       "\n",
       "    .dataframe tbody tr th {\n",
       "        vertical-align: top;\n",
       "    }\n",
       "\n",
       "    .dataframe thead th {\n",
       "        text-align: right;\n",
       "    }\n",
       "</style>\n",
       "<table border=\"1\" class=\"dataframe\">\n",
       "  <thead>\n",
       "    <tr style=\"text-align: right;\">\n",
       "      <th></th>\n",
       "      <th>ID</th>\n",
       "      <th>Gender</th>\n",
       "      <th>Ever_Married</th>\n",
       "      <th>Age</th>\n",
       "      <th>Graduated</th>\n",
       "      <th>Profession</th>\n",
       "      <th>Work_Experience</th>\n",
       "      <th>Spending_Score</th>\n",
       "      <th>Family_Size</th>\n",
       "      <th>Var_1</th>\n",
       "    </tr>\n",
       "  </thead>\n",
       "  <tbody>\n",
       "    <tr>\n",
       "      <th>0</th>\n",
       "      <td>462809</td>\n",
       "      <td>Male</td>\n",
       "      <td>No</td>\n",
       "      <td>22</td>\n",
       "      <td>No</td>\n",
       "      <td>Healthcare</td>\n",
       "      <td>1.0</td>\n",
       "      <td>Low</td>\n",
       "      <td>4.0</td>\n",
       "      <td>Cat_4</td>\n",
       "    </tr>\n",
       "    <tr>\n",
       "      <th>1</th>\n",
       "      <td>462643</td>\n",
       "      <td>Female</td>\n",
       "      <td>Yes</td>\n",
       "      <td>38</td>\n",
       "      <td>Yes</td>\n",
       "      <td>Engineer</td>\n",
       "      <td>NaN</td>\n",
       "      <td>Average</td>\n",
       "      <td>3.0</td>\n",
       "      <td>Cat_4</td>\n",
       "    </tr>\n",
       "    <tr>\n",
       "      <th>2</th>\n",
       "      <td>466315</td>\n",
       "      <td>Female</td>\n",
       "      <td>Yes</td>\n",
       "      <td>67</td>\n",
       "      <td>Yes</td>\n",
       "      <td>Engineer</td>\n",
       "      <td>1.0</td>\n",
       "      <td>Low</td>\n",
       "      <td>1.0</td>\n",
       "      <td>Cat_6</td>\n",
       "    </tr>\n",
       "    <tr>\n",
       "      <th>3</th>\n",
       "      <td>461735</td>\n",
       "      <td>Male</td>\n",
       "      <td>Yes</td>\n",
       "      <td>67</td>\n",
       "      <td>Yes</td>\n",
       "      <td>Lawyer</td>\n",
       "      <td>0.0</td>\n",
       "      <td>High</td>\n",
       "      <td>2.0</td>\n",
       "      <td>Cat_6</td>\n",
       "    </tr>\n",
       "    <tr>\n",
       "      <th>4</th>\n",
       "      <td>462669</td>\n",
       "      <td>Female</td>\n",
       "      <td>Yes</td>\n",
       "      <td>40</td>\n",
       "      <td>Yes</td>\n",
       "      <td>Entertainment</td>\n",
       "      <td>NaN</td>\n",
       "      <td>High</td>\n",
       "      <td>6.0</td>\n",
       "      <td>Cat_6</td>\n",
       "    </tr>\n",
       "  </tbody>\n",
       "</table>\n",
       "</div>"
      ],
      "text/plain": [
       "       ID  Gender Ever_Married  Age Graduated     Profession  Work_Experience  \\\n",
       "0  462809    Male           No   22        No     Healthcare              1.0   \n",
       "1  462643  Female          Yes   38       Yes       Engineer              NaN   \n",
       "2  466315  Female          Yes   67       Yes       Engineer              1.0   \n",
       "3  461735    Male          Yes   67       Yes         Lawyer              0.0   \n",
       "4  462669  Female          Yes   40       Yes  Entertainment              NaN   \n",
       "\n",
       "  Spending_Score  Family_Size  Var_1  \n",
       "0            Low          4.0  Cat_4  \n",
       "1        Average          3.0  Cat_4  \n",
       "2            Low          1.0  Cat_6  \n",
       "3           High          2.0  Cat_6  \n",
       "4           High          6.0  Cat_6  "
      ]
     },
     "execution_count": 244,
     "metadata": {},
     "output_type": "execute_result"
    }
   ],
   "source": [
    "train_df.drop(['Segmentation'], axis=1, inplace=True)\n",
    "train_df.head()"
   ]
  },
  {
   "cell_type": "code",
   "execution_count": 245,
   "id": "cardiovascular-cinema",
   "metadata": {},
   "outputs": [],
   "source": [
    "f = pd.concat([train_df, test_df], axis =0)"
   ]
  },
  {
   "cell_type": "code",
   "execution_count": 169,
   "id": "proprietary-pharmacy",
   "metadata": {},
   "outputs": [
    {
     "data": {
      "text/plain": [
       "(10695, 10)"
      ]
     },
     "execution_count": 169,
     "metadata": {},
     "output_type": "execute_result"
    }
   ],
   "source": [
    "f.shape"
   ]
  },
  {
   "cell_type": "code",
   "execution_count": 73,
   "id": "chronic-credit",
   "metadata": {},
   "outputs": [],
   "source": [
    "# test_df = pd.read_csv(r\"C:\\Users\\dhchaudhary\\Desktop\\MasterProject\\Data_Science_Case_Studies\\Test.csv\")\n",
    "# test_df.head()"
   ]
  },
  {
   "cell_type": "code",
   "execution_count": 74,
   "id": "brutal-decrease",
   "metadata": {},
   "outputs": [],
   "source": [
    "# test_df.shape"
   ]
  },
  {
   "cell_type": "markdown",
   "id": "competitive-disney",
   "metadata": {},
   "source": [
    "# Exploratory Data Analysis"
   ]
  },
  {
   "cell_type": "code",
   "execution_count": 246,
   "id": "synthetic-championship",
   "metadata": {},
   "outputs": [],
   "source": [
    "tdf = test_df.copy()"
   ]
  },
  {
   "cell_type": "markdown",
   "id": "confidential-third",
   "metadata": {},
   "source": [
    "### Numerical Feature"
   ]
  },
  {
   "cell_type": "code",
   "execution_count": 27,
   "id": "blind-advice",
   "metadata": {},
   "outputs": [],
   "source": [
    "change_var = {\"Segmentation\":     {\"A\": 1, \"B\": 2, \"C\": 3, \"D\":4}}"
   ]
  },
  {
   "cell_type": "code",
   "execution_count": 28,
   "id": "distinguished-tuning",
   "metadata": {},
   "outputs": [
    {
     "data": {
      "text/html": [
       "<div>\n",
       "<style scoped>\n",
       "    .dataframe tbody tr th:only-of-type {\n",
       "        vertical-align: middle;\n",
       "    }\n",
       "\n",
       "    .dataframe tbody tr th {\n",
       "        vertical-align: top;\n",
       "    }\n",
       "\n",
       "    .dataframe thead th {\n",
       "        text-align: right;\n",
       "    }\n",
       "</style>\n",
       "<table border=\"1\" class=\"dataframe\">\n",
       "  <thead>\n",
       "    <tr style=\"text-align: right;\">\n",
       "      <th></th>\n",
       "      <th>ID</th>\n",
       "      <th>Gender</th>\n",
       "      <th>Ever_Married</th>\n",
       "      <th>Age</th>\n",
       "      <th>Graduated</th>\n",
       "      <th>Profession</th>\n",
       "      <th>Work_Experience</th>\n",
       "      <th>Spending_Score</th>\n",
       "      <th>Family_Size</th>\n",
       "      <th>Var_1</th>\n",
       "      <th>Segmentation</th>\n",
       "    </tr>\n",
       "  </thead>\n",
       "  <tbody>\n",
       "    <tr>\n",
       "      <th>0</th>\n",
       "      <td>462809</td>\n",
       "      <td>Male</td>\n",
       "      <td>No</td>\n",
       "      <td>22</td>\n",
       "      <td>No</td>\n",
       "      <td>Healthcare</td>\n",
       "      <td>1.0</td>\n",
       "      <td>Low</td>\n",
       "      <td>4.0</td>\n",
       "      <td>Cat_4</td>\n",
       "      <td>4</td>\n",
       "    </tr>\n",
       "    <tr>\n",
       "      <th>1</th>\n",
       "      <td>462643</td>\n",
       "      <td>Female</td>\n",
       "      <td>Yes</td>\n",
       "      <td>38</td>\n",
       "      <td>Yes</td>\n",
       "      <td>Engineer</td>\n",
       "      <td>NaN</td>\n",
       "      <td>Average</td>\n",
       "      <td>3.0</td>\n",
       "      <td>Cat_4</td>\n",
       "      <td>1</td>\n",
       "    </tr>\n",
       "    <tr>\n",
       "      <th>2</th>\n",
       "      <td>466315</td>\n",
       "      <td>Female</td>\n",
       "      <td>Yes</td>\n",
       "      <td>67</td>\n",
       "      <td>Yes</td>\n",
       "      <td>Engineer</td>\n",
       "      <td>1.0</td>\n",
       "      <td>Low</td>\n",
       "      <td>1.0</td>\n",
       "      <td>Cat_6</td>\n",
       "      <td>2</td>\n",
       "    </tr>\n",
       "    <tr>\n",
       "      <th>3</th>\n",
       "      <td>461735</td>\n",
       "      <td>Male</td>\n",
       "      <td>Yes</td>\n",
       "      <td>67</td>\n",
       "      <td>Yes</td>\n",
       "      <td>Lawyer</td>\n",
       "      <td>0.0</td>\n",
       "      <td>High</td>\n",
       "      <td>2.0</td>\n",
       "      <td>Cat_6</td>\n",
       "      <td>2</td>\n",
       "    </tr>\n",
       "    <tr>\n",
       "      <th>4</th>\n",
       "      <td>462669</td>\n",
       "      <td>Female</td>\n",
       "      <td>Yes</td>\n",
       "      <td>40</td>\n",
       "      <td>Yes</td>\n",
       "      <td>Entertainment</td>\n",
       "      <td>NaN</td>\n",
       "      <td>High</td>\n",
       "      <td>6.0</td>\n",
       "      <td>Cat_6</td>\n",
       "      <td>1</td>\n",
       "    </tr>\n",
       "  </tbody>\n",
       "</table>\n",
       "</div>"
      ],
      "text/plain": [
       "       ID  Gender Ever_Married  Age Graduated     Profession  Work_Experience  \\\n",
       "0  462809    Male           No   22        No     Healthcare              1.0   \n",
       "1  462643  Female          Yes   38       Yes       Engineer              NaN   \n",
       "2  466315  Female          Yes   67       Yes       Engineer              1.0   \n",
       "3  461735    Male          Yes   67       Yes         Lawyer              0.0   \n",
       "4  462669  Female          Yes   40       Yes  Entertainment              NaN   \n",
       "\n",
       "  Spending_Score  Family_Size  Var_1  Segmentation  \n",
       "0            Low          4.0  Cat_4             4  \n",
       "1        Average          3.0  Cat_4             1  \n",
       "2            Low          1.0  Cat_6             2  \n",
       "3           High          2.0  Cat_6             2  \n",
       "4           High          6.0  Cat_6             1  "
      ]
     },
     "execution_count": 28,
     "metadata": {},
     "output_type": "execute_result"
    }
   ],
   "source": [
    "df = df.replace(change_var)\n",
    "df.head()"
   ]
  },
  {
   "cell_type": "code",
   "execution_count": 29,
   "id": "periodic-uncertainty",
   "metadata": {},
   "outputs": [
    {
     "data": {
      "text/html": [
       "<div>\n",
       "<style scoped>\n",
       "    .dataframe tbody tr th:only-of-type {\n",
       "        vertical-align: middle;\n",
       "    }\n",
       "\n",
       "    .dataframe tbody tr th {\n",
       "        vertical-align: top;\n",
       "    }\n",
       "\n",
       "    .dataframe thead th {\n",
       "        text-align: right;\n",
       "    }\n",
       "</style>\n",
       "<table border=\"1\" class=\"dataframe\">\n",
       "  <thead>\n",
       "    <tr style=\"text-align: right;\">\n",
       "      <th></th>\n",
       "      <th>ID</th>\n",
       "      <th>Age</th>\n",
       "      <th>Work_Experience</th>\n",
       "      <th>Family_Size</th>\n",
       "      <th>Segmentation</th>\n",
       "    </tr>\n",
       "  </thead>\n",
       "  <tbody>\n",
       "    <tr>\n",
       "      <th>ID</th>\n",
       "      <td>1.000000</td>\n",
       "      <td>-0.005055</td>\n",
       "      <td>-0.030688</td>\n",
       "      <td>0.011801</td>\n",
       "      <td>-0.009104</td>\n",
       "    </tr>\n",
       "    <tr>\n",
       "      <th>Age</th>\n",
       "      <td>-0.005055</td>\n",
       "      <td>1.000000</td>\n",
       "      <td>-0.190789</td>\n",
       "      <td>-0.280517</td>\n",
       "      <td>-0.243552</td>\n",
       "    </tr>\n",
       "    <tr>\n",
       "      <th>Work_Experience</th>\n",
       "      <td>-0.030688</td>\n",
       "      <td>-0.190789</td>\n",
       "      <td>1.000000</td>\n",
       "      <td>-0.063234</td>\n",
       "      <td>0.012993</td>\n",
       "    </tr>\n",
       "    <tr>\n",
       "      <th>Family_Size</th>\n",
       "      <td>0.011801</td>\n",
       "      <td>-0.280517</td>\n",
       "      <td>-0.063234</td>\n",
       "      <td>1.000000</td>\n",
       "      <td>0.196213</td>\n",
       "    </tr>\n",
       "    <tr>\n",
       "      <th>Segmentation</th>\n",
       "      <td>-0.009104</td>\n",
       "      <td>-0.243552</td>\n",
       "      <td>0.012993</td>\n",
       "      <td>0.196213</td>\n",
       "      <td>1.000000</td>\n",
       "    </tr>\n",
       "  </tbody>\n",
       "</table>\n",
       "</div>"
      ],
      "text/plain": [
       "                       ID       Age  Work_Experience  Family_Size  \\\n",
       "ID               1.000000 -0.005055        -0.030688     0.011801   \n",
       "Age             -0.005055  1.000000        -0.190789    -0.280517   \n",
       "Work_Experience -0.030688 -0.190789         1.000000    -0.063234   \n",
       "Family_Size      0.011801 -0.280517        -0.063234     1.000000   \n",
       "Segmentation    -0.009104 -0.243552         0.012993     0.196213   \n",
       "\n",
       "                 Segmentation  \n",
       "ID                  -0.009104  \n",
       "Age                 -0.243552  \n",
       "Work_Experience      0.012993  \n",
       "Family_Size          0.196213  \n",
       "Segmentation         1.000000  "
      ]
     },
     "execution_count": 29,
     "metadata": {},
     "output_type": "execute_result"
    }
   ],
   "source": [
    "df.corr()"
   ]
  },
  {
   "cell_type": "markdown",
   "id": "embedded-regression",
   "metadata": {},
   "source": [
    "# Cleaning & Feature Engineering"
   ]
  },
  {
   "cell_type": "markdown",
   "id": "hired-country",
   "metadata": {},
   "source": [
    "## 1. Removing Nan Values"
   ]
  },
  {
   "cell_type": "code",
   "execution_count": 254,
   "id": "european-shipping",
   "metadata": {},
   "outputs": [
    {
     "data": {
      "text/plain": [
       "ID                   0\n",
       "Gender               0\n",
       "Ever_Married        50\n",
       "Age                  0\n",
       "Graduated           24\n",
       "Profession          38\n",
       "Work_Experience    269\n",
       "Spending_Score       0\n",
       "Family_Size        113\n",
       "Var_1               32\n",
       "dtype: int64"
      ]
     },
     "execution_count": 254,
     "metadata": {},
     "output_type": "execute_result"
    }
   ],
   "source": [
    "tdf.isnull().sum()"
   ]
  },
  {
   "cell_type": "code",
   "execution_count": null,
   "id": "eligible-springfield",
   "metadata": {},
   "outputs": [],
   "source": []
  },
  {
   "cell_type": "markdown",
   "id": "universal-haiti",
   "metadata": {},
   "source": [
    "# ------------------------------------------------------------------------"
   ]
  },
  {
   "cell_type": "code",
   "execution_count": 178,
   "id": "toxic-mother",
   "metadata": {},
   "outputs": [],
   "source": [
    "col_lst = ['Var_1', 'Graduated', 'Profession', 'Ever_Married', 'Family_Size']"
   ]
  },
  {
   "cell_type": "code",
   "execution_count": null,
   "id": "useful-worry",
   "metadata": {},
   "outputs": [],
   "source": []
  },
  {
   "cell_type": "code",
   "execution_count": 256,
   "id": "extended-large",
   "metadata": {},
   "outputs": [],
   "source": [
    "tdf['Ever_Married'].fillna(tdf['Ever_Married'].mode(), inplace = True)"
   ]
  },
  {
   "cell_type": "code",
   "execution_count": 255,
   "id": "unable-search",
   "metadata": {},
   "outputs": [
    {
     "data": {
      "text/plain": [
       "0    Yes\n",
       "dtype: object"
      ]
     },
     "execution_count": 255,
     "metadata": {},
     "output_type": "execute_result"
    }
   ],
   "source": [
    "tdf['Graduated'].mode()\n"
   ]
  },
  {
   "cell_type": "code",
   "execution_count": 252,
   "id": "atomic-airport",
   "metadata": {},
   "outputs": [],
   "source": [
    "# tdf.dropna(axis =0, subset=col_lst, how='any', inplace=True)"
   ]
  },
  {
   "cell_type": "code",
   "execution_count": 257,
   "id": "stuck-chrome",
   "metadata": {},
   "outputs": [
    {
     "data": {
      "text/plain": [
       "ID                   0\n",
       "Gender               0\n",
       "Ever_Married        50\n",
       "Age                  0\n",
       "Graduated           24\n",
       "Profession          38\n",
       "Work_Experience    269\n",
       "Spending_Score       0\n",
       "Family_Size        113\n",
       "Var_1               32\n",
       "dtype: int64"
      ]
     },
     "execution_count": 257,
     "metadata": {},
     "output_type": "execute_result"
    }
   ],
   "source": [
    "tdf.isnull().sum()"
   ]
  },
  {
   "cell_type": "code",
   "execution_count": 185,
   "id": "characteristic-proxy",
   "metadata": {},
   "outputs": [
    {
     "data": {
      "text/plain": [
       "(2384, 10)"
      ]
     },
     "execution_count": 185,
     "metadata": {},
     "output_type": "execute_result"
    }
   ],
   "source": [
    "tdf.shape"
   ]
  },
  {
   "cell_type": "code",
   "execution_count": 186,
   "id": "apparent-stretch",
   "metadata": {},
   "outputs": [
    {
     "data": {
      "text/html": [
       "<div>\n",
       "<style scoped>\n",
       "    .dataframe tbody tr th:only-of-type {\n",
       "        vertical-align: middle;\n",
       "    }\n",
       "\n",
       "    .dataframe tbody tr th {\n",
       "        vertical-align: top;\n",
       "    }\n",
       "\n",
       "    .dataframe thead th {\n",
       "        text-align: right;\n",
       "    }\n",
       "</style>\n",
       "<table border=\"1\" class=\"dataframe\">\n",
       "  <thead>\n",
       "    <tr style=\"text-align: right;\">\n",
       "      <th></th>\n",
       "      <th>ID</th>\n",
       "      <th>Gender</th>\n",
       "      <th>Ever_Married</th>\n",
       "      <th>Age</th>\n",
       "      <th>Graduated</th>\n",
       "      <th>Profession</th>\n",
       "      <th>Work_Experience</th>\n",
       "      <th>Spending_Score</th>\n",
       "      <th>Family_Size</th>\n",
       "      <th>Var_1</th>\n",
       "    </tr>\n",
       "  </thead>\n",
       "  <tbody>\n",
       "    <tr>\n",
       "      <th>0</th>\n",
       "      <td>458989</td>\n",
       "      <td>Female</td>\n",
       "      <td>Yes</td>\n",
       "      <td>36</td>\n",
       "      <td>Yes</td>\n",
       "      <td>Engineer</td>\n",
       "      <td>0.0</td>\n",
       "      <td>Low</td>\n",
       "      <td>1.0</td>\n",
       "      <td>Cat_6</td>\n",
       "    </tr>\n",
       "    <tr>\n",
       "      <th>1</th>\n",
       "      <td>458994</td>\n",
       "      <td>Male</td>\n",
       "      <td>Yes</td>\n",
       "      <td>37</td>\n",
       "      <td>Yes</td>\n",
       "      <td>Healthcare</td>\n",
       "      <td>8.0</td>\n",
       "      <td>Average</td>\n",
       "      <td>4.0</td>\n",
       "      <td>Cat_6</td>\n",
       "    </tr>\n",
       "    <tr>\n",
       "      <th>3</th>\n",
       "      <td>459000</td>\n",
       "      <td>Male</td>\n",
       "      <td>Yes</td>\n",
       "      <td>59</td>\n",
       "      <td>No</td>\n",
       "      <td>Executive</td>\n",
       "      <td>11.0</td>\n",
       "      <td>High</td>\n",
       "      <td>2.0</td>\n",
       "      <td>Cat_6</td>\n",
       "    </tr>\n",
       "    <tr>\n",
       "      <th>4</th>\n",
       "      <td>459001</td>\n",
       "      <td>Female</td>\n",
       "      <td>No</td>\n",
       "      <td>19</td>\n",
       "      <td>No</td>\n",
       "      <td>Marketing</td>\n",
       "      <td>NaN</td>\n",
       "      <td>Low</td>\n",
       "      <td>4.0</td>\n",
       "      <td>Cat_6</td>\n",
       "    </tr>\n",
       "    <tr>\n",
       "      <th>5</th>\n",
       "      <td>459003</td>\n",
       "      <td>Male</td>\n",
       "      <td>Yes</td>\n",
       "      <td>47</td>\n",
       "      <td>Yes</td>\n",
       "      <td>Doctor</td>\n",
       "      <td>0.0</td>\n",
       "      <td>High</td>\n",
       "      <td>5.0</td>\n",
       "      <td>Cat_4</td>\n",
       "    </tr>\n",
       "  </tbody>\n",
       "</table>\n",
       "</div>"
      ],
      "text/plain": [
       "       ID  Gender Ever_Married  Age Graduated  Profession  Work_Experience  \\\n",
       "0  458989  Female          Yes   36       Yes    Engineer              0.0   \n",
       "1  458994    Male          Yes   37       Yes  Healthcare              8.0   \n",
       "3  459000    Male          Yes   59        No   Executive             11.0   \n",
       "4  459001  Female           No   19        No   Marketing              NaN   \n",
       "5  459003    Male          Yes   47       Yes      Doctor              0.0   \n",
       "\n",
       "  Spending_Score  Family_Size  Var_1  \n",
       "0            Low          1.0  Cat_6  \n",
       "1        Average          4.0  Cat_6  \n",
       "3           High          2.0  Cat_6  \n",
       "4            Low          4.0  Cat_6  \n",
       "5           High          5.0  Cat_4  "
      ]
     },
     "execution_count": 186,
     "metadata": {},
     "output_type": "execute_result"
    }
   ],
   "source": [
    "tdf.head()"
   ]
  },
  {
   "cell_type": "code",
   "execution_count": 193,
   "id": "moved-immunology",
   "metadata": {},
   "outputs": [
    {
     "data": {
      "text/plain": [
       "0.0     795\n",
       "1.0     705\n",
       "8.0     134\n",
       "9.0     126\n",
       "4.0      86\n",
       "2.0      78\n",
       "3.0      77\n",
       "5.0      69\n",
       "6.0      55\n",
       "7.0      55\n",
       "14.0     20\n",
       "11.0     14\n",
       "10.0     11\n",
       "12.0     10\n",
       "13.0     10\n",
       "Name: Work_Experience, dtype: int64"
      ]
     },
     "execution_count": 193,
     "metadata": {},
     "output_type": "execute_result"
    }
   ],
   "source": [
    "tdf['Work_Experience'].value_counts()"
   ]
  },
  {
   "cell_type": "code",
   "execution_count": 190,
   "id": "extended-roberts",
   "metadata": {},
   "outputs": [],
   "source": [
    "# replace Nan of Work_exp with 0, if 'not Graduated'\n",
    "def check_exp(col):\n",
    "    Work_Experience = col[0]\n",
    "    Graduated = col[1]\n",
    "    \n",
    "    if pd.isnull(Work_Experience):\n",
    "        if Graduated == 'No':\n",
    "            return 0\n",
    "    else:\n",
    "        return col[0]"
   ]
  },
  {
   "cell_type": "code",
   "execution_count": 194,
   "id": "opposed-volleyball",
   "metadata": {},
   "outputs": [],
   "source": [
    "tdf['Work_Experience'] = tdf[['Work_Experience', 'Graduated']].apply(check_exp, axis=1)"
   ]
  },
  {
   "cell_type": "code",
   "execution_count": 195,
   "id": "seeing-bangkok",
   "metadata": {},
   "outputs": [
    {
     "data": {
      "text/plain": [
       "ID                   0\n",
       "Gender               0\n",
       "Ever_Married         0\n",
       "Age                  0\n",
       "Graduated            0\n",
       "Profession           0\n",
       "Work_Experience    139\n",
       "Spending_Score       0\n",
       "Family_Size          0\n",
       "Var_1                0\n",
       "dtype: int64"
      ]
     },
     "execution_count": 195,
     "metadata": {},
     "output_type": "execute_result"
    }
   ],
   "source": [
    "tdf.isnull().sum()"
   ]
  },
  {
   "cell_type": "code",
   "execution_count": 200,
   "id": "structured-advocate",
   "metadata": {},
   "outputs": [
    {
     "data": {
      "text/plain": [
       "0.0     795\n",
       "1.0     705\n",
       "8.0     134\n",
       "9.0     126\n",
       "4.0      86\n",
       "2.0      78\n",
       "3.0      77\n",
       "5.0      69\n",
       "6.0      55\n",
       "7.0      55\n",
       "14.0     20\n",
       "11.0     14\n",
       "10.0     11\n",
       "12.0     10\n",
       "13.0     10\n",
       "Name: Work_Experience, dtype: int64"
      ]
     },
     "execution_count": 200,
     "metadata": {},
     "output_type": "execute_result"
    }
   ],
   "source": [
    "tdf['Work_Experience'].value_counts()"
   ]
  },
  {
   "cell_type": "code",
   "execution_count": 199,
   "id": "stuck-style",
   "metadata": {},
   "outputs": [
    {
     "data": {
      "text/plain": [
       "<AxesSubplot:>"
      ]
     },
     "execution_count": 199,
     "metadata": {},
     "output_type": "execute_result"
    },
    {
     "data": {
      "image/png": "[encoded data removed]",
      "text/plain": [
       "<Figure size 432x288 with 1 Axes>"
      ]
     },
     "metadata": {
      "needs_background": "light"
     },
     "output_type": "display_data"
    }
   ],
   "source": [
    "tdf.boxplot(column = ['Work_Experience'])"
   ]
  },
  {
   "cell_type": "code",
   "execution_count": 201,
   "id": "formed-relative",
   "metadata": {},
   "outputs": [
    {
     "name": "stdout",
     "output_type": "stream",
     "text": [
      "                  ID          Age  Work_Experience  Family_Size\n",
      "count    2384.000000  2384.000000      2245.000000  2384.000000\n",
      "mean   463441.474832    43.629614         2.448107     2.829698\n",
      "std      2608.373846    16.919175         3.314824     1.556983\n",
      "min    458989.000000    18.000000         0.000000     1.000000\n",
      "25%    461217.250000    30.000000         0.000000     2.000000\n",
      "50%    463399.500000    41.000000         1.000000     2.000000\n",
      "75%    465655.750000    52.000000         4.000000     4.000000\n",
      "max    467968.000000    89.000000        14.000000     9.000000\n"
     ]
    }
   ],
   "source": [
    "print (tdf.describe())"
   ]
  },
  {
   "cell_type": "code",
   "execution_count": 202,
   "id": "comic-trade",
   "metadata": {},
   "outputs": [],
   "source": [
    "tdf['Work_Experience'].fillna(tdf['Work_Experience'].mean(), inplace = True)"
   ]
  },
  {
   "cell_type": "code",
   "execution_count": 203,
   "id": "invisible-uncle",
   "metadata": {},
   "outputs": [
    {
     "data": {
      "text/plain": [
       "ID                 0\n",
       "Gender             0\n",
       "Ever_Married       0\n",
       "Age                0\n",
       "Graduated          0\n",
       "Profession         0\n",
       "Work_Experience    0\n",
       "Spending_Score     0\n",
       "Family_Size        0\n",
       "Var_1              0\n",
       "dtype: int64"
      ]
     },
     "execution_count": 203,
     "metadata": {},
     "output_type": "execute_result"
    }
   ],
   "source": [
    "tdf.isnull().sum()"
   ]
  },
  {
   "cell_type": "code",
   "execution_count": 204,
   "id": "nutritional-romantic",
   "metadata": {},
   "outputs": [
    {
     "data": {
      "text/plain": [
       "0.000000     795\n",
       "1.000000     705\n",
       "2.448107     139\n",
       "8.000000     134\n",
       "9.000000     126\n",
       "4.000000      86\n",
       "2.000000      78\n",
       "3.000000      77\n",
       "5.000000      69\n",
       "6.000000      55\n",
       "7.000000      55\n",
       "14.000000     20\n",
       "11.000000     14\n",
       "10.000000     11\n",
       "12.000000     10\n",
       "13.000000     10\n",
       "Name: Work_Experience, dtype: int64"
      ]
     },
     "execution_count": 204,
     "metadata": {},
     "output_type": "execute_result"
    }
   ],
   "source": [
    "tdf['Work_Experience'].value_counts()"
   ]
  },
  {
   "cell_type": "code",
   "execution_count": 205,
   "id": "special-johns",
   "metadata": {},
   "outputs": [
    {
     "data": {
      "text/html": [
       "<div>\n",
       "<style scoped>\n",
       "    .dataframe tbody tr th:only-of-type {\n",
       "        vertical-align: middle;\n",
       "    }\n",
       "\n",
       "    .dataframe tbody tr th {\n",
       "        vertical-align: top;\n",
       "    }\n",
       "\n",
       "    .dataframe thead th {\n",
       "        text-align: right;\n",
       "    }\n",
       "</style>\n",
       "<table border=\"1\" class=\"dataframe\">\n",
       "  <thead>\n",
       "    <tr style=\"text-align: right;\">\n",
       "      <th></th>\n",
       "      <th>ID</th>\n",
       "      <th>Gender</th>\n",
       "      <th>Ever_Married</th>\n",
       "      <th>Age</th>\n",
       "      <th>Graduated</th>\n",
       "      <th>Profession</th>\n",
       "      <th>Work_Experience</th>\n",
       "      <th>Spending_Score</th>\n",
       "      <th>Family_Size</th>\n",
       "      <th>Var_1</th>\n",
       "    </tr>\n",
       "  </thead>\n",
       "  <tbody>\n",
       "    <tr>\n",
       "      <th>0</th>\n",
       "      <td>458989</td>\n",
       "      <td>Female</td>\n",
       "      <td>Yes</td>\n",
       "      <td>36</td>\n",
       "      <td>Yes</td>\n",
       "      <td>Engineer</td>\n",
       "      <td>0.0</td>\n",
       "      <td>Low</td>\n",
       "      <td>1.0</td>\n",
       "      <td>Cat_6</td>\n",
       "    </tr>\n",
       "    <tr>\n",
       "      <th>1</th>\n",
       "      <td>458994</td>\n",
       "      <td>Male</td>\n",
       "      <td>Yes</td>\n",
       "      <td>37</td>\n",
       "      <td>Yes</td>\n",
       "      <td>Healthcare</td>\n",
       "      <td>8.0</td>\n",
       "      <td>Average</td>\n",
       "      <td>4.0</td>\n",
       "      <td>Cat_6</td>\n",
       "    </tr>\n",
       "    <tr>\n",
       "      <th>3</th>\n",
       "      <td>459000</td>\n",
       "      <td>Male</td>\n",
       "      <td>Yes</td>\n",
       "      <td>59</td>\n",
       "      <td>No</td>\n",
       "      <td>Executive</td>\n",
       "      <td>11.0</td>\n",
       "      <td>High</td>\n",
       "      <td>2.0</td>\n",
       "      <td>Cat_6</td>\n",
       "    </tr>\n",
       "    <tr>\n",
       "      <th>4</th>\n",
       "      <td>459001</td>\n",
       "      <td>Female</td>\n",
       "      <td>No</td>\n",
       "      <td>19</td>\n",
       "      <td>No</td>\n",
       "      <td>Marketing</td>\n",
       "      <td>0.0</td>\n",
       "      <td>Low</td>\n",
       "      <td>4.0</td>\n",
       "      <td>Cat_6</td>\n",
       "    </tr>\n",
       "    <tr>\n",
       "      <th>5</th>\n",
       "      <td>459003</td>\n",
       "      <td>Male</td>\n",
       "      <td>Yes</td>\n",
       "      <td>47</td>\n",
       "      <td>Yes</td>\n",
       "      <td>Doctor</td>\n",
       "      <td>0.0</td>\n",
       "      <td>High</td>\n",
       "      <td>5.0</td>\n",
       "      <td>Cat_4</td>\n",
       "    </tr>\n",
       "  </tbody>\n",
       "</table>\n",
       "</div>"
      ],
      "text/plain": [
       "       ID  Gender Ever_Married  Age Graduated  Profession  Work_Experience  \\\n",
       "0  458989  Female          Yes   36       Yes    Engineer              0.0   \n",
       "1  458994    Male          Yes   37       Yes  Healthcare              8.0   \n",
       "3  459000    Male          Yes   59        No   Executive             11.0   \n",
       "4  459001  Female           No   19        No   Marketing              0.0   \n",
       "5  459003    Male          Yes   47       Yes      Doctor              0.0   \n",
       "\n",
       "  Spending_Score  Family_Size  Var_1  \n",
       "0            Low          1.0  Cat_6  \n",
       "1        Average          4.0  Cat_6  \n",
       "3           High          2.0  Cat_6  \n",
       "4            Low          4.0  Cat_6  \n",
       "5           High          5.0  Cat_4  "
      ]
     },
     "execution_count": 205,
     "metadata": {},
     "output_type": "execute_result"
    }
   ],
   "source": [
    "tdf.head()"
   ]
  },
  {
   "cell_type": "code",
   "execution_count": null,
   "id": "stuffed-wrist",
   "metadata": {},
   "outputs": [],
   "source": []
  },
  {
   "cell_type": "code",
   "execution_count": null,
   "id": "subtle-spirituality",
   "metadata": {},
   "outputs": [],
   "source": []
  },
  {
   "cell_type": "markdown",
   "id": "pressed-solid",
   "metadata": {},
   "source": [
    "## 2. Handling Categorical Column"
   ]
  },
  {
   "cell_type": "code",
   "execution_count": 206,
   "id": "inclusive-drive",
   "metadata": {},
   "outputs": [
    {
     "name": "stdout",
     "output_type": "stream",
     "text": [
      "<class 'pandas.core.frame.DataFrame'>\n",
      "Int64Index: 2384 entries, 0 to 2626\n",
      "Data columns (total 10 columns):\n",
      " #   Column           Non-Null Count  Dtype  \n",
      "---  ------           --------------  -----  \n",
      " 0   ID               2384 non-null   int64  \n",
      " 1   Gender           2384 non-null   object \n",
      " 2   Ever_Married     2384 non-null   object \n",
      " 3   Age              2384 non-null   int64  \n",
      " 4   Graduated        2384 non-null   object \n",
      " 5   Profession       2384 non-null   object \n",
      " 6   Work_Experience  2384 non-null   float64\n",
      " 7   Spending_Score   2384 non-null   object \n",
      " 8   Family_Size      2384 non-null   float64\n",
      " 9   Var_1            2384 non-null   object \n",
      "dtypes: float64(2), int64(2), object(6)\n",
      "memory usage: 204.9+ KB\n"
     ]
    }
   ],
   "source": [
    "tdf.info()"
   ]
  },
  {
   "cell_type": "code",
   "execution_count": 207,
   "id": "wanted-colonial",
   "metadata": {},
   "outputs": [
    {
     "data": {
      "text/plain": [
       "Low        1451\n",
       "Average     575\n",
       "High        358\n",
       "Name: Spending_Score, dtype: int64"
      ]
     },
     "execution_count": 207,
     "metadata": {},
     "output_type": "execute_result"
    }
   ],
   "source": [
    "tdf.Spending_Score.value_counts()"
   ]
  },
  {
   "cell_type": "markdown",
   "id": "hazardous-coffee",
   "metadata": {},
   "source": [
    "- Applying Label encoding on Spending score"
   ]
  },
  {
   "cell_type": "code",
   "execution_count": 208,
   "id": "played-factor",
   "metadata": {},
   "outputs": [],
   "source": [
    "change_var = {\"Spending_Score\":     {\"Low\": 1, \"Average\": 2, \"High\": 3}}"
   ]
  },
  {
   "cell_type": "code",
   "execution_count": 209,
   "id": "processed-implement",
   "metadata": {},
   "outputs": [
    {
     "data": {
      "text/html": [
       "<div>\n",
       "<style scoped>\n",
       "    .dataframe tbody tr th:only-of-type {\n",
       "        vertical-align: middle;\n",
       "    }\n",
       "\n",
       "    .dataframe tbody tr th {\n",
       "        vertical-align: top;\n",
       "    }\n",
       "\n",
       "    .dataframe thead th {\n",
       "        text-align: right;\n",
       "    }\n",
       "</style>\n",
       "<table border=\"1\" class=\"dataframe\">\n",
       "  <thead>\n",
       "    <tr style=\"text-align: right;\">\n",
       "      <th></th>\n",
       "      <th>ID</th>\n",
       "      <th>Gender</th>\n",
       "      <th>Ever_Married</th>\n",
       "      <th>Age</th>\n",
       "      <th>Graduated</th>\n",
       "      <th>Profession</th>\n",
       "      <th>Work_Experience</th>\n",
       "      <th>Spending_Score</th>\n",
       "      <th>Family_Size</th>\n",
       "      <th>Var_1</th>\n",
       "    </tr>\n",
       "  </thead>\n",
       "  <tbody>\n",
       "    <tr>\n",
       "      <th>0</th>\n",
       "      <td>458989</td>\n",
       "      <td>Female</td>\n",
       "      <td>Yes</td>\n",
       "      <td>36</td>\n",
       "      <td>Yes</td>\n",
       "      <td>Engineer</td>\n",
       "      <td>0.0</td>\n",
       "      <td>1</td>\n",
       "      <td>1.0</td>\n",
       "      <td>Cat_6</td>\n",
       "    </tr>\n",
       "    <tr>\n",
       "      <th>1</th>\n",
       "      <td>458994</td>\n",
       "      <td>Male</td>\n",
       "      <td>Yes</td>\n",
       "      <td>37</td>\n",
       "      <td>Yes</td>\n",
       "      <td>Healthcare</td>\n",
       "      <td>8.0</td>\n",
       "      <td>2</td>\n",
       "      <td>4.0</td>\n",
       "      <td>Cat_6</td>\n",
       "    </tr>\n",
       "    <tr>\n",
       "      <th>3</th>\n",
       "      <td>459000</td>\n",
       "      <td>Male</td>\n",
       "      <td>Yes</td>\n",
       "      <td>59</td>\n",
       "      <td>No</td>\n",
       "      <td>Executive</td>\n",
       "      <td>11.0</td>\n",
       "      <td>3</td>\n",
       "      <td>2.0</td>\n",
       "      <td>Cat_6</td>\n",
       "    </tr>\n",
       "    <tr>\n",
       "      <th>4</th>\n",
       "      <td>459001</td>\n",
       "      <td>Female</td>\n",
       "      <td>No</td>\n",
       "      <td>19</td>\n",
       "      <td>No</td>\n",
       "      <td>Marketing</td>\n",
       "      <td>0.0</td>\n",
       "      <td>1</td>\n",
       "      <td>4.0</td>\n",
       "      <td>Cat_6</td>\n",
       "    </tr>\n",
       "    <tr>\n",
       "      <th>5</th>\n",
       "      <td>459003</td>\n",
       "      <td>Male</td>\n",
       "      <td>Yes</td>\n",
       "      <td>47</td>\n",
       "      <td>Yes</td>\n",
       "      <td>Doctor</td>\n",
       "      <td>0.0</td>\n",
       "      <td>3</td>\n",
       "      <td>5.0</td>\n",
       "      <td>Cat_4</td>\n",
       "    </tr>\n",
       "  </tbody>\n",
       "</table>\n",
       "</div>"
      ],
      "text/plain": [
       "       ID  Gender Ever_Married  Age Graduated  Profession  Work_Experience  \\\n",
       "0  458989  Female          Yes   36       Yes    Engineer              0.0   \n",
       "1  458994    Male          Yes   37       Yes  Healthcare              8.0   \n",
       "3  459000    Male          Yes   59        No   Executive             11.0   \n",
       "4  459001  Female           No   19        No   Marketing              0.0   \n",
       "5  459003    Male          Yes   47       Yes      Doctor              0.0   \n",
       "\n",
       "   Spending_Score  Family_Size  Var_1  \n",
       "0               1          1.0  Cat_6  \n",
       "1               2          4.0  Cat_6  \n",
       "3               3          2.0  Cat_6  \n",
       "4               1          4.0  Cat_6  \n",
       "5               3          5.0  Cat_4  "
      ]
     },
     "execution_count": 209,
     "metadata": {},
     "output_type": "execute_result"
    }
   ],
   "source": [
    "tdf = tdf.replace(change_var)\n",
    "tdf.head()"
   ]
  },
  {
   "cell_type": "code",
   "execution_count": 272,
   "id": "constant-style",
   "metadata": {},
   "outputs": [],
   "source": [
    "tdf = pd.read_csv(\"final_test.csv\")"
   ]
  },
  {
   "cell_type": "code",
   "execution_count": 273,
   "id": "clinical-heavy",
   "metadata": {},
   "outputs": [],
   "source": [
    "tdf1 = tdf.iloc[:, 2:]"
   ]
  },
  {
   "cell_type": "code",
   "execution_count": 274,
   "id": "sophisticated-winter",
   "metadata": {},
   "outputs": [
    {
     "data": {
      "text/plain": [
       "(2627, 9)"
      ]
     },
     "execution_count": 274,
     "metadata": {},
     "output_type": "execute_result"
    }
   ],
   "source": [
    "tdf1.shape"
   ]
  },
  {
   "cell_type": "markdown",
   "id": "saving-finding",
   "metadata": {},
   "source": [
    "- Applying One-hot-encoding to rest of the Categorical column"
   ]
  },
  {
   "cell_type": "code",
   "execution_count": 275,
   "id": "nervous-cutting",
   "metadata": {},
   "outputs": [],
   "source": [
    "Gender = pd.get_dummies(tdf1['Gender'], drop_first=True)\n",
    "Ever_Married = pd.get_dummies(tdf1['Ever_Married'], drop_first=True)\n",
    "Graduated = pd.get_dummies(tdf1['Graduated'], drop_first=True)\n",
    "Profession = pd.get_dummies(tdf1['Profession'], drop_first=True)\n",
    "Var_1 = pd.get_dummies(tdf1['Var_1'], drop_first=True)"
   ]
  },
  {
   "cell_type": "code",
   "execution_count": 276,
   "id": "round-vulnerability",
   "metadata": {},
   "outputs": [],
   "source": [
    "tdf1.drop(['Gender', 'Ever_Married', 'Graduated', 'Profession', 'Var_1'], axis=1, inplace=True)"
   ]
  },
  {
   "cell_type": "code",
   "execution_count": 277,
   "id": "phantom-theology",
   "metadata": {},
   "outputs": [
    {
     "data": {
      "text/html": [
       "<div>\n",
       "<style scoped>\n",
       "    .dataframe tbody tr th:only-of-type {\n",
       "        vertical-align: middle;\n",
       "    }\n",
       "\n",
       "    .dataframe tbody tr th {\n",
       "        vertical-align: top;\n",
       "    }\n",
       "\n",
       "    .dataframe thead th {\n",
       "        text-align: right;\n",
       "    }\n",
       "</style>\n",
       "<table border=\"1\" class=\"dataframe\">\n",
       "  <thead>\n",
       "    <tr style=\"text-align: right;\">\n",
       "      <th></th>\n",
       "      <th>Age</th>\n",
       "      <th>Work_Experience</th>\n",
       "      <th>Spending_Score</th>\n",
       "      <th>Family_Size</th>\n",
       "    </tr>\n",
       "  </thead>\n",
       "  <tbody>\n",
       "    <tr>\n",
       "      <th>0</th>\n",
       "      <td>36</td>\n",
       "      <td>0.0</td>\n",
       "      <td>Low</td>\n",
       "      <td>1.0</td>\n",
       "    </tr>\n",
       "    <tr>\n",
       "      <th>1</th>\n",
       "      <td>37</td>\n",
       "      <td>8.0</td>\n",
       "      <td>Average</td>\n",
       "      <td>4.0</td>\n",
       "    </tr>\n",
       "    <tr>\n",
       "      <th>2</th>\n",
       "      <td>69</td>\n",
       "      <td>0.0</td>\n",
       "      <td>Low</td>\n",
       "      <td>1.0</td>\n",
       "    </tr>\n",
       "    <tr>\n",
       "      <th>3</th>\n",
       "      <td>59</td>\n",
       "      <td>11.0</td>\n",
       "      <td>High</td>\n",
       "      <td>2.0</td>\n",
       "    </tr>\n",
       "    <tr>\n",
       "      <th>4</th>\n",
       "      <td>19</td>\n",
       "      <td>0.0</td>\n",
       "      <td>Low</td>\n",
       "      <td>4.0</td>\n",
       "    </tr>\n",
       "  </tbody>\n",
       "</table>\n",
       "</div>"
      ],
      "text/plain": [
       "   Age  Work_Experience Spending_Score  Family_Size\n",
       "0   36              0.0            Low          1.0\n",
       "1   37              8.0        Average          4.0\n",
       "2   69              0.0            Low          1.0\n",
       "3   59             11.0           High          2.0\n",
       "4   19              0.0            Low          4.0"
      ]
     },
     "execution_count": 277,
     "metadata": {},
     "output_type": "execute_result"
    }
   ],
   "source": [
    "tdf1.head()"
   ]
  },
  {
   "cell_type": "code",
   "execution_count": 278,
   "id": "forbidden-tongue",
   "metadata": {},
   "outputs": [
    {
     "data": {
      "text/plain": [
       "(2627, 21)"
      ]
     },
     "execution_count": 278,
     "metadata": {},
     "output_type": "execute_result"
    }
   ],
   "source": [
    "tdf1 = pd.concat([tdf1, Gender, Ever_Married, Graduated, Profession, Var_1 ], axis =1)\n",
    "tdf1.shape"
   ]
  },
  {
   "cell_type": "code",
   "execution_count": 269,
   "id": "universal-binary",
   "metadata": {},
   "outputs": [],
   "source": []
  },
  {
   "cell_type": "code",
   "execution_count": 279,
   "id": "unsigned-remove",
   "metadata": {},
   "outputs": [],
   "source": [
    "pd.set_option('display.max_columns', None)"
   ]
  },
  {
   "cell_type": "code",
   "execution_count": 280,
   "id": "decimal-peter",
   "metadata": {},
   "outputs": [
    {
     "data": {
      "text/html": [
       "<div>\n",
       "<style scoped>\n",
       "    .dataframe tbody tr th:only-of-type {\n",
       "        vertical-align: middle;\n",
       "    }\n",
       "\n",
       "    .dataframe tbody tr th {\n",
       "        vertical-align: top;\n",
       "    }\n",
       "\n",
       "    .dataframe thead th {\n",
       "        text-align: right;\n",
       "    }\n",
       "</style>\n",
       "<table border=\"1\" class=\"dataframe\">\n",
       "  <thead>\n",
       "    <tr style=\"text-align: right;\">\n",
       "      <th></th>\n",
       "      <th>Age</th>\n",
       "      <th>Work_Experience</th>\n",
       "      <th>Spending_Score</th>\n",
       "      <th>Family_Size</th>\n",
       "      <th>Male</th>\n",
       "      <th>Yes</th>\n",
       "      <th>Yes</th>\n",
       "      <th>Doctor</th>\n",
       "      <th>Engineer</th>\n",
       "      <th>Entertainment</th>\n",
       "      <th>Executive</th>\n",
       "      <th>Healthcare</th>\n",
       "      <th>Homemaker</th>\n",
       "      <th>Lawyer</th>\n",
       "      <th>Marketing</th>\n",
       "      <th>Cat_2</th>\n",
       "      <th>Cat_3</th>\n",
       "      <th>Cat_4</th>\n",
       "      <th>Cat_5</th>\n",
       "      <th>Cat_6</th>\n",
       "      <th>Cat_7</th>\n",
       "    </tr>\n",
       "  </thead>\n",
       "  <tbody>\n",
       "    <tr>\n",
       "      <th>0</th>\n",
       "      <td>36</td>\n",
       "      <td>0.0</td>\n",
       "      <td>Low</td>\n",
       "      <td>1.0</td>\n",
       "      <td>0</td>\n",
       "      <td>1</td>\n",
       "      <td>1</td>\n",
       "      <td>0</td>\n",
       "      <td>1</td>\n",
       "      <td>0</td>\n",
       "      <td>0</td>\n",
       "      <td>0</td>\n",
       "      <td>0</td>\n",
       "      <td>0</td>\n",
       "      <td>0</td>\n",
       "      <td>0</td>\n",
       "      <td>0</td>\n",
       "      <td>0</td>\n",
       "      <td>0</td>\n",
       "      <td>1</td>\n",
       "      <td>0</td>\n",
       "    </tr>\n",
       "    <tr>\n",
       "      <th>1</th>\n",
       "      <td>37</td>\n",
       "      <td>8.0</td>\n",
       "      <td>Average</td>\n",
       "      <td>4.0</td>\n",
       "      <td>1</td>\n",
       "      <td>1</td>\n",
       "      <td>1</td>\n",
       "      <td>0</td>\n",
       "      <td>0</td>\n",
       "      <td>0</td>\n",
       "      <td>0</td>\n",
       "      <td>1</td>\n",
       "      <td>0</td>\n",
       "      <td>0</td>\n",
       "      <td>0</td>\n",
       "      <td>0</td>\n",
       "      <td>0</td>\n",
       "      <td>0</td>\n",
       "      <td>0</td>\n",
       "      <td>1</td>\n",
       "      <td>0</td>\n",
       "    </tr>\n",
       "    <tr>\n",
       "      <th>2</th>\n",
       "      <td>69</td>\n",
       "      <td>0.0</td>\n",
       "      <td>Low</td>\n",
       "      <td>1.0</td>\n",
       "      <td>0</td>\n",
       "      <td>1</td>\n",
       "      <td>0</td>\n",
       "      <td>0</td>\n",
       "      <td>0</td>\n",
       "      <td>0</td>\n",
       "      <td>0</td>\n",
       "      <td>0</td>\n",
       "      <td>0</td>\n",
       "      <td>0</td>\n",
       "      <td>0</td>\n",
       "      <td>0</td>\n",
       "      <td>0</td>\n",
       "      <td>0</td>\n",
       "      <td>0</td>\n",
       "      <td>1</td>\n",
       "      <td>0</td>\n",
       "    </tr>\n",
       "    <tr>\n",
       "      <th>3</th>\n",
       "      <td>59</td>\n",
       "      <td>11.0</td>\n",
       "      <td>High</td>\n",
       "      <td>2.0</td>\n",
       "      <td>1</td>\n",
       "      <td>1</td>\n",
       "      <td>0</td>\n",
       "      <td>0</td>\n",
       "      <td>0</td>\n",
       "      <td>0</td>\n",
       "      <td>1</td>\n",
       "      <td>0</td>\n",
       "      <td>0</td>\n",
       "      <td>0</td>\n",
       "      <td>0</td>\n",
       "      <td>0</td>\n",
       "      <td>0</td>\n",
       "      <td>0</td>\n",
       "      <td>0</td>\n",
       "      <td>1</td>\n",
       "      <td>0</td>\n",
       "    </tr>\n",
       "    <tr>\n",
       "      <th>4</th>\n",
       "      <td>19</td>\n",
       "      <td>0.0</td>\n",
       "      <td>Low</td>\n",
       "      <td>4.0</td>\n",
       "      <td>0</td>\n",
       "      <td>0</td>\n",
       "      <td>0</td>\n",
       "      <td>0</td>\n",
       "      <td>0</td>\n",
       "      <td>0</td>\n",
       "      <td>0</td>\n",
       "      <td>0</td>\n",
       "      <td>0</td>\n",
       "      <td>0</td>\n",
       "      <td>1</td>\n",
       "      <td>0</td>\n",
       "      <td>0</td>\n",
       "      <td>0</td>\n",
       "      <td>0</td>\n",
       "      <td>1</td>\n",
       "      <td>0</td>\n",
       "    </tr>\n",
       "  </tbody>\n",
       "</table>\n",
       "</div>"
      ],
      "text/plain": [
       "   Age  Work_Experience Spending_Score  Family_Size  Male  Yes  Yes  Doctor  \\\n",
       "0   36              0.0            Low          1.0     0    1    1       0   \n",
       "1   37              8.0        Average          4.0     1    1    1       0   \n",
       "2   69              0.0            Low          1.0     0    1    0       0   \n",
       "3   59             11.0           High          2.0     1    1    0       0   \n",
       "4   19              0.0            Low          4.0     0    0    0       0   \n",
       "\n",
       "   Engineer  Entertainment  Executive  Healthcare  Homemaker  Lawyer  \\\n",
       "0         1              0          0           0          0       0   \n",
       "1         0              0          0           1          0       0   \n",
       "2         0              0          0           0          0       0   \n",
       "3         0              0          1           0          0       0   \n",
       "4         0              0          0           0          0       0   \n",
       "\n",
       "   Marketing  Cat_2  Cat_3  Cat_4  Cat_5  Cat_6  Cat_7  \n",
       "0          0      0      0      0      0      1      0  \n",
       "1          0      0      0      0      0      1      0  \n",
       "2          0      0      0      0      0      1      0  \n",
       "3          0      0      0      0      0      1      0  \n",
       "4          1      0      0      0      0      1      0  "
      ]
     },
     "execution_count": 280,
     "metadata": {},
     "output_type": "execute_result"
    }
   ],
   "source": [
    "tdf1.head()"
   ]
  },
  {
   "cell_type": "code",
   "execution_count": 225,
   "id": "sound-tension",
   "metadata": {},
   "outputs": [],
   "source": [
    "# tdf.drop(['ID'], axis=1, inplace=True)"
   ]
  },
  {
   "cell_type": "markdown",
   "id": "dynamic-blanket",
   "metadata": {},
   "source": [
    "### Converting 'float' values into 'int'"
   ]
  },
  {
   "cell_type": "code",
   "execution_count": 112,
   "id": "productive-manor",
   "metadata": {},
   "outputs": [],
   "source": [
    "# df = df.astype(int)"
   ]
  },
  {
   "cell_type": "code",
   "execution_count": 281,
   "id": "engaging-macintosh",
   "metadata": {},
   "outputs": [
    {
     "data": {
      "text/plain": [
       "(2627, 21)"
      ]
     },
     "execution_count": 281,
     "metadata": {},
     "output_type": "execute_result"
    }
   ],
   "source": [
    "tdf1.shape"
   ]
  },
  {
   "cell_type": "code",
   "execution_count": 219,
   "id": "honest-beast",
   "metadata": {},
   "outputs": [],
   "source": [
    "# df1 = tdf.pop('Segmentation')\n",
    "# tdf['Segmentation'] = df1"
   ]
  },
  {
   "cell_type": "code",
   "execution_count": 282,
   "id": "given-gender",
   "metadata": {},
   "outputs": [
    {
     "data": {
      "text/plain": [
       "Index(['Age', 'Work_Experience', 'Spending_Score', 'Family_Size', 'Male',\n",
       "       'Yes', 'Yes', 'Doctor', 'Engineer', 'Entertainment', 'Executive',\n",
       "       'Healthcare', 'Homemaker', 'Lawyer', 'Marketing', 'Cat_2', 'Cat_3',\n",
       "       'Cat_4', 'Cat_5', 'Cat_6', 'Cat_7'],\n",
       "      dtype='object')"
      ]
     },
     "execution_count": 282,
     "metadata": {},
     "output_type": "execute_result"
    }
   ],
   "source": [
    "tdf1.columns"
   ]
  },
  {
   "cell_type": "code",
   "execution_count": 284,
   "id": "tested-alfred",
   "metadata": {},
   "outputs": [],
   "source": [
    "tdf1.columns = ['Age', 'Work_Experience', 'Spending_Score', 'Family_Size', 'Male',\n",
    "       'Yes', 'Yes', 'Doctor', 'Engineer', 'Entertainment', 'Executive',\n",
    "       'Healthcare', 'Homemaker', 'Lawyer', 'Marketing', 'Cat_2', 'Cat_3',\n",
    "       'Cat_4', 'Cat_5', 'Cat_6', 'Cat_7']"
   ]
  },
  {
   "cell_type": "code",
   "execution_count": 285,
   "id": "exact-leadership",
   "metadata": {},
   "outputs": [
    {
     "data": {
      "text/html": [
       "<div>\n",
       "<style scoped>\n",
       "    .dataframe tbody tr th:only-of-type {\n",
       "        vertical-align: middle;\n",
       "    }\n",
       "\n",
       "    .dataframe tbody tr th {\n",
       "        vertical-align: top;\n",
       "    }\n",
       "\n",
       "    .dataframe thead th {\n",
       "        text-align: right;\n",
       "    }\n",
       "</style>\n",
       "<table border=\"1\" class=\"dataframe\">\n",
       "  <thead>\n",
       "    <tr style=\"text-align: right;\">\n",
       "      <th></th>\n",
       "      <th>Age</th>\n",
       "      <th>Work_Experience</th>\n",
       "      <th>Spending_Score</th>\n",
       "      <th>Family_Size</th>\n",
       "      <th>Male</th>\n",
       "      <th>Yes</th>\n",
       "      <th>Yes</th>\n",
       "      <th>Doctor</th>\n",
       "      <th>Engineer</th>\n",
       "      <th>Entertainment</th>\n",
       "      <th>Executive</th>\n",
       "      <th>Healthcare</th>\n",
       "      <th>Homemaker</th>\n",
       "      <th>Lawyer</th>\n",
       "      <th>Marketing</th>\n",
       "      <th>Cat_2</th>\n",
       "      <th>Cat_3</th>\n",
       "      <th>Cat_4</th>\n",
       "      <th>Cat_5</th>\n",
       "      <th>Cat_6</th>\n",
       "      <th>Cat_7</th>\n",
       "    </tr>\n",
       "  </thead>\n",
       "  <tbody>\n",
       "    <tr>\n",
       "      <th>0</th>\n",
       "      <td>36</td>\n",
       "      <td>0.0</td>\n",
       "      <td>Low</td>\n",
       "      <td>1.0</td>\n",
       "      <td>0</td>\n",
       "      <td>1</td>\n",
       "      <td>1</td>\n",
       "      <td>0</td>\n",
       "      <td>1</td>\n",
       "      <td>0</td>\n",
       "      <td>0</td>\n",
       "      <td>0</td>\n",
       "      <td>0</td>\n",
       "      <td>0</td>\n",
       "      <td>0</td>\n",
       "      <td>0</td>\n",
       "      <td>0</td>\n",
       "      <td>0</td>\n",
       "      <td>0</td>\n",
       "      <td>1</td>\n",
       "      <td>0</td>\n",
       "    </tr>\n",
       "    <tr>\n",
       "      <th>1</th>\n",
       "      <td>37</td>\n",
       "      <td>8.0</td>\n",
       "      <td>Average</td>\n",
       "      <td>4.0</td>\n",
       "      <td>1</td>\n",
       "      <td>1</td>\n",
       "      <td>1</td>\n",
       "      <td>0</td>\n",
       "      <td>0</td>\n",
       "      <td>0</td>\n",
       "      <td>0</td>\n",
       "      <td>1</td>\n",
       "      <td>0</td>\n",
       "      <td>0</td>\n",
       "      <td>0</td>\n",
       "      <td>0</td>\n",
       "      <td>0</td>\n",
       "      <td>0</td>\n",
       "      <td>0</td>\n",
       "      <td>1</td>\n",
       "      <td>0</td>\n",
       "    </tr>\n",
       "    <tr>\n",
       "      <th>2</th>\n",
       "      <td>69</td>\n",
       "      <td>0.0</td>\n",
       "      <td>Low</td>\n",
       "      <td>1.0</td>\n",
       "      <td>0</td>\n",
       "      <td>1</td>\n",
       "      <td>0</td>\n",
       "      <td>0</td>\n",
       "      <td>0</td>\n",
       "      <td>0</td>\n",
       "      <td>0</td>\n",
       "      <td>0</td>\n",
       "      <td>0</td>\n",
       "      <td>0</td>\n",
       "      <td>0</td>\n",
       "      <td>0</td>\n",
       "      <td>0</td>\n",
       "      <td>0</td>\n",
       "      <td>0</td>\n",
       "      <td>1</td>\n",
       "      <td>0</td>\n",
       "    </tr>\n",
       "    <tr>\n",
       "      <th>3</th>\n",
       "      <td>59</td>\n",
       "      <td>11.0</td>\n",
       "      <td>High</td>\n",
       "      <td>2.0</td>\n",
       "      <td>1</td>\n",
       "      <td>1</td>\n",
       "      <td>0</td>\n",
       "      <td>0</td>\n",
       "      <td>0</td>\n",
       "      <td>0</td>\n",
       "      <td>1</td>\n",
       "      <td>0</td>\n",
       "      <td>0</td>\n",
       "      <td>0</td>\n",
       "      <td>0</td>\n",
       "      <td>0</td>\n",
       "      <td>0</td>\n",
       "      <td>0</td>\n",
       "      <td>0</td>\n",
       "      <td>1</td>\n",
       "      <td>0</td>\n",
       "    </tr>\n",
       "    <tr>\n",
       "      <th>4</th>\n",
       "      <td>19</td>\n",
       "      <td>0.0</td>\n",
       "      <td>Low</td>\n",
       "      <td>4.0</td>\n",
       "      <td>0</td>\n",
       "      <td>0</td>\n",
       "      <td>0</td>\n",
       "      <td>0</td>\n",
       "      <td>0</td>\n",
       "      <td>0</td>\n",
       "      <td>0</td>\n",
       "      <td>0</td>\n",
       "      <td>0</td>\n",
       "      <td>0</td>\n",
       "      <td>1</td>\n",
       "      <td>0</td>\n",
       "      <td>0</td>\n",
       "      <td>0</td>\n",
       "      <td>0</td>\n",
       "      <td>1</td>\n",
       "      <td>0</td>\n",
       "    </tr>\n",
       "  </tbody>\n",
       "</table>\n",
       "</div>"
      ],
      "text/plain": [
       "   Age  Work_Experience Spending_Score  Family_Size  Male  Yes  Yes  Doctor  \\\n",
       "0   36              0.0            Low          1.0     0    1    1       0   \n",
       "1   37              8.0        Average          4.0     1    1    1       0   \n",
       "2   69              0.0            Low          1.0     0    1    0       0   \n",
       "3   59             11.0           High          2.0     1    1    0       0   \n",
       "4   19              0.0            Low          4.0     0    0    0       0   \n",
       "\n",
       "   Engineer  Entertainment  Executive  Healthcare  Homemaker  Lawyer  \\\n",
       "0         1              0          0           0          0       0   \n",
       "1         0              0          0           1          0       0   \n",
       "2         0              0          0           0          0       0   \n",
       "3         0              0          1           0          0       0   \n",
       "4         0              0          0           0          0       0   \n",
       "\n",
       "   Marketing  Cat_2  Cat_3  Cat_4  Cat_5  Cat_6  Cat_7  \n",
       "0          0      0      0      0      0      1      0  \n",
       "1          0      0      0      0      0      1      0  \n",
       "2          0      0      0      0      0      1      0  \n",
       "3          0      0      0      0      0      1      0  \n",
       "4          1      0      0      0      0      1      0  "
      ]
     },
     "execution_count": 285,
     "metadata": {},
     "output_type": "execute_result"
    }
   ],
   "source": [
    "tdf1.head()"
   ]
  },
  {
   "cell_type": "code",
   "execution_count": null,
   "id": "surgical-melbourne",
   "metadata": {},
   "outputs": [],
   "source": []
  },
  {
   "cell_type": "code",
   "execution_count": 286,
   "id": "jewish-liberty",
   "metadata": {},
   "outputs": [],
   "source": [
    "tdf1['Work_Experience'] = tdf1['Work_Experience'].astype(int)"
   ]
  },
  {
   "cell_type": "code",
   "execution_count": 287,
   "id": "yellow-curtis",
   "metadata": {},
   "outputs": [],
   "source": [
    "tdf1['Family_Size'] = tdf1['Family_Size'].astype(int)"
   ]
  },
  {
   "cell_type": "code",
   "execution_count": 120,
   "id": "closed-abraham",
   "metadata": {},
   "outputs": [],
   "source": [
    "# df.head()"
   ]
  },
  {
   "cell_type": "code",
   "execution_count": 232,
   "id": "quantitative-ozone",
   "metadata": {},
   "outputs": [],
   "source": [
    "# change_var = {\"Segmentation\":     {\"A\": 1, \"B\": 2, \"C\": 3, \"D\":4}}"
   ]
  },
  {
   "cell_type": "code",
   "execution_count": 233,
   "id": "digital-wednesday",
   "metadata": {},
   "outputs": [],
   "source": [
    "# df = df.replace(change_var)\n",
    "# df.head()"
   ]
  },
  {
   "cell_type": "code",
   "execution_count": 288,
   "id": "ready-miami",
   "metadata": {},
   "outputs": [
    {
     "data": {
      "text/html": [
       "<div>\n",
       "<style scoped>\n",
       "    .dataframe tbody tr th:only-of-type {\n",
       "        vertical-align: middle;\n",
       "    }\n",
       "\n",
       "    .dataframe tbody tr th {\n",
       "        vertical-align: top;\n",
       "    }\n",
       "\n",
       "    .dataframe thead th {\n",
       "        text-align: right;\n",
       "    }\n",
       "</style>\n",
       "<table border=\"1\" class=\"dataframe\">\n",
       "  <thead>\n",
       "    <tr style=\"text-align: right;\">\n",
       "      <th></th>\n",
       "      <th>Age</th>\n",
       "      <th>Work_Experience</th>\n",
       "      <th>Spending_Score</th>\n",
       "      <th>Family_Size</th>\n",
       "      <th>Male</th>\n",
       "      <th>Yes</th>\n",
       "      <th>Yes</th>\n",
       "      <th>Doctor</th>\n",
       "      <th>Engineer</th>\n",
       "      <th>Entertainment</th>\n",
       "      <th>Executive</th>\n",
       "      <th>Healthcare</th>\n",
       "      <th>Homemaker</th>\n",
       "      <th>Lawyer</th>\n",
       "      <th>Marketing</th>\n",
       "      <th>Cat_2</th>\n",
       "      <th>Cat_3</th>\n",
       "      <th>Cat_4</th>\n",
       "      <th>Cat_5</th>\n",
       "      <th>Cat_6</th>\n",
       "      <th>Cat_7</th>\n",
       "    </tr>\n",
       "  </thead>\n",
       "  <tbody>\n",
       "    <tr>\n",
       "      <th>0</th>\n",
       "      <td>36</td>\n",
       "      <td>0</td>\n",
       "      <td>Low</td>\n",
       "      <td>1</td>\n",
       "      <td>0</td>\n",
       "      <td>1</td>\n",
       "      <td>1</td>\n",
       "      <td>0</td>\n",
       "      <td>1</td>\n",
       "      <td>0</td>\n",
       "      <td>0</td>\n",
       "      <td>0</td>\n",
       "      <td>0</td>\n",
       "      <td>0</td>\n",
       "      <td>0</td>\n",
       "      <td>0</td>\n",
       "      <td>0</td>\n",
       "      <td>0</td>\n",
       "      <td>0</td>\n",
       "      <td>1</td>\n",
       "      <td>0</td>\n",
       "    </tr>\n",
       "    <tr>\n",
       "      <th>1</th>\n",
       "      <td>37</td>\n",
       "      <td>8</td>\n",
       "      <td>Average</td>\n",
       "      <td>4</td>\n",
       "      <td>1</td>\n",
       "      <td>1</td>\n",
       "      <td>1</td>\n",
       "      <td>0</td>\n",
       "      <td>0</td>\n",
       "      <td>0</td>\n",
       "      <td>0</td>\n",
       "      <td>1</td>\n",
       "      <td>0</td>\n",
       "      <td>0</td>\n",
       "      <td>0</td>\n",
       "      <td>0</td>\n",
       "      <td>0</td>\n",
       "      <td>0</td>\n",
       "      <td>0</td>\n",
       "      <td>1</td>\n",
       "      <td>0</td>\n",
       "    </tr>\n",
       "    <tr>\n",
       "      <th>2</th>\n",
       "      <td>69</td>\n",
       "      <td>0</td>\n",
       "      <td>Low</td>\n",
       "      <td>1</td>\n",
       "      <td>0</td>\n",
       "      <td>1</td>\n",
       "      <td>0</td>\n",
       "      <td>0</td>\n",
       "      <td>0</td>\n",
       "      <td>0</td>\n",
       "      <td>0</td>\n",
       "      <td>0</td>\n",
       "      <td>0</td>\n",
       "      <td>0</td>\n",
       "      <td>0</td>\n",
       "      <td>0</td>\n",
       "      <td>0</td>\n",
       "      <td>0</td>\n",
       "      <td>0</td>\n",
       "      <td>1</td>\n",
       "      <td>0</td>\n",
       "    </tr>\n",
       "    <tr>\n",
       "      <th>3</th>\n",
       "      <td>59</td>\n",
       "      <td>11</td>\n",
       "      <td>High</td>\n",
       "      <td>2</td>\n",
       "      <td>1</td>\n",
       "      <td>1</td>\n",
       "      <td>0</td>\n",
       "      <td>0</td>\n",
       "      <td>0</td>\n",
       "      <td>0</td>\n",
       "      <td>1</td>\n",
       "      <td>0</td>\n",
       "      <td>0</td>\n",
       "      <td>0</td>\n",
       "      <td>0</td>\n",
       "      <td>0</td>\n",
       "      <td>0</td>\n",
       "      <td>0</td>\n",
       "      <td>0</td>\n",
       "      <td>1</td>\n",
       "      <td>0</td>\n",
       "    </tr>\n",
       "    <tr>\n",
       "      <th>4</th>\n",
       "      <td>19</td>\n",
       "      <td>0</td>\n",
       "      <td>Low</td>\n",
       "      <td>4</td>\n",
       "      <td>0</td>\n",
       "      <td>0</td>\n",
       "      <td>0</td>\n",
       "      <td>0</td>\n",
       "      <td>0</td>\n",
       "      <td>0</td>\n",
       "      <td>0</td>\n",
       "      <td>0</td>\n",
       "      <td>0</td>\n",
       "      <td>0</td>\n",
       "      <td>1</td>\n",
       "      <td>0</td>\n",
       "      <td>0</td>\n",
       "      <td>0</td>\n",
       "      <td>0</td>\n",
       "      <td>1</td>\n",
       "      <td>0</td>\n",
       "    </tr>\n",
       "  </tbody>\n",
       "</table>\n",
       "</div>"
      ],
      "text/plain": [
       "   Age  Work_Experience Spending_Score  Family_Size  Male  Yes  Yes  Doctor  \\\n",
       "0   36                0            Low            1     0    1    1       0   \n",
       "1   37                8        Average            4     1    1    1       0   \n",
       "2   69                0            Low            1     0    1    0       0   \n",
       "3   59               11           High            2     1    1    0       0   \n",
       "4   19                0            Low            4     0    0    0       0   \n",
       "\n",
       "   Engineer  Entertainment  Executive  Healthcare  Homemaker  Lawyer  \\\n",
       "0         1              0          0           0          0       0   \n",
       "1         0              0          0           1          0       0   \n",
       "2         0              0          0           0          0       0   \n",
       "3         0              0          1           0          0       0   \n",
       "4         0              0          0           0          0       0   \n",
       "\n",
       "   Marketing  Cat_2  Cat_3  Cat_4  Cat_5  Cat_6  Cat_7  \n",
       "0          0      0      0      0      0      1      0  \n",
       "1          0      0      0      0      0      1      0  \n",
       "2          0      0      0      0      0      1      0  \n",
       "3          0      0      0      0      0      1      0  \n",
       "4          1      0      0      0      0      1      0  "
      ]
     },
     "execution_count": 288,
     "metadata": {},
     "output_type": "execute_result"
    }
   ],
   "source": [
    "tdf1.head()"
   ]
  },
  {
   "cell_type": "code",
   "execution_count": 289,
   "id": "executed-driving",
   "metadata": {},
   "outputs": [],
   "source": [
    "change_var = {\"Spending_Score\":     {\"Low\": 1, \"Average\": 2, \"High\": 3}}"
   ]
  },
  {
   "cell_type": "code",
   "execution_count": 290,
   "id": "worthy-fireplace",
   "metadata": {},
   "outputs": [
    {
     "data": {
      "text/html": [
       "<div>\n",
       "<style scoped>\n",
       "    .dataframe tbody tr th:only-of-type {\n",
       "        vertical-align: middle;\n",
       "    }\n",
       "\n",
       "    .dataframe tbody tr th {\n",
       "        vertical-align: top;\n",
       "    }\n",
       "\n",
       "    .dataframe thead th {\n",
       "        text-align: right;\n",
       "    }\n",
       "</style>\n",
       "<table border=\"1\" class=\"dataframe\">\n",
       "  <thead>\n",
       "    <tr style=\"text-align: right;\">\n",
       "      <th></th>\n",
       "      <th>Age</th>\n",
       "      <th>Work_Experience</th>\n",
       "      <th>Spending_Score</th>\n",
       "      <th>Family_Size</th>\n",
       "      <th>Male</th>\n",
       "      <th>Yes</th>\n",
       "      <th>Yes</th>\n",
       "      <th>Doctor</th>\n",
       "      <th>Engineer</th>\n",
       "      <th>Entertainment</th>\n",
       "      <th>Executive</th>\n",
       "      <th>Healthcare</th>\n",
       "      <th>Homemaker</th>\n",
       "      <th>Lawyer</th>\n",
       "      <th>Marketing</th>\n",
       "      <th>Cat_2</th>\n",
       "      <th>Cat_3</th>\n",
       "      <th>Cat_4</th>\n",
       "      <th>Cat_5</th>\n",
       "      <th>Cat_6</th>\n",
       "      <th>Cat_7</th>\n",
       "    </tr>\n",
       "  </thead>\n",
       "  <tbody>\n",
       "    <tr>\n",
       "      <th>0</th>\n",
       "      <td>36</td>\n",
       "      <td>0</td>\n",
       "      <td>1</td>\n",
       "      <td>1</td>\n",
       "      <td>0</td>\n",
       "      <td>1</td>\n",
       "      <td>1</td>\n",
       "      <td>0</td>\n",
       "      <td>1</td>\n",
       "      <td>0</td>\n",
       "      <td>0</td>\n",
       "      <td>0</td>\n",
       "      <td>0</td>\n",
       "      <td>0</td>\n",
       "      <td>0</td>\n",
       "      <td>0</td>\n",
       "      <td>0</td>\n",
       "      <td>0</td>\n",
       "      <td>0</td>\n",
       "      <td>1</td>\n",
       "      <td>0</td>\n",
       "    </tr>\n",
       "    <tr>\n",
       "      <th>1</th>\n",
       "      <td>37</td>\n",
       "      <td>8</td>\n",
       "      <td>2</td>\n",
       "      <td>4</td>\n",
       "      <td>1</td>\n",
       "      <td>1</td>\n",
       "      <td>1</td>\n",
       "      <td>0</td>\n",
       "      <td>0</td>\n",
       "      <td>0</td>\n",
       "      <td>0</td>\n",
       "      <td>1</td>\n",
       "      <td>0</td>\n",
       "      <td>0</td>\n",
       "      <td>0</td>\n",
       "      <td>0</td>\n",
       "      <td>0</td>\n",
       "      <td>0</td>\n",
       "      <td>0</td>\n",
       "      <td>1</td>\n",
       "      <td>0</td>\n",
       "    </tr>\n",
       "    <tr>\n",
       "      <th>2</th>\n",
       "      <td>69</td>\n",
       "      <td>0</td>\n",
       "      <td>1</td>\n",
       "      <td>1</td>\n",
       "      <td>0</td>\n",
       "      <td>1</td>\n",
       "      <td>0</td>\n",
       "      <td>0</td>\n",
       "      <td>0</td>\n",
       "      <td>0</td>\n",
       "      <td>0</td>\n",
       "      <td>0</td>\n",
       "      <td>0</td>\n",
       "      <td>0</td>\n",
       "      <td>0</td>\n",
       "      <td>0</td>\n",
       "      <td>0</td>\n",
       "      <td>0</td>\n",
       "      <td>0</td>\n",
       "      <td>1</td>\n",
       "      <td>0</td>\n",
       "    </tr>\n",
       "    <tr>\n",
       "      <th>3</th>\n",
       "      <td>59</td>\n",
       "      <td>11</td>\n",
       "      <td>3</td>\n",
       "      <td>2</td>\n",
       "      <td>1</td>\n",
       "      <td>1</td>\n",
       "      <td>0</td>\n",
       "      <td>0</td>\n",
       "      <td>0</td>\n",
       "      <td>0</td>\n",
       "      <td>1</td>\n",
       "      <td>0</td>\n",
       "      <td>0</td>\n",
       "      <td>0</td>\n",
       "      <td>0</td>\n",
       "      <td>0</td>\n",
       "      <td>0</td>\n",
       "      <td>0</td>\n",
       "      <td>0</td>\n",
       "      <td>1</td>\n",
       "      <td>0</td>\n",
       "    </tr>\n",
       "    <tr>\n",
       "      <th>4</th>\n",
       "      <td>19</td>\n",
       "      <td>0</td>\n",
       "      <td>1</td>\n",
       "      <td>4</td>\n",
       "      <td>0</td>\n",
       "      <td>0</td>\n",
       "      <td>0</td>\n",
       "      <td>0</td>\n",
       "      <td>0</td>\n",
       "      <td>0</td>\n",
       "      <td>0</td>\n",
       "      <td>0</td>\n",
       "      <td>0</td>\n",
       "      <td>0</td>\n",
       "      <td>1</td>\n",
       "      <td>0</td>\n",
       "      <td>0</td>\n",
       "      <td>0</td>\n",
       "      <td>0</td>\n",
       "      <td>1</td>\n",
       "      <td>0</td>\n",
       "    </tr>\n",
       "  </tbody>\n",
       "</table>\n",
       "</div>"
      ],
      "text/plain": [
       "   Age  Work_Experience  Spending_Score  Family_Size  Male  Yes  Yes  Doctor  \\\n",
       "0   36                0               1            1     0    1    1       0   \n",
       "1   37                8               2            4     1    1    1       0   \n",
       "2   69                0               1            1     0    1    0       0   \n",
       "3   59               11               3            2     1    1    0       0   \n",
       "4   19                0               1            4     0    0    0       0   \n",
       "\n",
       "   Engineer  Entertainment  Executive  Healthcare  Homemaker  Lawyer  \\\n",
       "0         1              0          0           0          0       0   \n",
       "1         0              0          0           1          0       0   \n",
       "2         0              0          0           0          0       0   \n",
       "3         0              0          1           0          0       0   \n",
       "4         0              0          0           0          0       0   \n",
       "\n",
       "   Marketing  Cat_2  Cat_3  Cat_4  Cat_5  Cat_6  Cat_7  \n",
       "0          0      0      0      0      0      1      0  \n",
       "1          0      0      0      0      0      1      0  \n",
       "2          0      0      0      0      0      1      0  \n",
       "3          0      0      0      0      0      1      0  \n",
       "4          1      0      0      0      0      1      0  "
      ]
     },
     "execution_count": 290,
     "metadata": {},
     "output_type": "execute_result"
    }
   ],
   "source": [
    "tdf1 = tdf1.replace(change_var)\n",
    "tdf1.head()"
   ]
  },
  {
   "cell_type": "code",
   "execution_count": 292,
   "id": "cubic-mambo",
   "metadata": {},
   "outputs": [
    {
     "data": {
      "text/plain": [
       "(2627, 21)"
      ]
     },
     "execution_count": 292,
     "metadata": {},
     "output_type": "execute_result"
    }
   ],
   "source": [
    "tdf1.shape"
   ]
  },
  {
   "cell_type": "code",
   "execution_count": null,
   "id": "entire-vermont",
   "metadata": {},
   "outputs": [],
   "source": []
  },
  {
   "cell_type": "code",
   "execution_count": null,
   "id": "formal-cleaning",
   "metadata": {},
   "outputs": [],
   "source": []
  },
  {
   "cell_type": "code",
   "execution_count": 123,
   "id": "resident-happiness",
   "metadata": {},
   "outputs": [],
   "source": [
    "x = df.iloc[:, 0:-1]"
   ]
  },
  {
   "cell_type": "code",
   "execution_count": 124,
   "id": "beginning-surface",
   "metadata": {},
   "outputs": [],
   "source": [
    "y = df.iloc[:, -1]"
   ]
  },
  {
   "cell_type": "code",
   "execution_count": 125,
   "id": "dominant-robin",
   "metadata": {},
   "outputs": [],
   "source": [
    "from sklearn.model_selection import train_test_split \n",
    "from sklearn.linear_model import LogisticRegression\n",
    "import sklearn.metrics as metrics"
   ]
  },
  {
   "cell_type": "code",
   "execution_count": 126,
   "id": "significant-transaction",
   "metadata": {},
   "outputs": [],
   "source": [
    "x_train, x_test, y_train, y_test = train_test_split(x, y, test_size=0.3, random_state=0)"
   ]
  },
  {
   "cell_type": "markdown",
   "id": "prepared-secretary",
   "metadata": {},
   "source": [
    "## Logistic Reg"
   ]
  },
  {
   "cell_type": "code",
   "execution_count": 126,
   "id": "preliminary-appliance",
   "metadata": {},
   "outputs": [],
   "source": [
    "logreg = LogisticRegression()"
   ]
  },
  {
   "cell_type": "code",
   "execution_count": 127,
   "id": "sharp-appreciation",
   "metadata": {},
   "outputs": [
    {
     "name": "stderr",
     "output_type": "stream",
     "text": [
      "c:\\users\\dhchaudhary\\appdata\\local\\programs\\python\\python39\\lib\\site-packages\\sklearn\\linear_model\\_logistic.py:763: ConvergenceWarning: lbfgs failed to converge (status=1):\n",
      "STOP: TOTAL NO. of ITERATIONS REACHED LIMIT.\n",
      "\n",
      "Increase the number of iterations (max_iter) or scale the data as shown in:\n",
      "    https://scikit-learn.org/stable/modules/preprocessing.html\n",
      "Please also refer to the documentation for alternative solver options:\n",
      "    https://scikit-learn.org/stable/modules/linear_model.html#logistic-regression\n",
      "  n_iter_i = _check_optimize_result(\n"
     ]
    },
    {
     "data": {
      "text/plain": [
       "LogisticRegression()"
      ]
     },
     "execution_count": 127,
     "metadata": {},
     "output_type": "execute_result"
    }
   ],
   "source": [
    "logreg.fit(x_train, y_train)"
   ]
  },
  {
   "cell_type": "code",
   "execution_count": 128,
   "id": "prescribed-keyboard",
   "metadata": {},
   "outputs": [],
   "source": [
    "prediction = logreg.predict(x_test)"
   ]
  },
  {
   "cell_type": "code",
   "execution_count": 134,
   "id": "norwegian-penguin",
   "metadata": {},
   "outputs": [],
   "source": [
    "from sklearn.metrics import confusion_matrix\n",
    "from sklearn.metrics import accuracy_score, r2_score, classification_report, recall_score, precision_score"
   ]
  },
  {
   "cell_type": "code",
   "execution_count": 130,
   "id": "recognized-feedback",
   "metadata": {},
   "outputs": [
    {
     "name": "stdout",
     "output_type": "stream",
     "text": [
      "Confusion matrix: \n",
      " [[244  64 132  77]\n",
      " [150  92 234  66]\n",
      " [ 72  58 348  61]\n",
      " [138  31  59 387]]\n",
      "Accuracy score: 0.4839584274740172\n",
      "Precision score: 0.4839584274740172\n",
      "Recall score: 0.4839584274740172\n"
     ]
    }
   ],
   "source": [
    "print(\"Confusion matrix: \\n\", confusion_matrix(y_test, prediction))\n",
    "print(\"Accuracy score:\", accuracy_score(y_test, prediction))\n",
    "print(\"Precision score:\", precision_score(y_test, prediction, average='micro'))\n",
    "print(\"Recall score:\", recall_score(y_test, prediction, average='micro'))"
   ]
  },
  {
   "cell_type": "code",
   "execution_count": 131,
   "id": "cosmetic-viking",
   "metadata": {},
   "outputs": [
    {
     "name": "stdout",
     "output_type": "stream",
     "text": [
      "              precision    recall  f1-score   support\n",
      "\n",
      "           1       0.40      0.47      0.44       517\n",
      "           2       0.38      0.17      0.23       542\n",
      "           3       0.45      0.65      0.53       539\n",
      "           4       0.65      0.63      0.64       615\n",
      "\n",
      "    accuracy                           0.48      2213\n",
      "   macro avg       0.47      0.48      0.46      2213\n",
      "weighted avg       0.48      0.48      0.47      2213\n",
      "\n"
     ]
    }
   ],
   "source": [
    "print(classification_report(y_test, prediction))"
   ]
  },
  {
   "cell_type": "markdown",
   "id": "cognitive-movement",
   "metadata": {},
   "source": [
    "## K-nearest Neighbour classifier"
   ]
  },
  {
   "cell_type": "code",
   "execution_count": 140,
   "id": "collectible-singer",
   "metadata": {},
   "outputs": [],
   "source": [
    "from sklearn.neighbors import KNeighborsClassifier"
   ]
  },
  {
   "cell_type": "code",
   "execution_count": 141,
   "id": "cubic-cargo",
   "metadata": {},
   "outputs": [],
   "source": [
    "error_rate=[]\n",
    "for i in range(1, 100):\n",
    "    knn = KNeighborsClassifier(n_neighbors=i)\n",
    "    knn.fit(x_train, y_train)\n",
    "    pred = knn.predict(x_test)\n",
    "    error_rate.append(np.mean(pred != y_test))"
   ]
  },
  {
   "cell_type": "code",
   "execution_count": 142,
   "id": "final-serum",
   "metadata": {},
   "outputs": [
    {
     "data": {
      "text/plain": [
       "[<matplotlib.lines.Line2D at 0x21986f9e130>]"
      ]
     },
     "execution_count": 142,
     "metadata": {},
     "output_type": "execute_result"
    },
    {
     "data": {
      "image/png": "[encoded data removed]",
      "text/plain": [
       "<Figure size 720x576 with 1 Axes>"
      ]
     },
     "metadata": {
      "needs_background": "light"
     },
     "output_type": "display_data"
    }
   ],
   "source": [
    "plt.figure(figsize=(10, 8))\n",
    "plt.plot(range(1, 100), error_rate,color='blue',markerfacecolor='red', markersize=10, marker='o', linestyle='dashed' )"
   ]
  },
  {
   "cell_type": "code",
   "execution_count": 149,
   "id": "bound-german",
   "metadata": {},
   "outputs": [],
   "source": [
    "knn = KNeighborsClassifier(n_neighbors=21)"
   ]
  },
  {
   "cell_type": "code",
   "execution_count": 150,
   "id": "cheap-hydrogen",
   "metadata": {},
   "outputs": [
    {
     "data": {
      "text/plain": [
       "KNeighborsClassifier(n_neighbors=21)"
      ]
     },
     "execution_count": 150,
     "metadata": {},
     "output_type": "execute_result"
    }
   ],
   "source": [
    "knn.fit(x_train, y_train)"
   ]
  },
  {
   "cell_type": "code",
   "execution_count": 151,
   "id": "working-timer",
   "metadata": {},
   "outputs": [],
   "source": [
    "pred = knn.predict(x_test)"
   ]
  },
  {
   "cell_type": "code",
   "execution_count": 152,
   "id": "peaceful-addiction",
   "metadata": {},
   "outputs": [
    {
     "data": {
      "text/plain": [
       "array([[196,  99, 124,  98],\n",
       "       [128, 112, 237,  65],\n",
       "       [ 63,  75, 337,  64],\n",
       "       [119,  36,  71, 389]], dtype=int64)"
      ]
     },
     "execution_count": 152,
     "metadata": {},
     "output_type": "execute_result"
    }
   ],
   "source": [
    "confusion_matrix(y_test, pred)"
   ]
  },
  {
   "cell_type": "code",
   "execution_count": 153,
   "id": "comprehensive-cisco",
   "metadata": {},
   "outputs": [
    {
     "name": "stdout",
     "output_type": "stream",
     "text": [
      "0.46723904202440125\n"
     ]
    }
   ],
   "source": [
    "print(accuracy_score(y_test, pred))"
   ]
  },
  {
   "cell_type": "code",
   "execution_count": 154,
   "id": "precious-north",
   "metadata": {},
   "outputs": [
    {
     "name": "stdout",
     "output_type": "stream",
     "text": [
      "              precision    recall  f1-score   support\n",
      "\n",
      "           1       0.39      0.38      0.38       517\n",
      "           2       0.35      0.21      0.26       542\n",
      "           3       0.44      0.63      0.52       539\n",
      "           4       0.63      0.63      0.63       615\n",
      "\n",
      "    accuracy                           0.47      2213\n",
      "   macro avg       0.45      0.46      0.45      2213\n",
      "weighted avg       0.46      0.47      0.45      2213\n",
      "\n"
     ]
    }
   ],
   "source": [
    "print(classification_report(y_test, pred))"
   ]
  },
  {
   "cell_type": "code",
   "execution_count": 155,
   "id": "immediate-fusion",
   "metadata": {},
   "outputs": [
    {
     "name": "stdout",
     "output_type": "stream",
     "text": [
      "Precision score: 0.46723904202440125\n",
      "Recall score: 0.46723904202440125\n"
     ]
    }
   ],
   "source": [
    "print(\"Precision score:\", precision_score(y_test, pred, average='micro'))\n",
    "print(\"Recall score:\", recall_score(y_test, pred, average='micro'))"
   ]
  },
  {
   "cell_type": "markdown",
   "id": "coordinated-simple",
   "metadata": {},
   "source": [
    "## Random forest"
   ]
  },
  {
   "cell_type": "code",
   "execution_count": 127,
   "id": "brutal-train",
   "metadata": {},
   "outputs": [],
   "source": [
    "from sklearn.ensemble import RandomForestClassifier"
   ]
  },
  {
   "cell_type": "code",
   "execution_count": 128,
   "id": "matched-fifty",
   "metadata": {},
   "outputs": [],
   "source": [
    "clf = RandomForestClassifier(max_depth=11, random_state=0)"
   ]
  },
  {
   "cell_type": "code",
   "execution_count": 129,
   "id": "changed-federal",
   "metadata": {},
   "outputs": [
    {
     "name": "stdout",
     "output_type": "stream",
     "text": [
      "Parameters currently in use:\n",
      "\n",
      "{'bootstrap': True,\n",
      " 'ccp_alpha': 0.0,\n",
      " 'class_weight': None,\n",
      " 'criterion': 'gini',\n",
      " 'max_depth': 11,\n",
      " 'max_features': 'auto',\n",
      " 'max_leaf_nodes': None,\n",
      " 'max_samples': None,\n",
      " 'min_impurity_decrease': 0.0,\n",
      " 'min_impurity_split': None,\n",
      " 'min_samples_leaf': 1,\n",
      " 'min_samples_split': 2,\n",
      " 'min_weight_fraction_leaf': 0.0,\n",
      " 'n_estimators': 100,\n",
      " 'n_jobs': None,\n",
      " 'oob_score': False,\n",
      " 'random_state': 0,\n",
      " 'verbose': 0,\n",
      " 'warm_start': False}\n"
     ]
    }
   ],
   "source": [
    "from pprint import pprint\n",
    "print('Parameters currently in use:\\n')\n",
    "pprint(clf.get_params())"
   ]
  },
  {
   "cell_type": "code",
   "execution_count": 130,
   "id": "nominated-damages",
   "metadata": {},
   "outputs": [
    {
     "data": {
      "text/plain": [
       "RandomForestClassifier(max_depth=11, random_state=0)"
      ]
     },
     "execution_count": 130,
     "metadata": {},
     "output_type": "execute_result"
    }
   ],
   "source": [
    "clf.fit(x_train, y_train)"
   ]
  },
  {
   "cell_type": "code",
   "execution_count": 131,
   "id": "enclosed-astrology",
   "metadata": {},
   "outputs": [],
   "source": [
    "pred_randomclas = clf.predict(x_test)"
   ]
  },
  {
   "cell_type": "code",
   "execution_count": 135,
   "id": "proved-despite",
   "metadata": {},
   "outputs": [
    {
     "data": {
      "text/plain": [
       "array([[255,  86,  70, 106],\n",
       "       [141, 166, 167,  68],\n",
       "       [ 72,  62, 336,  69],\n",
       "       [115,  30,  24, 446]], dtype=int64)"
      ]
     },
     "execution_count": 135,
     "metadata": {},
     "output_type": "execute_result"
    }
   ],
   "source": [
    "confusion_matrix(y_test, pred_randomclas)"
   ]
  },
  {
   "cell_type": "code",
   "execution_count": 136,
   "id": "governmental-mining",
   "metadata": {},
   "outputs": [
    {
     "name": "stdout",
     "output_type": "stream",
     "text": [
      "0.543605964753728\n"
     ]
    }
   ],
   "source": [
    "print(accuracy_score(y_test, pred_randomclas))"
   ]
  },
  {
   "cell_type": "code",
   "execution_count": 137,
   "id": "banner-white",
   "metadata": {},
   "outputs": [
    {
     "name": "stdout",
     "output_type": "stream",
     "text": [
      "Precision score: 0.543605964753728\n",
      "Recall score: 0.543605964753728\n"
     ]
    }
   ],
   "source": [
    "print(\"Precision score:\", precision_score(y_test, pred_randomclas, average='micro'))\n",
    "print(\"Recall score:\", recall_score(y_test, pred_randomclas, average='micro'))"
   ]
  },
  {
   "cell_type": "code",
   "execution_count": 293,
   "id": "internal-steps",
   "metadata": {},
   "outputs": [],
   "source": [
    "finl = clf.predict(tdf1)"
   ]
  },
  {
   "cell_type": "code",
   "execution_count": 294,
   "id": "interested-honey",
   "metadata": {},
   "outputs": [
    {
     "data": {
      "text/plain": [
       "2627"
      ]
     },
     "execution_count": 294,
     "metadata": {},
     "output_type": "execute_result"
    }
   ],
   "source": [
    "len(finl)"
   ]
  },
  {
   "cell_type": "code",
   "execution_count": 298,
   "id": "humanitarian-collapse",
   "metadata": {},
   "outputs": [
    {
     "data": {
      "text/plain": [
       "(2627,)"
      ]
     },
     "execution_count": 298,
     "metadata": {},
     "output_type": "execute_result"
    }
   ],
   "source": [
    "test_df['ID'].shape"
   ]
  },
  {
   "cell_type": "code",
   "execution_count": 302,
   "id": "literary-surgeon",
   "metadata": {},
   "outputs": [],
   "source": [
    "final_prediction = pd.DataFrame({\n",
    "        \"ID\": test_df['ID'],\n",
    "        \"Segmentation\": finl\n",
    "    })"
   ]
  },
  {
   "cell_type": "code",
   "execution_count": 303,
   "id": "objective-dublin",
   "metadata": {},
   "outputs": [
    {
     "data": {
      "text/plain": [
       "(2627, 2)"
      ]
     },
     "execution_count": 303,
     "metadata": {},
     "output_type": "execute_result"
    }
   ],
   "source": [
    "final_prediction.shape"
   ]
  },
  {
   "cell_type": "code",
   "execution_count": 304,
   "id": "buried-celebration",
   "metadata": {},
   "outputs": [],
   "source": [
    "final_prediction.to_csv('final.csv')"
   ]
  },
  {
   "cell_type": "code",
   "execution_count": 307,
   "id": "immune-feature",
   "metadata": {},
   "outputs": [
    {
     "data": {
      "text/html": [
       "<div>\n",
       "<style scoped>\n",
       "    .dataframe tbody tr th:only-of-type {\n",
       "        vertical-align: middle;\n",
       "    }\n",
       "\n",
       "    .dataframe tbody tr th {\n",
       "        vertical-align: top;\n",
       "    }\n",
       "\n",
       "    .dataframe thead th {\n",
       "        text-align: right;\n",
       "    }\n",
       "</style>\n",
       "<table border=\"1\" class=\"dataframe\">\n",
       "  <thead>\n",
       "    <tr style=\"text-align: right;\">\n",
       "      <th></th>\n",
       "      <th>ID</th>\n",
       "      <th>Segmentation</th>\n",
       "    </tr>\n",
       "  </thead>\n",
       "  <tbody>\n",
       "    <tr>\n",
       "      <th>0</th>\n",
       "      <td>458989</td>\n",
       "      <td>2</td>\n",
       "    </tr>\n",
       "    <tr>\n",
       "      <th>1</th>\n",
       "      <td>458994</td>\n",
       "      <td>3</td>\n",
       "    </tr>\n",
       "    <tr>\n",
       "      <th>2</th>\n",
       "      <td>458996</td>\n",
       "      <td>1</td>\n",
       "    </tr>\n",
       "    <tr>\n",
       "      <th>3</th>\n",
       "      <td>459000</td>\n",
       "      <td>3</td>\n",
       "    </tr>\n",
       "    <tr>\n",
       "      <th>4</th>\n",
       "      <td>459001</td>\n",
       "      <td>4</td>\n",
       "    </tr>\n",
       "  </tbody>\n",
       "</table>\n",
       "</div>"
      ],
      "text/plain": [
       "       ID  Segmentation\n",
       "0  458989             2\n",
       "1  458994             3\n",
       "2  458996             1\n",
       "3  459000             3\n",
       "4  459001             4"
      ]
     },
     "execution_count": 307,
     "metadata": {},
     "output_type": "execute_result"
    }
   ],
   "source": [
    "d = pd.read_csv(\"final.csv\")\n",
    "d.head()"
   ]
  },
  {
   "cell_type": "markdown",
   "id": "nonprofit-while",
   "metadata": {},
   "source": [
    "### Hyper-parameter optimization with Random forest"
   ]
  },
  {
   "cell_type": "code",
   "execution_count": 262,
   "id": "balanced-gamma",
   "metadata": {},
   "outputs": [],
   "source": [
    "from sklearn.model_selection import RandomizedSearchCV, GridSearchCV"
   ]
  },
  {
   "cell_type": "code",
   "execution_count": 266,
   "id": "reserved-significance",
   "metadata": {},
   "outputs": [],
   "source": [
    "random_clf = RandomForestClassifier()"
   ]
  },
  {
   "cell_type": "code",
   "execution_count": 298,
   "id": "painful-guinea",
   "metadata": {},
   "outputs": [
    {
     "name": "stdout",
     "output_type": "stream",
     "text": [
      "{'bootstrap': [True, False],\n",
      " 'max_depth': [10, 20, 30, 40, 50, 60, 70, 80, 90, 100, 110, None],\n",
      " 'max_features': ['auto', 'sqrt'],\n",
      " 'min_samples_leaf': [1, 2, 4],\n",
      " 'min_samples_split': [2, 5, 10],\n",
      " 'n_estimators': [200, 400, 600, 800, 1000, 1200, 1400, 1600, 1800, 2000]}\n"
     ]
    }
   ],
   "source": [
    "# Number of trees in random forest\n",
    "n_estimators = [int(x) for x in np.linspace(start = 200, stop = 2000, num = 10)]\n",
    "# Number of features to consider at every split\n",
    "max_features = ['auto', 'sqrt']\n",
    "# Maximum number of levels in tree\n",
    "max_depth = [int(x) for x in np.linspace(10, 110, num = 11)]\n",
    "max_depth.append(None)\n",
    "# Minimum number of samples required to split a node\n",
    "min_samples_split = [2, 5, 10]\n",
    "# Minimum number of samples required at each leaf node\n",
    "min_samples_leaf = [1, 2, 4]\n",
    "# Method of selecting samples for training each tree\n",
    "bootstrap = [True, False]\n",
    "# Create the random grid\n",
    "random_grid = {'n_estimators': n_estimators,\n",
    "               'max_features': max_features,\n",
    "               'max_depth': max_depth,\n",
    "               'min_samples_split': min_samples_split,\n",
    "               'min_samples_leaf': min_samples_leaf,\n",
    "               'bootstrap': bootstrap}\n",
    "pprint(random_grid)"
   ]
  },
  {
   "cell_type": "code",
   "execution_count": 304,
   "id": "occupied-matter",
   "metadata": {},
   "outputs": [],
   "source": [
    "random_search = RandomizedSearchCV(estimator = random_clf, param_distributions = random_grid, n_iter = 10, cv = 3, verbose=2, random_state=42, n_jobs = -1)"
   ]
  },
  {
   "cell_type": "code",
   "execution_count": 305,
   "id": "pleased-lighter",
   "metadata": {},
   "outputs": [],
   "source": [
    "def timer(start_time=None):\n",
    "    if not start_time:\n",
    "        start_time = datetime.now()\n",
    "        return start_time\n",
    "    elif start_time:\n",
    "        thour, temp_sec = divmod((datetime.now() - start_time).total_seconds(), 3600)\n",
    "        tmin, tsec = divmod(temp_sec, 60)\n",
    "        print('\\n Time taken: %i hours %i minutes and %s seconds.' % (thour, tmin, round(tsec, 2)))"
   ]
  },
  {
   "cell_type": "code",
   "execution_count": 306,
   "id": "private-plumbing",
   "metadata": {},
   "outputs": [
    {
     "name": "stdout",
     "output_type": "stream",
     "text": [
      "Fitting 3 folds for each of 10 candidates, totalling 30 fits\n",
      "\n",
      " Time taken: 0 hours 2 minutes and 47.38 seconds.\n"
     ]
    }
   ],
   "source": [
    "from datetime import datetime\n",
    "# Here we go\n",
    "start_time = timer(None) # timing starts from this point for \"start_time\" variable\n",
    "random_search.fit(x,y)\n",
    "timer(start_time) # timing ends here for \"start_time\" variabl"
   ]
  },
  {
   "cell_type": "code",
   "execution_count": 307,
   "id": "decimal-vision",
   "metadata": {},
   "outputs": [
    {
     "data": {
      "text/plain": [
       "RandomForestClassifier(max_depth=100, min_samples_leaf=4, n_estimators=1200)"
      ]
     },
     "execution_count": 307,
     "metadata": {},
     "output_type": "execute_result"
    }
   ],
   "source": [
    "random_search.best_estimator_"
   ]
  },
  {
   "cell_type": "code",
   "execution_count": 308,
   "id": "bearing-falls",
   "metadata": {},
   "outputs": [],
   "source": [
    "random_clf = RandomForestClassifier(max_depth=100, min_samples_leaf=4, n_estimators=1200)"
   ]
  },
  {
   "cell_type": "code",
   "execution_count": 309,
   "id": "british-missile",
   "metadata": {},
   "outputs": [
    {
     "data": {
      "text/plain": [
       "RandomForestClassifier(max_depth=100, min_samples_leaf=4, n_estimators=1200)"
      ]
     },
     "execution_count": 309,
     "metadata": {},
     "output_type": "execute_result"
    }
   ],
   "source": [
    "random_clf.fit(x_train, y_train)"
   ]
  },
  {
   "cell_type": "code",
   "execution_count": 310,
   "id": "superior-shanghai",
   "metadata": {},
   "outputs": [],
   "source": [
    "random_pred = random_clf.predict(x_test)"
   ]
  },
  {
   "cell_type": "code",
   "execution_count": 2,
   "id": "communist-brick",
   "metadata": {},
   "outputs": [
    {
     "ename": "NameError",
     "evalue": "name 'accuracy_score' is not defined",
     "output_type": "error",
     "traceback": [
      "\u001b[1;31m---------------------------------------------------------------------------\u001b[0m",
      "\u001b[1;31mNameError\u001b[0m                                 Traceback (most recent call last)",
      "\u001b[1;32m<ipython-input-2-ba9e7d4186fe>\u001b[0m in \u001b[0;36m<module>\u001b[1;34m\u001b[0m\n\u001b[1;32m----> 1\u001b[1;33m \u001b[0mprint\u001b[0m\u001b[1;33m(\u001b[0m\u001b[1;34m\"Accuracy: \"\u001b[0m\u001b[1;33m,\u001b[0m \u001b[0maccuracy_score\u001b[0m\u001b[1;33m(\u001b[0m\u001b[0my_test\u001b[0m\u001b[1;33m,\u001b[0m \u001b[0mpred_randomclas\u001b[0m\u001b[1;33m)\u001b[0m\u001b[1;33m)\u001b[0m\u001b[1;33m\u001b[0m\u001b[1;33m\u001b[0m\u001b[0m\n\u001b[0m\u001b[0;32m      2\u001b[0m \u001b[0mprint\u001b[0m\u001b[1;33m(\u001b[0m\u001b[1;34m\"Precision score: \"\u001b[0m\u001b[1;33m,\u001b[0m \u001b[0mprecision_score\u001b[0m\u001b[1;33m(\u001b[0m\u001b[0my_test\u001b[0m\u001b[1;33m,\u001b[0m \u001b[0mpred_randomclas\u001b[0m\u001b[1;33m,\u001b[0m \u001b[0maverage\u001b[0m\u001b[1;33m=\u001b[0m\u001b[1;34m'micro'\u001b[0m\u001b[1;33m)\u001b[0m\u001b[1;33m)\u001b[0m\u001b[1;33m\u001b[0m\u001b[1;33m\u001b[0m\u001b[0m\n\u001b[0;32m      3\u001b[0m \u001b[0mprint\u001b[0m\u001b[1;33m(\u001b[0m\u001b[1;34m\"Recall score: \"\u001b[0m\u001b[1;33m,\u001b[0m \u001b[0mrecall_score\u001b[0m\u001b[1;33m(\u001b[0m\u001b[0my_test\u001b[0m\u001b[1;33m,\u001b[0m \u001b[0mpred_randomclas\u001b[0m\u001b[1;33m,\u001b[0m \u001b[0maverage\u001b[0m\u001b[1;33m=\u001b[0m\u001b[1;34m'micro'\u001b[0m\u001b[1;33m)\u001b[0m\u001b[1;33m)\u001b[0m\u001b[1;33m\u001b[0m\u001b[1;33m\u001b[0m\u001b[0m\n",
      "\u001b[1;31mNameError\u001b[0m: name 'accuracy_score' is not defined"
     ]
    }
   ],
   "source": [
    "print(\"Accuracy: \", accuracy_score(y_test, pred_randomclas))\n",
    "print(\"Precision score: \", precision_score(y_test, pred_randomclas, average='micro'))\n",
    "print(\"Recall score: \", recall_score(y_test, pred_randomclas, average='micro'))"
   ]
  },
  {
   "cell_type": "code",
   "execution_count": 339,
   "id": "romantic-language",
   "metadata": {},
   "outputs": [
    {
     "data": {
      "text/plain": [
       "array([0.46363636, 0.37471783, 0.5915493 , 0.68404908])"
      ]
     },
     "execution_count": 339,
     "metadata": {},
     "output_type": "execute_result"
    }
   ],
   "source": [
    "from sklearn.metrics import f1_score\n",
    "f1_score(y_test, pred_randomclas, average=None)"
   ]
  },
  {
   "cell_type": "markdown",
   "id": "reduced-nightmare",
   "metadata": {},
   "source": [
    "## Gradient Boosting Classifier"
   ]
  },
  {
   "cell_type": "code",
   "execution_count": 247,
   "id": "abroad-spending",
   "metadata": {},
   "outputs": [],
   "source": [
    "# import xgboost\n",
    "# from sklearn.ensemble import xgboost"
   ]
  },
  {
   "cell_type": "code",
   "execution_count": 167,
   "id": "moved-wagner",
   "metadata": {},
   "outputs": [],
   "source": [
    "from sklearn.ensemble import GradientBoostingClassifier"
   ]
  },
  {
   "cell_type": "code",
   "execution_count": 259,
   "id": "assumed-athens",
   "metadata": {},
   "outputs": [],
   "source": [
    "clf_gradient = GradientBoostingClassifier(learning_rate=1.0, max_depth=4, random_state=0).fit(x_train, y_train)"
   ]
  },
  {
   "cell_type": "code",
   "execution_count": 315,
   "id": "listed-theater",
   "metadata": {},
   "outputs": [
    {
     "name": "stdout",
     "output_type": "stream",
     "text": [
      "{'ccp_alpha': 0.0,\n",
      " 'criterion': 'friedman_mse',\n",
      " 'init': None,\n",
      " 'learning_rate': 0.1,\n",
      " 'loss': 'deviance',\n",
      " 'max_depth': 3,\n",
      " 'max_features': None,\n",
      " 'max_leaf_nodes': None,\n",
      " 'min_impurity_decrease': 0.0,\n",
      " 'min_impurity_split': None,\n",
      " 'min_samples_leaf': 1,\n",
      " 'min_samples_split': 2,\n",
      " 'min_weight_fraction_leaf': 0.0,\n",
      " 'n_estimators': 100,\n",
      " 'n_iter_no_change': None,\n",
      " 'random_state': None,\n",
      " 'subsample': 1.0,\n",
      " 'tol': 0.0001,\n",
      " 'validation_fraction': 0.1,\n",
      " 'verbose': 0,\n",
      " 'warm_start': False}\n"
     ]
    }
   ],
   "source": [
    "pprint(clf_gradient.get_params())"
   ]
  },
  {
   "cell_type": "code",
   "execution_count": 260,
   "id": "rental-symbol",
   "metadata": {},
   "outputs": [],
   "source": [
    "pred_gradient = clf_gradient.predict(x_test)"
   ]
  },
  {
   "cell_type": "code",
   "execution_count": 261,
   "id": "written-shade",
   "metadata": {},
   "outputs": [
    {
     "name": "stdout",
     "output_type": "stream",
     "text": [
      "0.4771802982376864\n"
     ]
    }
   ],
   "source": [
    "print(accuracy_score(y_test, pred_gradient))"
   ]
  },
  {
   "cell_type": "markdown",
   "id": "immediate-bennett",
   "metadata": {},
   "source": [
    "### Parameter tuning for gradient boost"
   ]
  },
  {
   "cell_type": "code",
   "execution_count": 283,
   "id": "qualified-respect",
   "metadata": {},
   "outputs": [],
   "source": [
    "clf_gradient = GradientBoostingClassifier()"
   ]
  },
  {
   "cell_type": "code",
   "execution_count": 326,
   "id": "supreme-phone",
   "metadata": {},
   "outputs": [
    {
     "name": "stdout",
     "output_type": "stream",
     "text": [
      "{'max_depth': [10, 11, 12, 13, 14, 15, 16, 17, 18, 19, 20, None],\n",
      " 'max_features': ['auto', 'sqrt'],\n",
      " 'min_samples_leaf': [1, 2, 4],\n",
      " 'min_samples_split': [2, 5, 10],\n",
      " 'n_estimators': [1, 2, 3, 4, 5, 6, 7, 8, 9, 10]}\n"
     ]
    }
   ],
   "source": [
    "n_estimators = [int(x) for x in np.linspace(start = 1, stop = 10, num = 10)]\n",
    "# Number of features to consider at every split\n",
    "max_features = ['auto', 'sqrt']\n",
    "# Maximum number of levels in tree\n",
    "max_depth = [int(x) for x in np.linspace(10, 20, num = 11)]\n",
    "max_depth.append(None)\n",
    "# Minimum number of samples required to split a node\n",
    "min_samples_split = [2, 5, 10]\n",
    "# Minimum number of samples required at each leaf node\n",
    "min_samples_leaf = [1, 2, 4]\n",
    "# Method of selecting samples for training each tree\n",
    "# bootstrap = [True, False]\n",
    "# Create the random grid\n",
    "random_grid = {'n_estimators': n_estimators,\n",
    "               'max_features': max_features,\n",
    "               'max_depth': max_depth,\n",
    "               'min_samples_split': min_samples_split,\n",
    "               'min_samples_leaf': min_samples_leaf}\n",
    "pprint(random_grid)"
   ]
  },
  {
   "cell_type": "code",
   "execution_count": 327,
   "id": "unknown-exclusive",
   "metadata": {},
   "outputs": [],
   "source": [
    "# params = {\n",
    "#     \"learning_rate\" : [0.05, 0.01, 0.1, 0.23, 0.15, 0.4],\n",
    "#     \"max_depth\"     : [3, 4, 5, 6, 8, 10, 12, 15, 17],\n",
    "#     \"gamma\"   : [0.1, 0.2, 0.3, 0.4, 0.5],\n",
    "#     \"colsample_bytree\" : [0.3, 0.4, 0.5, 0.7]\n",
    "# }"
   ]
  },
  {
   "cell_type": "code",
   "execution_count": 328,
   "id": "binding-provider",
   "metadata": {},
   "outputs": [],
   "source": [
    "random_search = RandomizedSearchCV(estimator = clf_gradient, param_distributions = random_grid, n_iter = 10, cv = 3, verbose=2, random_state=42, n_jobs = -1)"
   ]
  },
  {
   "cell_type": "code",
   "execution_count": 329,
   "id": "violent-requirement",
   "metadata": {},
   "outputs": [],
   "source": [
    "def timer(start_time=None):\n",
    "    if not start_time:\n",
    "        start_time = datetime.now()\n",
    "        return start_time\n",
    "    elif start_time:\n",
    "        thour, temp_sec = divmod((datetime.now() - start_time).total_seconds(), 3600)\n",
    "        tmin, tsec = divmod(temp_sec, 60)\n",
    "        print('\\n Time taken: %i hours %i minutes and %s seconds.' % (thour, tmin, round(tsec, 2)))"
   ]
  },
  {
   "cell_type": "code",
   "execution_count": 330,
   "id": "aggressive-valuable",
   "metadata": {},
   "outputs": [
    {
     "name": "stdout",
     "output_type": "stream",
     "text": [
      "Fitting 3 folds for each of 10 candidates, totalling 30 fits\n",
      "\n",
      " Time taken: 0 hours 0 minutes and 42.55 seconds.\n"
     ]
    }
   ],
   "source": [
    "from datetime import datetime\n",
    "# Here we go\n",
    "start_time = timer(None) # timing starts from this point for \"start_time\" variable\n",
    "random_search.fit(x,y)\n",
    "timer(start_time) # timing ends here for \"start_time\" variabl"
   ]
  },
  {
   "cell_type": "code",
   "execution_count": 332,
   "id": "intensive-firewall",
   "metadata": {},
   "outputs": [
    {
     "data": {
      "text/plain": [
       "GradientBoostingClassifier(max_depth=16, max_features='sqrt',\n",
       "                           min_samples_leaf=4, n_estimators=9)"
      ]
     },
     "execution_count": 332,
     "metadata": {},
     "output_type": "execute_result"
    }
   ],
   "source": [
    "random_search.best_estimator_"
   ]
  },
  {
   "cell_type": "code",
   "execution_count": 335,
   "id": "young-legislation",
   "metadata": {},
   "outputs": [],
   "source": [
    "clf_gradient = GradientBoostingClassifier(max_depth=16, max_features='sqrt',\n",
    "                           min_samples_leaf=4, n_estimators=9)"
   ]
  },
  {
   "cell_type": "code",
   "execution_count": 336,
   "id": "atmospheric-boating",
   "metadata": {},
   "outputs": [
    {
     "data": {
      "text/plain": [
       "GradientBoostingClassifier(max_depth=16, max_features='sqrt',\n",
       "                           min_samples_leaf=4, n_estimators=9)"
      ]
     },
     "execution_count": 336,
     "metadata": {},
     "output_type": "execute_result"
    }
   ],
   "source": [
    "clf_gradient.fit(x_train, y_train)"
   ]
  },
  {
   "cell_type": "code",
   "execution_count": 337,
   "id": "artificial-reconstruction",
   "metadata": {},
   "outputs": [],
   "source": [
    "pred_gradient = clf_gradient.predict(x_test)"
   ]
  },
  {
   "cell_type": "code",
   "execution_count": 338,
   "id": "determined-coffee",
   "metadata": {},
   "outputs": [
    {
     "name": "stdout",
     "output_type": "stream",
     "text": [
      "Accuracy:  0.5250790781744239\n",
      "Precision score:  0.5250790781744239\n",
      "Recall score:  0.5250790781744239\n"
     ]
    }
   ],
   "source": [
    "print(\"Accuracy: \", accuracy_score(y_test, pred_gradient))\n",
    "print(\"Precision score: \", precision_score(y_test, pred_gradient, average='micro'))\n",
    "print(\"Recall score: \", recall_score(y_test, pred_gradient, average='micro'))"
   ]
  },
  {
   "cell_type": "code",
   "execution_count": null,
   "id": "fabulous-wagon",
   "metadata": {},
   "outputs": [],
   "source": []
  },
  {
   "cell_type": "markdown",
   "id": "better-happening",
   "metadata": {},
   "source": [
    "## XGB Classifier"
   ]
  },
  {
   "cell_type": "code",
   "execution_count": 342,
   "id": "jewish-programming",
   "metadata": {},
   "outputs": [],
   "source": [
    "from sklearn.model_selection import GridSearchCV\n",
    "from sklearn.model_selection import KFold\n",
    "from xgboost.sklearn import XGBClassifier"
   ]
  },
  {
   "cell_type": "code",
   "execution_count": 341,
   "id": "indian-return",
   "metadata": {},
   "outputs": [
    {
     "name": "stdout",
     "output_type": "stream",
     "text": [
      "Collecting xgboost\n",
      "  Downloading xgboost-1.3.3-py3-none-win_amd64.whl (95.2 MB)\n",
      "Requirement already satisfied: scipy in c:\\users\\dhchaudhary\\appdata\\local\\programs\\python\\python39\\lib\\site-packages (from xgboost) (1.6.1)\n",
      "Requirement already satisfied: numpy in c:\\users\\dhchaudhary\\appdata\\local\\programs\\python\\python39\\lib\\site-packages (from xgboost) (1.20.1)\n",
      "Installing collected packages: xgboost\n",
      "Successfully installed xgboost-1.3.3\n"
     ]
    }
   ],
   "source": [
    "# !pip install xgboost"
   ]
  },
  {
   "cell_type": "code",
   "execution_count": 343,
   "id": "coated-punch",
   "metadata": {},
   "outputs": [],
   "source": [
    "grid = {\n",
    "        'min_child_weight': [1, 5, 10],\n",
    "        'gamma': [0.5, 1, 1.5, 2, 5],\n",
    "        'subsample': [0.6, 0.8, 1.0],\n",
    "        'colsample_bytree': [0.6, 0.8, 1.0],\n",
    "        'max_depth': [3, 4, 5]\n",
    "        }\n",
    "kf = KFold(n_splits=2)\n",
    "\n",
    "gs = GridSearchCV(estimator = XGBClassifier(n_estimators=500), param_grid = grid, scoring='accuracy',n_jobs=4, cv=kf)"
   ]
  },
  {
   "cell_type": "code",
   "execution_count": 345,
   "id": "modular-wales",
   "metadata": {},
   "outputs": [
    {
     "name": "stderr",
     "output_type": "stream",
     "text": [
      "c:\\users\\dhchaudhary\\appdata\\local\\programs\\python\\python39\\lib\\site-packages\\xgboost\\sklearn.py:888: UserWarning: The use of label encoder in XGBClassifier is deprecated and will be removed in a future release. To remove this warning, do the following: 1) Pass option use_label_encoder=False when constructing XGBClassifier object; and 2) Encode your labels (y) as integers starting with 0, i.e. 0, 1, 2, ..., [num_class - 1].\n",
      "  warnings.warn(label_encoder_deprecation_msg, UserWarning)\n"
     ]
    },
    {
     "name": "stdout",
     "output_type": "stream",
     "text": [
      "[15:52:37] WARNING: C:/Users/Administrator/workspace/xgboost-win64_release_1.3.0/src/learner.cc:1061: Starting in XGBoost 1.3.0, the default evaluation metric used with the objective 'multi:softprob' was changed from 'merror' to 'mlogloss'. Explicitly set eval_metric if you'd like to restore the old behavior.\n",
      "Accuracy: 54.04%\n"
     ]
    }
   ],
   "source": [
    "gs.fit(x_train, y_train)\n",
    "\n",
    "y_pred = gs.predict(x_test)\n",
    "\n",
    "accuracy = accuracy_score(y_test, y_pred)\n",
    "print(\"Accuracy: %.2f%%\" % (accuracy * 100.0))"
   ]
  },
  {
   "cell_type": "code",
   "execution_count": 352,
   "id": "optical-minute",
   "metadata": {},
   "outputs": [
    {
     "name": "stdout",
     "output_type": "stream",
     "text": [
      "Accuracy:  0.5404428377767736\n",
      "Precision score:  0.5404428377767736\n",
      "Recall score:  0.5404428377767736\n"
     ]
    }
   ],
   "source": [
    "print(\"Accuracy: \", accuracy_score(y_test, y_pred))\n",
    "print(\"Precision score: \", precision_score(y_test, y_pred, average='micro'))\n",
    "print(\"Recall score: \", recall_score(y_test, y_pred, average='micro'))"
   ]
  },
  {
   "cell_type": "code",
   "execution_count": 354,
   "id": "final-fraction",
   "metadata": {},
   "outputs": [],
   "source": [
    "# pprint(gs.get_params())"
   ]
  },
  {
   "cell_type": "code",
   "execution_count": 347,
   "id": "civilian-arrangement",
   "metadata": {},
   "outputs": [
    {
     "data": {
      "text/plain": [
       "XGBClassifier(base_score=0.5, booster='gbtree', colsample_bylevel=1,\n",
       "              colsample_bynode=1, colsample_bytree=0.8, gamma=5, gpu_id=-1,\n",
       "              importance_type='gain', interaction_constraints='',\n",
       "              learning_rate=0.300000012, max_delta_step=0, max_depth=4,\n",
       "              min_child_weight=5, missing=nan, monotone_constraints='()',\n",
       "              n_estimators=500, n_jobs=4, num_parallel_tree=1,\n",
       "              objective='multi:softprob', random_state=0, reg_alpha=0,\n",
       "              reg_lambda=1, scale_pos_weight=None, subsample=0.8,\n",
       "              tree_method='exact', validate_parameters=1, verbosity=None)"
      ]
     },
     "execution_count": 347,
     "metadata": {},
     "output_type": "execute_result"
    }
   ],
   "source": [
    "gs.best_estimator_"
   ]
  },
  {
   "cell_type": "code",
   "execution_count": 350,
   "id": "macro-lounge",
   "metadata": {},
   "outputs": [],
   "source": [
    "xgb = XGBClassifier(base_score=0.5, booster='gbtree', colsample_bylevel=1,\n",
    "              colsample_bynode=1, colsample_bytree=0.8, gamma=5, gpu_id=-1,\n",
    "              importance_type='gain', interaction_constraints='',\n",
    "              learning_rate=0.300000012, max_delta_step=0, max_depth=4,\n",
    "              min_child_weight=5,monotone_constraints='()',\n",
    "              n_estimators=500, n_jobs=4, num_parallel_tree=1,\n",
    "              objective='multi:softprob', random_state=0, reg_alpha=0,\n",
    "              reg_lambda=1, scale_pos_weight=None, subsample=0.8,\n",
    "              tree_method='exact', validate_parameters=1, verbosity=None)"
   ]
  },
  {
   "cell_type": "code",
   "execution_count": 353,
   "id": "unique-manitoba",
   "metadata": {},
   "outputs": [
    {
     "name": "stderr",
     "output_type": "stream",
     "text": [
      "c:\\users\\dhchaudhary\\appdata\\local\\programs\\python\\python39\\lib\\site-packages\\xgboost\\sklearn.py:888: UserWarning: The use of label encoder in XGBClassifier is deprecated and will be removed in a future release. To remove this warning, do the following: 1) Pass option use_label_encoder=False when constructing XGBClassifier object; and 2) Encode your labels (y) as integers starting with 0, i.e. 0, 1, 2, ..., [num_class - 1].\n",
      "  warnings.warn(label_encoder_deprecation_msg, UserWarning)\n"
     ]
    },
    {
     "name": "stdout",
     "output_type": "stream",
     "text": [
      "[16:11:06] WARNING: C:/Users/Administrator/workspace/xgboost-win64_release_1.3.0/src/learner.cc:1061: Starting in XGBoost 1.3.0, the default evaluation metric used with the objective 'multi:softprob' was changed from 'merror' to 'mlogloss'. Explicitly set eval_metric if you'd like to restore the old behavior.\n",
      "Accuracy: 54.04%\n"
     ]
    }
   ],
   "source": [
    "xgb.fit(x_train, y_train)\n",
    "\n",
    "y_pred = xgb.predict(x_test)\n",
    "\n",
    "accuracy = accuracy_score(y_test, y_pred)\n",
    "print(\"Accuracy: %.2f%%\" % (accuracy * 100.0))"
   ]
  },
  {
   "cell_type": "code",
   "execution_count": null,
   "id": "solid-stroke",
   "metadata": {},
   "outputs": [],
   "source": []
  }
 ],
 "metadata": {
  "kernelspec": {
   "display_name": "Python 3",
   "language": "python",
   "name": "python3"
  },
  "language_info": {
   "codemirror_mode": {
    "name": "ipython",
    "version": 3
   },
   "file_extension": ".py",
   "mimetype": "text/x-python",
   "name": "python",
   "nbconvert_exporter": "python",
   "pygments_lexer": "ipython3",
   "version": "3.9.2"
  }
 },
 "nbformat": 4,
 "nbformat_minor": 5
}
