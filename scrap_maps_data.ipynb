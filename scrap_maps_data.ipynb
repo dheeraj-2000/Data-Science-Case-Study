{
 "cells": [
  {
   "cell_type": "code",
   "execution_count": 4,
   "id": "aggregate-contributor",
   "metadata": {},
   "outputs": [],
   "source": []
  },
  {
   "cell_type": "code",
   "execution_count": 34,
   "id": "indonesian-tooth",
   "metadata": {},
   "outputs": [
    {
     "name": "stdout",
     "output_type": "stream",
     "text": [
      "{\n",
      "   \"error_message\" : \"The provided API key is invalid.\",\n",
      "   \"html_attributions\" : [],\n",
      "   \"status\" : \"REQUEST_DENIED\"\n",
      "}\n",
      "\n"
     ]
    }
   ],
   "source": [
    "# !pip install google-search-results\n",
    "import requests\n",
    "\n",
    "url = \"https://maps.googleapis.com/maps/api/place/details/json?place_id=ChIJN1t_tDeuEmsRUsoyG83frY4&fields=name%2Crating%2Cformatted_phone_number&key=YOUR_API_KEY\"\n",
    "\n",
    "payload={}\n",
    "headers = {}\n",
    "\n",
    "response = requests.request(\"GET\", url, headers=headers, data=payload)\n",
    "\n",
    "print(response.text)"
   ]
  },
  {
   "cell_type": "code",
   "execution_count": 62,
   "id": "prescribed-wagon",
   "metadata": {},
   "outputs": [
    {
     "name": "stdout",
     "output_type": "stream",
     "text": [
      "(20, 18)\n"
     ]
    },
    {
     "data": {
      "text/html": [
       "<div>\n",
       "<style scoped>\n",
       "    .dataframe tbody tr th:only-of-type {\n",
       "        vertical-align: middle;\n",
       "    }\n",
       "\n",
       "    .dataframe tbody tr th {\n",
       "        vertical-align: top;\n",
       "    }\n",
       "\n",
       "    .dataframe thead th {\n",
       "        text-align: right;\n",
       "    }\n",
       "</style>\n",
       "<table border=\"1\" class=\"dataframe\">\n",
       "  <thead>\n",
       "    <tr style=\"text-align: right;\">\n",
       "      <th></th>\n",
       "      <th>address</th>\n",
       "      <th>data_cid</th>\n",
       "      <th>data_id</th>\n",
       "      <th>gps_coordinates</th>\n",
       "      <th>open_state</th>\n",
       "      <th>photos_link</th>\n",
       "      <th>place_id</th>\n",
       "      <th>place_id_search</th>\n",
       "      <th>position</th>\n",
       "      <th>reviews_link</th>\n",
       "      <th>thumbnail</th>\n",
       "      <th>title</th>\n",
       "      <th>type</th>\n",
       "      <th>rating</th>\n",
       "      <th>reviews</th>\n",
       "      <th>hours</th>\n",
       "      <th>phone</th>\n",
       "      <th>service_options</th>\n",
       "    </tr>\n",
       "  </thead>\n",
       "  <tbody>\n",
       "    <tr>\n",
       "      <th>0</th>\n",
       "      <td>Ibrahimpur road, Dhakwa Bazzar, Uttar Pradesh ...</td>\n",
       "      <td>14411034660842374674</td>\n",
       "      <td>0x3990717f6d2cb5c9:0xc7fe47abcd5a0612</td>\n",
       "      <td>{'latitude': 26.0030972, 'longitude': 82.3766594}</td>\n",
       "      <td>Open now</td>\n",
       "      <td>https://serpapi.com/search.json?data_id=0x3990...</td>\n",
       "      <td>ChIJybUsbX9xkDkREgZazatH_sc</td>\n",
       "      <td>https://serpapi.com/search.json?data=%214m5%21...</td>\n",
       "      <td>1.0</td>\n",
       "      <td>https://serpapi.com/search.json?data_id=0x3990...</td>\n",
       "      <td>https://lh5.googleusercontent.com/p/AF1QipNmXj...</td>\n",
       "      <td>Maurya Medical Store</td>\n",
       "      <td>Pharmacy</td>\n",
       "      <td>NaN</td>\n",
       "      <td>NaN</td>\n",
       "      <td>NaN</td>\n",
       "      <td>NaN</td>\n",
       "      <td>NaN</td>\n",
       "    </tr>\n",
       "    <tr>\n",
       "      <th>1</th>\n",
       "      <td>Saidpur - Khajurhat Rd, Singramau, Uttar Prade...</td>\n",
       "      <td>6545467999159411202</td>\n",
       "      <td>0x39906e057cbd3923:0x5ad62c7742956202</td>\n",
       "      <td>{'latitude': 25.9459815, 'longitude': 82.3991286}</td>\n",
       "      <td>NaN</td>\n",
       "      <td>https://serpapi.com/search.json?data_id=0x3990...</td>\n",
       "      <td>ChIJIzm9fAVukDkRAmKVQncs1lo</td>\n",
       "      <td>https://serpapi.com/search.json?data=%214m5%21...</td>\n",
       "      <td>2.0</td>\n",
       "      <td>https://serpapi.com/search.json?data_id=0x3990...</td>\n",
       "      <td>NaN</td>\n",
       "      <td>Majumdar Medical</td>\n",
       "      <td>Pharmacy</td>\n",
       "      <td>2.0</td>\n",
       "      <td>2.0</td>\n",
       "      <td>NaN</td>\n",
       "      <td>NaN</td>\n",
       "      <td>NaN</td>\n",
       "    </tr>\n",
       "  </tbody>\n",
       "</table>\n",
       "</div>"
      ],
      "text/plain": [
       "                                             address              data_cid  \\\n",
       "0  Ibrahimpur road, Dhakwa Bazzar, Uttar Pradesh ...  14411034660842374674   \n",
       "1  Saidpur - Khajurhat Rd, Singramau, Uttar Prade...   6545467999159411202   \n",
       "\n",
       "                                 data_id  \\\n",
       "0  0x3990717f6d2cb5c9:0xc7fe47abcd5a0612   \n",
       "1  0x39906e057cbd3923:0x5ad62c7742956202   \n",
       "\n",
       "                                     gps_coordinates open_state  \\\n",
       "0  {'latitude': 26.0030972, 'longitude': 82.3766594}   Open now   \n",
       "1  {'latitude': 25.9459815, 'longitude': 82.3991286}        NaN   \n",
       "\n",
       "                                         photos_link  \\\n",
       "0  https://serpapi.com/search.json?data_id=0x3990...   \n",
       "1  https://serpapi.com/search.json?data_id=0x3990...   \n",
       "\n",
       "                      place_id  \\\n",
       "0  ChIJybUsbX9xkDkREgZazatH_sc   \n",
       "1  ChIJIzm9fAVukDkRAmKVQncs1lo   \n",
       "\n",
       "                                     place_id_search  position  \\\n",
       "0  https://serpapi.com/search.json?data=%214m5%21...       1.0   \n",
       "1  https://serpapi.com/search.json?data=%214m5%21...       2.0   \n",
       "\n",
       "                                        reviews_link  \\\n",
       "0  https://serpapi.com/search.json?data_id=0x3990...   \n",
       "1  https://serpapi.com/search.json?data_id=0x3990...   \n",
       "\n",
       "                                           thumbnail                 title  \\\n",
       "0  https://lh5.googleusercontent.com/p/AF1QipNmXj...  Maurya Medical Store   \n",
       "1                                                NaN      Majumdar Medical   \n",
       "\n",
       "       type  rating  reviews hours phone service_options  \n",
       "0  Pharmacy     NaN      NaN   NaN   NaN             NaN  \n",
       "1  Pharmacy     2.0      2.0   NaN   NaN             NaN  "
      ]
     },
     "execution_count": 62,
     "metadata": {},
     "output_type": "execute_result"
    }
   ],
   "source": [
    "import os\n",
    "import pandas as pd\n",
    "from urllib.parse import urlsplit, parse_qsl\n",
    "from serpapi import GoogleSearch\n",
    "\n",
    "## Defining the required search parameters\n",
    "params = {\n",
    "    \"engine\": \"google_maps\",\n",
    "    \"q\": \"pharmacy\",\n",
    "    \"type\": \"search\",\n",
    "    \"ll\": \"@25.9757834,82.4209912, 14z\",\n",
    "    \"api_key\": \"597f1251c97282464e428adb11092fb0fedb0370531687966f78eb007ee33a8d\"\n",
    "}\n",
    "\n",
    "\n",
    "search = GoogleSearch(params)       ## Calling the google search function\n",
    "results = search.get_dict()         ## getting the results of google search\n",
    "    temp = results['local_results'] ## fetching the result of query\n",
    "\n",
    "## Creating DataFrame\n",
    "priya = pd.DataFrame()\n",
    "\n",
    "for i in range(0, len(temp)):       ## Traversing in the json result stored in temp variable\n",
    "    priya = priya.append(temp[i], ignore_index=True)  ## storing results of each index of temp variable as a row in our dataframe\n",
    "    \n",
    "print(priya.shape)\n",
    "priya.head(2)"
   ]
  },
  {
   "cell_type": "code",
   "execution_count": null,
   "id": "dangerous-board",
   "metadata": {},
   "outputs": [],
   "source": []
  },
  {
   "cell_type": "code",
   "execution_count": null,
   "id": "grateful-bangkok",
   "metadata": {},
   "outputs": [],
   "source": []
  },
  {
   "cell_type": "code",
   "execution_count": null,
   "id": "spread-spencer",
   "metadata": {},
   "outputs": [],
   "source": []
  },
  {
   "cell_type": "code",
   "execution_count": null,
   "id": "featured-individual",
   "metadata": {},
   "outputs": [],
   "source": []
  },
  {
   "cell_type": "code",
   "execution_count": null,
   "id": "noble-reminder",
   "metadata": {},
   "outputs": [],
   "source": []
  },
  {
   "cell_type": "code",
   "execution_count": 15,
   "id": "civilian-proposal",
   "metadata": {},
   "outputs": [
    {
     "data": {
      "text/plain": [
       "{'position': 1,\n",
       " 'title': 'Madhu Medical Stores',\n",
       " 'place_id': 'ChIJZRi2aq7DJzoR6XqEI1h8XKs',\n",
       " 'data_id': '0x3a27c3ae6ab61865:0xab5c7c5823847ae9',\n",
       " 'data_cid': '12347880996337908457',\n",
       " 'reviews_link': 'https://serpapi.com/search.json?data_id=0x3a27c3ae6ab61865%3A0xab5c7c5823847ae9&engine=google_maps_reviews&hl=en',\n",
       " 'photos_link': 'https://serpapi.com/search.json?data_id=0x3a27c3ae6ab61865%3A0xab5c7c5823847ae9&engine=google_maps_photos&hl=en',\n",
       " 'gps_coordinates': {'latitude': 21.973376, 'longitude': 82.4552344},\n",
       " 'place_id_search': 'https://serpapi.com/search.json?data=%214m5%213m4%211s0x3a27c3ae6ab61865%3A0xab5c7c5823847ae9%218m2%213d21.973376%214d82.4552344&engine=google_maps&google_domain=google.com&hl=en&type=place',\n",
       " 'rating': 5,\n",
       " 'reviews': 2,\n",
       " 'type': 'Pharmacy',\n",
       " 'address': 'Unnamed Road, Kirari, Chhattisgarh 495553, India',\n",
       " 'open_state': 'Open ⋅ Closes 8PM',\n",
       " 'hours': 'Open until 8:00 PM',\n",
       " 'thumbnail': 'https://lh5.googleusercontent.com/p/AF1QipOk8CD35vW2mxC8yPRxgkuQU0_NEpVfp6dyOpmE=w80-h106-k-no'}"
      ]
     },
     "execution_count": 15,
     "metadata": {},
     "output_type": "execute_result"
    }
   ],
   "source": [
    "temp[0]"
   ]
  },
  {
   "cell_type": "code",
   "execution_count": 26,
   "id": "indian-hepatitis",
   "metadata": {},
   "outputs": [
    {
     "data": {
      "text/plain": [
       "{'latitude': 21.973376, 'longitude': 82.4552344}"
      ]
     },
     "execution_count": 26,
     "metadata": {},
     "output_type": "execute_result"
    }
   ],
   "source": [
    "temp[0]['gps_coordinates']"
   ]
  },
  {
   "cell_type": "code",
   "execution_count": 32,
   "id": "public-content",
   "metadata": {},
   "outputs": [
    {
     "name": "stdout",
     "output_type": "stream",
     "text": [
      "<built-in method index of list object at 0x0000013AD97BEF40>\n"
     ]
    }
   ],
   "source": [
    "print(temp.index)"
   ]
  },
  {
   "cell_type": "code",
   "execution_count": null,
   "id": "czech-brunei",
   "metadata": {},
   "outputs": [],
   "source": [
    "col_lst = [position, title gps_coordinates ]"
   ]
  },
  {
   "cell_type": "code",
   "execution_count": null,
   "id": "growing-limitation",
   "metadata": {},
   "outputs": [],
   "source": []
  },
  {
   "cell_type": "code",
   "execution_count": 52,
   "id": "departmental-berlin",
   "metadata": {},
   "outputs": [],
   "source": [
    "import pandas as pd\n",
    "\n",
    "priya = pd.DataFrame()"
   ]
  },
  {
   "cell_type": "code",
   "execution_count": 20,
   "id": "tribal-concord",
   "metadata": {},
   "outputs": [],
   "source": [
    "lst = [1,2,3]\n",
    "priya['dd'] = lst"
   ]
  },
  {
   "cell_type": "code",
   "execution_count": 36,
   "id": "fixed-seeker",
   "metadata": {},
   "outputs": [],
   "source": [
    "di = {'position': 1,\n",
    " 'title': 'Madhu Medical Stores',\n",
    " 'place_id': 'ChIJZRi2aq7DJzoR6XqEI1h8XKs',\n",
    " 'data_id': '0x3a27c3ae6ab61865:0xab5c7c5823847ae9',\n",
    " 'data_cid': '12347880996337908457',\n",
    " 'reviews_link': 'https://serpapi.com/search.json?data_id=0x3a27c3ae6ab61865%3A0xab5c7c5823847ae9&engine=google_maps_reviews&hl=en',\n",
    " 'photos_link': 'https://serpapi.com/search.json?data_id=0x3a27c3ae6ab61865%3A0xab5c7c5823847ae9&engine=google_maps_photos&hl=en',\n",
    " 'gps_coordinates': {'latitude': 21.973376, 'longitude': 82.4552344},\n",
    " 'place_id_search': 'https://serpapi.com/search.json?data=%214m5%213m4%211s0x3a27c3ae6ab61865%3A0xab5c7c5823847ae9%218m2%213d21.973376%214d82.4552344&engine=google_maps&google_domain=google.com&hl=en&type=place',\n",
    " 'rating': 5,\n",
    " 'reviews': 2,\n",
    " 'type': 'Pharmacy',\n",
    "#  'address': 'Unnamed Road, Kirari, Chhattisgarh 495553, India',\n",
    " 'open_state': 'Open ⋅ Closes 8PM',\n",
    " 'hours': 'Open until 8:00 PM',\n",
    " 'thumbnail': 'https://lh5.googleusercontent.com/p/AF1QipOk8CD35vW2mxC8yPRxgkuQU0_NEpVfp6dyOpmE=w80-h106-k-no'}"
   ]
  },
  {
   "cell_type": "code",
   "execution_count": 43,
   "id": "civil-feedback",
   "metadata": {},
   "outputs": [],
   "source": [
    "temp[0]\n",
    "priya = pd.DataFrame(temp[1])"
   ]
  },
  {
   "cell_type": "code",
   "execution_count": 44,
   "id": "apart-investigation",
   "metadata": {},
   "outputs": [
    {
     "data": {
      "text/html": [
       "<div>\n",
       "<style scoped>\n",
       "    .dataframe tbody tr th:only-of-type {\n",
       "        vertical-align: middle;\n",
       "    }\n",
       "\n",
       "    .dataframe tbody tr th {\n",
       "        vertical-align: top;\n",
       "    }\n",
       "\n",
       "    .dataframe thead th {\n",
       "        text-align: right;\n",
       "    }\n",
       "</style>\n",
       "<table border=\"1\" class=\"dataframe\">\n",
       "  <thead>\n",
       "    <tr style=\"text-align: right;\">\n",
       "      <th></th>\n",
       "      <th>position</th>\n",
       "      <th>title</th>\n",
       "      <th>place_id</th>\n",
       "      <th>data_id</th>\n",
       "      <th>data_cid</th>\n",
       "      <th>reviews_link</th>\n",
       "      <th>photos_link</th>\n",
       "      <th>gps_coordinates</th>\n",
       "      <th>place_id_search</th>\n",
       "      <th>rating</th>\n",
       "      <th>reviews</th>\n",
       "      <th>type</th>\n",
       "      <th>address</th>\n",
       "      <th>phone</th>\n",
       "      <th>thumbnail</th>\n",
       "    </tr>\n",
       "  </thead>\n",
       "  <tbody>\n",
       "    <tr>\n",
       "      <th>latitude</th>\n",
       "      <td>2</td>\n",
       "      <td>सत्या मेडिकल स्टोर्स किरारी</td>\n",
       "      <td>ChIJ_f94JKXDJzoR5EHS0vy5EOA</td>\n",
       "      <td>0x3a27c3a52478fffd:0xe010b9fcd2d241e4</td>\n",
       "      <td>16145609159643120100</td>\n",
       "      <td>https://serpapi.com/search.json?data_id=0x3a27...</td>\n",
       "      <td>https://serpapi.com/search.json?data_id=0x3a27...</td>\n",
       "      <td>21.972517</td>\n",
       "      <td>https://serpapi.com/search.json?data=%214m5%21...</td>\n",
       "      <td>1</td>\n",
       "      <td>2</td>\n",
       "      <td>Pharmacy</td>\n",
       "      <td>XFF4+2Q2, Kirari, Chhattisgarh 495553, India</td>\n",
       "      <td>+91 98939 39874</td>\n",
       "      <td>https://lh5.googleusercontent.com/p/AF1QipPO5K...</td>\n",
       "    </tr>\n",
       "    <tr>\n",
       "      <th>longitude</th>\n",
       "      <td>2</td>\n",
       "      <td>सत्या मेडिकल स्टोर्स किरारी</td>\n",
       "      <td>ChIJ_f94JKXDJzoR5EHS0vy5EOA</td>\n",
       "      <td>0x3a27c3a52478fffd:0xe010b9fcd2d241e4</td>\n",
       "      <td>16145609159643120100</td>\n",
       "      <td>https://serpapi.com/search.json?data_id=0x3a27...</td>\n",
       "      <td>https://serpapi.com/search.json?data_id=0x3a27...</td>\n",
       "      <td>82.456894</td>\n",
       "      <td>https://serpapi.com/search.json?data=%214m5%21...</td>\n",
       "      <td>1</td>\n",
       "      <td>2</td>\n",
       "      <td>Pharmacy</td>\n",
       "      <td>XFF4+2Q2, Kirari, Chhattisgarh 495553, India</td>\n",
       "      <td>+91 98939 39874</td>\n",
       "      <td>https://lh5.googleusercontent.com/p/AF1QipPO5K...</td>\n",
       "    </tr>\n",
       "  </tbody>\n",
       "</table>\n",
       "</div>"
      ],
      "text/plain": [
       "           position                        title                     place_id  \\\n",
       "latitude          2  सत्या मेडिकल स्टोर्स किरारी  ChIJ_f94JKXDJzoR5EHS0vy5EOA   \n",
       "longitude         2  सत्या मेडिकल स्टोर्स किरारी  ChIJ_f94JKXDJzoR5EHS0vy5EOA   \n",
       "\n",
       "                                         data_id              data_cid  \\\n",
       "latitude   0x3a27c3a52478fffd:0xe010b9fcd2d241e4  16145609159643120100   \n",
       "longitude  0x3a27c3a52478fffd:0xe010b9fcd2d241e4  16145609159643120100   \n",
       "\n",
       "                                                reviews_link  \\\n",
       "latitude   https://serpapi.com/search.json?data_id=0x3a27...   \n",
       "longitude  https://serpapi.com/search.json?data_id=0x3a27...   \n",
       "\n",
       "                                                 photos_link  gps_coordinates  \\\n",
       "latitude   https://serpapi.com/search.json?data_id=0x3a27...        21.972517   \n",
       "longitude  https://serpapi.com/search.json?data_id=0x3a27...        82.456894   \n",
       "\n",
       "                                             place_id_search  rating  reviews  \\\n",
       "latitude   https://serpapi.com/search.json?data=%214m5%21...       1        2   \n",
       "longitude  https://serpapi.com/search.json?data=%214m5%21...       1        2   \n",
       "\n",
       "               type                                       address  \\\n",
       "latitude   Pharmacy  XFF4+2Q2, Kirari, Chhattisgarh 495553, India   \n",
       "longitude  Pharmacy  XFF4+2Q2, Kirari, Chhattisgarh 495553, India   \n",
       "\n",
       "                     phone                                          thumbnail  \n",
       "latitude   +91 98939 39874  https://lh5.googleusercontent.com/p/AF1QipPO5K...  \n",
       "longitude  +91 98939 39874  https://lh5.googleusercontent.com/p/AF1QipPO5K...  "
      ]
     },
     "execution_count": 44,
     "metadata": {},
     "output_type": "execute_result"
    }
   ],
   "source": [
    "priya"
   ]
  },
  {
   "cell_type": "code",
   "execution_count": 53,
   "id": "widespread-pittsburgh",
   "metadata": {},
   "outputs": [],
   "source": [
    "for i in range(0, len(temp)):\n",
    "#     output = pd.DataFrame()\n",
    "    priya = priya.append(temp[i], ignore_index=True)"
   ]
  },
  {
   "cell_type": "code",
   "execution_count": 60,
   "id": "little-confirmation",
   "metadata": {},
   "outputs": [
    {
     "data": {
      "text/plain": [
       "0             Madhu Medical Stores\n",
       "1      सत्या मेडिकल स्टोर्स किरारी\n",
       "2            श्री राधे मेडिकल तरौद\n",
       "3               Jan Aushadhi Store\n",
       "4                      बनाहिल डेरा\n",
       "5                   चिरायु मेडिकोज\n",
       "6              Sakshi Medical Stor\n",
       "7             Y.K. Medicine Center\n",
       "8              Singh Medical Store\n",
       "9                Tulshyan Pharmacy\n",
       "10            Pawan Medical Stores\n",
       "11            Arora medical stores\n",
       "12    varsha medical store bodsara\n",
       "13              Jan Aushadhi Store\n",
       "14          Gajanand Medical Store\n",
       "15           Thawait Medical Store\n",
       "16              Jan Aushadhi Store\n",
       "17              Jan Aushadhi Store\n",
       "18          Narendra Medical Store\n",
       "19              Lekh Medical Store\n",
       "Name: title, dtype: object"
      ]
     },
     "execution_count": 60,
     "metadata": {},
     "output_type": "execute_result"
    }
   ],
   "source": [
    "priya['title']"
   ]
  },
  {
   "cell_type": "code",
   "execution_count": 35,
   "id": "monetary-render",
   "metadata": {},
   "outputs": [
    {
     "name": "stdout",
     "output_type": "stream",
     "text": [
      "Madhu Medical Stores\n",
      "सत्या मेडिकल स्टोर्स किरारी\n",
      "श्री राधे मेडिकल तरौद\n",
      "Jan Aushadhi Store\n",
      "बनाहिल डेरा\n",
      "चिरायु मेडिकोज\n",
      "Sakshi Medical Stor\n",
      "Y.K. Medicine Center\n",
      "Singh Medical Store\n",
      "Tulshyan Pharmacy\n",
      "Pawan Medical Stores\n",
      "Arora medical stores\n",
      "varsha medical store bodsara\n",
      "Jan Aushadhi Store\n",
      "Gajanand Medical Store\n",
      "Thawait Medical Store\n",
      "Jan Aushadhi Store\n",
      "Jan Aushadhi Store\n",
      "Narendra Medical Store\n",
      "Lekh Medical Store\n"
     ]
    }
   ],
   "source": [
    "col_lst = []\n",
    "['title' , gps_coordinates, ratings , reviews, address, phone, website]\n",
    "for i in range(0, len(temp)):\n",
    "    for j in col_lst:\n",
    "#     print(temp[i]['title'])\n",
    "            \n",
    "    "
   ]
  },
  {
   "cell_type": "code",
   "execution_count": null,
   "id": "future-classroom",
   "metadata": {},
   "outputs": [],
   "source": []
  },
  {
   "cell_type": "code",
   "execution_count": null,
   "id": "allied-component",
   "metadata": {},
   "outputs": [],
   "source": []
  },
  {
   "cell_type": "code",
   "execution_count": null,
   "id": "indoor-syntax",
   "metadata": {},
   "outputs": [],
   "source": []
  },
  {
   "cell_type": "code",
   "execution_count": 5,
   "id": "plain-software",
   "metadata": {},
   "outputs": [
    {
     "name": "stdout",
     "output_type": "stream",
     "text": [
      "Local results\n",
      "\n",
      "        Title: Madhu Medical Stores\n",
      "        Address: Unnamed Road, Kirari, Chhattisgarh 495553, India\n",
      "        Rating: 5\n",
      "        Reviews: 2\n",
      "\n",
      "        Title: सत्या मेडिकल स्टोर्स किरारी\n",
      "        Address: XFF4+2Q2, Kirari, Chhattisgarh 495553, India\n",
      "        Rating: 1\n",
      "        Reviews: 2\n",
      "\n",
      "        Title: श्री राधे मेडिकल तरौद\n",
      "        Address: NH149B, Taraod, Chhattisgarh 495553, India\n",
      "        Rating: 2\n",
      "        Reviews: 1\n",
      "\n",
      "        Title: Jan Aushadhi Store\n",
      "        Address: PHC-Nariyana, Ward no-1 PH NO-15, KH No-441/1,Sanjay Nagar Near Govt Higher Secondary School, Tal, Akaltara, Chhattisgarh 495553, India\n",
      "        Rating: 4\n",
      "        Reviews: 1\n",
      "Done\n"
     ]
    }
   ],
   "source": [
    "import os\n",
    "from urllib.parse import urlsplit, parse_qsl\n",
    "from serpapi import GoogleSearch\n",
    "\n",
    "\n",
    "params = {\n",
    "    \"engine\": \"google_maps\",\n",
    "    \"q\": \"pharmacy\",\n",
    "    \"type\": \"search\",\n",
    "    \"ll\": \"@21.9757834,82.4209912, 14z\",\n",
    "    \"api_key\": \"597f1251c97282464e428adb11092fb0fedb0370531687966f78eb007ee33a8d\"\n",
    "}\n",
    "\n",
    "search = GoogleSearch(params)\n",
    "# results = search.get_dict()\n",
    "# results['local_results'][1]\n",
    "while True:\n",
    "    results = search.get_dict()\n",
    "    try:\n",
    "        print(\"Local results\")\n",
    "\n",
    "        for result in results['local_results']:\n",
    "            print(f\"\"\"\n",
    "        Title: {result['title']}\n",
    "        Address: {result['address']}\n",
    "        Rating: {result['rating']}\n",
    "        Reviews: {result['reviews']}\"\"\")\n",
    "\n",
    "        if 'ads_results' in results:\n",
    "            print(\"Ads\")\n",
    "\n",
    "            for result in results['ads_results']:\n",
    "                print(f\"\"\"\n",
    "        Title: {result['title']}\n",
    "        Address: {result['address']}\"\"\")\n",
    "    except:\n",
    "        print('Done')\n",
    "        break\n",
    "\n",
    "    if (not 'serpapi_pagination'\n",
    "            in results) and (not 'next' in results['serpapi_pagination']):\n",
    "        break\n",
    "\n",
    "    search.params_dict.update(\n",
    "        dict(parse_qsl(urlsplit(results[\"serpapi_pagination\"][\"next\"]).query)))"
   ]
  },
  {
   "cell_type": "code",
   "execution_count": null,
   "id": "exceptional-facility",
   "metadata": {},
   "outputs": [],
   "source": []
  },
  {
   "cell_type": "code",
   "execution_count": null,
   "id": "suspended-confidentiality",
   "metadata": {},
   "outputs": [],
   "source": []
  },
  {
   "cell_type": "code",
   "execution_count": null,
   "id": "japanese-penetration",
   "metadata": {},
   "outputs": [],
   "source": []
  },
  {
   "cell_type": "code",
   "execution_count": 15,
   "id": "overall-landscape",
   "metadata": {},
   "outputs": [
    {
     "ename": "KeyError",
     "evalue": "0",
     "output_type": "error",
     "traceback": [
      "\u001b[1;31m---------------------------------------------------------------------------\u001b[0m",
      "\u001b[1;31mKeyError\u001b[0m                                  Traceback (most recent call last)",
      "\u001b[1;32m<ipython-input-15-8de85ea3bdff>\u001b[0m in \u001b[0;36m<module>\u001b[1;34m\u001b[0m\n\u001b[0;32m     12\u001b[0m \u001b[1;31m# reviews = results[\"place_results\"][\"reviews\"]\u001b[0m\u001b[1;33m\u001b[0m\u001b[1;33m\u001b[0m\u001b[1;33m\u001b[0m\u001b[0m\n\u001b[0;32m     13\u001b[0m \u001b[1;33m\u001b[0m\u001b[0m\n\u001b[1;32m---> 14\u001b[1;33m \u001b[0mprint\u001b[0m\u001b[1;33m(\u001b[0m\u001b[0mresults\u001b[0m\u001b[1;33m[\u001b[0m\u001b[1;36m0\u001b[0m\u001b[1;33m]\u001b[0m\u001b[1;33m)\u001b[0m\u001b[1;33m\u001b[0m\u001b[1;33m\u001b[0m\u001b[0m\n\u001b[0m",
      "\u001b[1;31mKeyError\u001b[0m: 0"
     ]
    }
   ],
   "source": [
    "params = {\n",
    "    \"engine\": \"google_maps\",\n",
    "    \"q\": \"coffee\",\n",
    "    \"type\": \"search\",\n",
    "    \"ll\": \"@26.760759,83.373703,14z\",\n",
    "    \"api_key\": os.getenv(\"API_KEY\")\n",
    "}\n",
    "\n",
    "search = GoogleSearch(params)\n",
    "results = search.get_dict()\n",
    "\n",
    "# reviews = results[\"place_results\"][\"reviews\"]\n",
    "\n",
    "print(results[0])"
   ]
  },
  {
   "cell_type": "code",
   "execution_count": null,
   "id": "convertible-steps",
   "metadata": {},
   "outputs": [],
   "source": []
  }
 ],
 "metadata": {
  "kernelspec": {
   "display_name": "Python 3",
   "language": "python",
   "name": "python3"
  },
  "language_info": {
   "codemirror_mode": {
    "name": "ipython",
    "version": 3
   },
   "file_extension": ".py",
   "mimetype": "text/x-python",
   "name": "python",
   "nbconvert_exporter": "python",
   "pygments_lexer": "ipython3",
   "version": "3.9.2"
  }
 },
 "nbformat": 4,
 "nbformat_minor": 5
}
