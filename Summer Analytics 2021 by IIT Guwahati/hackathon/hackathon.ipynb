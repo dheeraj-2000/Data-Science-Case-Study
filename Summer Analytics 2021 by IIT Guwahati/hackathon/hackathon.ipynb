{
 "cells": [
  {
   "cell_type": "code",
   "execution_count": 643,
   "id": "closing-drama",
   "metadata": {},
   "outputs": [],
   "source": [
    "# libraries\n",
    "import pandas as pd\n",
    "import numpy as np\n",
    "import matplotlib.pyplot as plt\n",
    "%matplotlib inline\n",
    "import seaborn as sns\n",
    "from sklearn.model_selection import train_test_split, RandomizedSearchCV, GridSearchCV, RepeatedStratifiedKFold , KFold\n",
    "from sklearn.linear_model import LogisticRegression, LinearRegression, Lasso\n",
    "import sklearn.metrics as metrics\n",
    "from sklearn.metrics import mean_squared_error, mean_absolute_error, r2_score\n",
    "from sklearn.neighbors import KNeighborsClassifier\n",
    "from sklearn.ensemble import RandomForestClassifier, GradientBoostingClassifier\n",
    "from sklearn.svm import SVC\n",
    "from sklearn.preprocessing import LabelEncoder, StandardScaler, LabelBinarizer\n",
    "\n",
    "from pprint import pprint\n",
    "from sklearn.preprocessing import LabelEncoder"
   ]
  },
  {
   "cell_type": "code",
   "execution_count": 644,
   "id": "organizational-adapter",
   "metadata": {},
   "outputs": [],
   "source": [
    "df_test = pd.read_csv(r\"C:\\Users\\dhchaudhary\\Downloads\\Test_Data.csv\")"
   ]
  },
  {
   "cell_type": "code",
   "execution_count": 645,
   "id": "different-guidance",
   "metadata": {},
   "outputs": [
    {
     "name": "stdout",
     "output_type": "stream",
     "text": [
      "(318, 8)\n"
     ]
    },
    {
     "data": {
      "text/html": [
       "<div>\n",
       "<style scoped>\n",
       "    .dataframe tbody tr th:only-of-type {\n",
       "        vertical-align: middle;\n",
       "    }\n",
       "\n",
       "    .dataframe tbody tr th {\n",
       "        vertical-align: top;\n",
       "    }\n",
       "\n",
       "    .dataframe thead th {\n",
       "        text-align: right;\n",
       "    }\n",
       "</style>\n",
       "<table border=\"1\" class=\"dataframe\">\n",
       "  <thead>\n",
       "    <tr style=\"text-align: right;\">\n",
       "      <th></th>\n",
       "      <th>date</th>\n",
       "      <th>campaign</th>\n",
       "      <th>adgroup</th>\n",
       "      <th>ad</th>\n",
       "      <th>cost</th>\n",
       "      <th>impressions</th>\n",
       "      <th>clicks</th>\n",
       "      <th>conversions</th>\n",
       "    </tr>\n",
       "  </thead>\n",
       "  <tbody>\n",
       "    <tr>\n",
       "      <th>0</th>\n",
       "      <td>01-03-2021</td>\n",
       "      <td>campaign 1</td>\n",
       "      <td>adgroup 1</td>\n",
       "      <td>ad 1</td>\n",
       "      <td>0.58</td>\n",
       "      <td>121</td>\n",
       "      <td>49</td>\n",
       "      <td>1</td>\n",
       "    </tr>\n",
       "    <tr>\n",
       "      <th>1</th>\n",
       "      <td>01-03-2021</td>\n",
       "      <td>campaign 1</td>\n",
       "      <td>adgroup 3</td>\n",
       "      <td>ad 1</td>\n",
       "      <td>0.17</td>\n",
       "      <td>22</td>\n",
       "      <td>12</td>\n",
       "      <td>0</td>\n",
       "    </tr>\n",
       "    <tr>\n",
       "      <th>2</th>\n",
       "      <td>01-03-2021</td>\n",
       "      <td>campaign 1</td>\n",
       "      <td>adgroup 4</td>\n",
       "      <td>ad 1</td>\n",
       "      <td>0.05</td>\n",
       "      <td>5</td>\n",
       "      <td>3</td>\n",
       "      <td>0</td>\n",
       "    </tr>\n",
       "    <tr>\n",
       "      <th>3</th>\n",
       "      <td>01-03-2021</td>\n",
       "      <td>campaign 1</td>\n",
       "      <td>adgroup 2</td>\n",
       "      <td>ad 1</td>\n",
       "      <td>0.01</td>\n",
       "      <td>2</td>\n",
       "      <td>1</td>\n",
       "      <td>0</td>\n",
       "    </tr>\n",
       "    <tr>\n",
       "      <th>4</th>\n",
       "      <td>01-03-2021</td>\n",
       "      <td>campaign 1</td>\n",
       "      <td>adgroup 2</td>\n",
       "      <td>ad 2</td>\n",
       "      <td>0.01</td>\n",
       "      <td>3</td>\n",
       "      <td>1</td>\n",
       "      <td>0</td>\n",
       "    </tr>\n",
       "  </tbody>\n",
       "</table>\n",
       "</div>"
      ],
      "text/plain": [
       "         date    campaign    adgroup    ad  cost  impressions  clicks  \\\n",
       "0  01-03-2021  campaign 1  adgroup 1  ad 1  0.58          121      49   \n",
       "1  01-03-2021  campaign 1  adgroup 3  ad 1  0.17           22      12   \n",
       "2  01-03-2021  campaign 1  adgroup 4  ad 1  0.05            5       3   \n",
       "3  01-03-2021  campaign 1  adgroup 2  ad 1  0.01            2       1   \n",
       "4  01-03-2021  campaign 1  adgroup 2  ad 2  0.01            3       1   \n",
       "\n",
       "   conversions  \n",
       "0            1  \n",
       "1            0  \n",
       "2            0  \n",
       "3            0  \n",
       "4            0  "
      ]
     },
     "execution_count": 645,
     "metadata": {},
     "output_type": "execute_result"
    }
   ],
   "source": [
    "print(df_test.shape)\n",
    "df_test.head()"
   ]
  },
  {
   "cell_type": "code",
   "execution_count": 646,
   "id": "hearing-blackjack",
   "metadata": {},
   "outputs": [],
   "source": [
    "df = pd.read_csv(r\"C:\\Users\\dhchaudhary\\Downloads\\Train_Data.csv\")"
   ]
  },
  {
   "cell_type": "code",
   "execution_count": 647,
   "id": "charged-geology",
   "metadata": {},
   "outputs": [
    {
     "name": "stdout",
     "output_type": "stream",
     "text": [
      "(4571, 9)\n"
     ]
    },
    {
     "data": {
      "text/html": [
       "<div>\n",
       "<style scoped>\n",
       "    .dataframe tbody tr th:only-of-type {\n",
       "        vertical-align: middle;\n",
       "    }\n",
       "\n",
       "    .dataframe tbody tr th {\n",
       "        vertical-align: top;\n",
       "    }\n",
       "\n",
       "    .dataframe thead th {\n",
       "        text-align: right;\n",
       "    }\n",
       "</style>\n",
       "<table border=\"1\" class=\"dataframe\">\n",
       "  <thead>\n",
       "    <tr style=\"text-align: right;\">\n",
       "      <th></th>\n",
       "      <th>date</th>\n",
       "      <th>campaign</th>\n",
       "      <th>adgroup</th>\n",
       "      <th>ad</th>\n",
       "      <th>impressions</th>\n",
       "      <th>clicks</th>\n",
       "      <th>cost</th>\n",
       "      <th>conversions</th>\n",
       "      <th>revenue</th>\n",
       "    </tr>\n",
       "  </thead>\n",
       "  <tbody>\n",
       "    <tr>\n",
       "      <th>0</th>\n",
       "      <td>01-08-2020</td>\n",
       "      <td>campaign 1</td>\n",
       "      <td>adgroup 1</td>\n",
       "      <td>ad 1</td>\n",
       "      <td>24</td>\n",
       "      <td>6</td>\n",
       "      <td>0.08</td>\n",
       "      <td>0</td>\n",
       "      <td>0.00</td>\n",
       "    </tr>\n",
       "    <tr>\n",
       "      <th>1</th>\n",
       "      <td>01-08-2020</td>\n",
       "      <td>campaign 1</td>\n",
       "      <td>adgroup 2</td>\n",
       "      <td>ad 1</td>\n",
       "      <td>1</td>\n",
       "      <td>0</td>\n",
       "      <td>0.00</td>\n",
       "      <td>0</td>\n",
       "      <td>0.00</td>\n",
       "    </tr>\n",
       "    <tr>\n",
       "      <th>2</th>\n",
       "      <td>01-08-2020</td>\n",
       "      <td>campaign 1</td>\n",
       "      <td>adgroup 3</td>\n",
       "      <td>ad 1</td>\n",
       "      <td>13</td>\n",
       "      <td>4</td>\n",
       "      <td>0.04</td>\n",
       "      <td>0</td>\n",
       "      <td>0.00</td>\n",
       "    </tr>\n",
       "    <tr>\n",
       "      <th>3</th>\n",
       "      <td>01-08-2020</td>\n",
       "      <td>campaign 1</td>\n",
       "      <td>adgroup 4</td>\n",
       "      <td>ad 1</td>\n",
       "      <td>5</td>\n",
       "      <td>4</td>\n",
       "      <td>0.08</td>\n",
       "      <td>0</td>\n",
       "      <td>0.00</td>\n",
       "    </tr>\n",
       "    <tr>\n",
       "      <th>4</th>\n",
       "      <td>01-08-2020</td>\n",
       "      <td>campaign 1</td>\n",
       "      <td>adgroup 1</td>\n",
       "      <td>ad 2</td>\n",
       "      <td>247</td>\n",
       "      <td>126</td>\n",
       "      <td>1.29</td>\n",
       "      <td>4</td>\n",
       "      <td>925.71</td>\n",
       "    </tr>\n",
       "  </tbody>\n",
       "</table>\n",
       "</div>"
      ],
      "text/plain": [
       "         date    campaign    adgroup    ad  impressions  clicks  cost  \\\n",
       "0  01-08-2020  campaign 1  adgroup 1  ad 1           24       6  0.08   \n",
       "1  01-08-2020  campaign 1  adgroup 2  ad 1            1       0  0.00   \n",
       "2  01-08-2020  campaign 1  adgroup 3  ad 1           13       4  0.04   \n",
       "3  01-08-2020  campaign 1  adgroup 4  ad 1            5       4  0.08   \n",
       "4  01-08-2020  campaign 1  adgroup 1  ad 2          247     126  1.29   \n",
       "\n",
       "   conversions  revenue  \n",
       "0            0     0.00  \n",
       "1            0     0.00  \n",
       "2            0     0.00  \n",
       "3            0     0.00  \n",
       "4            4   925.71  "
      ]
     },
     "execution_count": 647,
     "metadata": {},
     "output_type": "execute_result"
    }
   ],
   "source": [
    "print(df.shape)\n",
    "df.head()"
   ]
  },
  {
   "cell_type": "code",
   "execution_count": 648,
   "id": "seasonal-mercury",
   "metadata": {},
   "outputs": [],
   "source": [
    "# df.isnull().sum()\n"
   ]
  },
  {
   "cell_type": "code",
   "execution_count": 649,
   "id": "optical-richmond",
   "metadata": {},
   "outputs": [],
   "source": [
    "# df.campaign.unique()"
   ]
  },
  {
   "cell_type": "code",
   "execution_count": 650,
   "id": "quality-plaintiff",
   "metadata": {},
   "outputs": [
    {
     "data": {
      "text/plain": [
       "array(['adgroup 1', 'adgroup 2', 'adgroup 3', 'adgroup 4'], dtype=object)"
      ]
     },
     "execution_count": 650,
     "metadata": {},
     "output_type": "execute_result"
    }
   ],
   "source": [
    "df.adgroup.unique()"
   ]
  },
  {
   "cell_type": "code",
   "execution_count": 651,
   "id": "quarterly-principal",
   "metadata": {},
   "outputs": [],
   "source": [
    "# df.ad.unique()"
   ]
  },
  {
   "cell_type": "code",
   "execution_count": 652,
   "id": "previous-requirement",
   "metadata": {},
   "outputs": [],
   "source": [
    "# df.corr()"
   ]
  },
  {
   "cell_type": "code",
   "execution_count": 653,
   "id": "convenient-chess",
   "metadata": {},
   "outputs": [],
   "source": [
    "x = df.revenue"
   ]
  },
  {
   "cell_type": "code",
   "execution_count": 654,
   "id": "olympic-drama",
   "metadata": {},
   "outputs": [],
   "source": [
    "y = df.drop(['revenue'], axis=1)"
   ]
  },
  {
   "cell_type": "code",
   "execution_count": 655,
   "id": "severe-track",
   "metadata": {},
   "outputs": [
    {
     "data": {
      "text/html": [
       "<div>\n",
       "<style scoped>\n",
       "    .dataframe tbody tr th:only-of-type {\n",
       "        vertical-align: middle;\n",
       "    }\n",
       "\n",
       "    .dataframe tbody tr th {\n",
       "        vertical-align: top;\n",
       "    }\n",
       "\n",
       "    .dataframe thead th {\n",
       "        text-align: right;\n",
       "    }\n",
       "</style>\n",
       "<table border=\"1\" class=\"dataframe\">\n",
       "  <thead>\n",
       "    <tr style=\"text-align: right;\">\n",
       "      <th></th>\n",
       "      <th>date</th>\n",
       "      <th>campaign</th>\n",
       "      <th>adgroup</th>\n",
       "      <th>ad</th>\n",
       "      <th>impressions</th>\n",
       "      <th>clicks</th>\n",
       "      <th>cost</th>\n",
       "      <th>conversions</th>\n",
       "    </tr>\n",
       "  </thead>\n",
       "  <tbody>\n",
       "    <tr>\n",
       "      <th>0</th>\n",
       "      <td>01-08-2020</td>\n",
       "      <td>campaign 1</td>\n",
       "      <td>adgroup 1</td>\n",
       "      <td>ad 1</td>\n",
       "      <td>24</td>\n",
       "      <td>6</td>\n",
       "      <td>0.08</td>\n",
       "      <td>0</td>\n",
       "    </tr>\n",
       "    <tr>\n",
       "      <th>1</th>\n",
       "      <td>01-08-2020</td>\n",
       "      <td>campaign 1</td>\n",
       "      <td>adgroup 2</td>\n",
       "      <td>ad 1</td>\n",
       "      <td>1</td>\n",
       "      <td>0</td>\n",
       "      <td>0.00</td>\n",
       "      <td>0</td>\n",
       "    </tr>\n",
       "    <tr>\n",
       "      <th>2</th>\n",
       "      <td>01-08-2020</td>\n",
       "      <td>campaign 1</td>\n",
       "      <td>adgroup 3</td>\n",
       "      <td>ad 1</td>\n",
       "      <td>13</td>\n",
       "      <td>4</td>\n",
       "      <td>0.04</td>\n",
       "      <td>0</td>\n",
       "    </tr>\n",
       "    <tr>\n",
       "      <th>3</th>\n",
       "      <td>01-08-2020</td>\n",
       "      <td>campaign 1</td>\n",
       "      <td>adgroup 4</td>\n",
       "      <td>ad 1</td>\n",
       "      <td>5</td>\n",
       "      <td>4</td>\n",
       "      <td>0.08</td>\n",
       "      <td>0</td>\n",
       "    </tr>\n",
       "    <tr>\n",
       "      <th>4</th>\n",
       "      <td>01-08-2020</td>\n",
       "      <td>campaign 1</td>\n",
       "      <td>adgroup 1</td>\n",
       "      <td>ad 2</td>\n",
       "      <td>247</td>\n",
       "      <td>126</td>\n",
       "      <td>1.29</td>\n",
       "      <td>4</td>\n",
       "    </tr>\n",
       "  </tbody>\n",
       "</table>\n",
       "</div>"
      ],
      "text/plain": [
       "         date    campaign    adgroup    ad  impressions  clicks  cost  \\\n",
       "0  01-08-2020  campaign 1  adgroup 1  ad 1           24       6  0.08   \n",
       "1  01-08-2020  campaign 1  adgroup 2  ad 1            1       0  0.00   \n",
       "2  01-08-2020  campaign 1  adgroup 3  ad 1           13       4  0.04   \n",
       "3  01-08-2020  campaign 1  adgroup 4  ad 1            5       4  0.08   \n",
       "4  01-08-2020  campaign 1  adgroup 1  ad 2          247     126  1.29   \n",
       "\n",
       "   conversions  \n",
       "0            0  \n",
       "1            0  \n",
       "2            0  \n",
       "3            0  \n",
       "4            4  "
      ]
     },
     "execution_count": 655,
     "metadata": {},
     "output_type": "execute_result"
    }
   ],
   "source": [
    "y.head()"
   ]
  },
  {
   "cell_type": "code",
   "execution_count": 656,
   "id": "lightweight-finish",
   "metadata": {},
   "outputs": [],
   "source": [
    "# y['ctr']= y.clicks/y.impressions\n",
    "# y['cpc']= y.cost/y.clicks\n",
    "# y['cpa']= y.cost/y.conversions"
   ]
  },
  {
   "cell_type": "code",
   "execution_count": 657,
   "id": "crucial-colon",
   "metadata": {},
   "outputs": [
    {
     "data": {
      "text/html": [
       "<div>\n",
       "<style scoped>\n",
       "    .dataframe tbody tr th:only-of-type {\n",
       "        vertical-align: middle;\n",
       "    }\n",
       "\n",
       "    .dataframe tbody tr th {\n",
       "        vertical-align: top;\n",
       "    }\n",
       "\n",
       "    .dataframe thead th {\n",
       "        text-align: right;\n",
       "    }\n",
       "</style>\n",
       "<table border=\"1\" class=\"dataframe\">\n",
       "  <thead>\n",
       "    <tr style=\"text-align: right;\">\n",
       "      <th></th>\n",
       "      <th>date</th>\n",
       "      <th>campaign</th>\n",
       "      <th>adgroup</th>\n",
       "      <th>ad</th>\n",
       "      <th>impressions</th>\n",
       "      <th>clicks</th>\n",
       "      <th>cost</th>\n",
       "      <th>conversions</th>\n",
       "    </tr>\n",
       "  </thead>\n",
       "  <tbody>\n",
       "    <tr>\n",
       "      <th>0</th>\n",
       "      <td>01-08-2020</td>\n",
       "      <td>campaign 1</td>\n",
       "      <td>adgroup 1</td>\n",
       "      <td>ad 1</td>\n",
       "      <td>24</td>\n",
       "      <td>6</td>\n",
       "      <td>0.08</td>\n",
       "      <td>0</td>\n",
       "    </tr>\n",
       "    <tr>\n",
       "      <th>1</th>\n",
       "      <td>01-08-2020</td>\n",
       "      <td>campaign 1</td>\n",
       "      <td>adgroup 2</td>\n",
       "      <td>ad 1</td>\n",
       "      <td>1</td>\n",
       "      <td>0</td>\n",
       "      <td>0.00</td>\n",
       "      <td>0</td>\n",
       "    </tr>\n",
       "    <tr>\n",
       "      <th>2</th>\n",
       "      <td>01-08-2020</td>\n",
       "      <td>campaign 1</td>\n",
       "      <td>adgroup 3</td>\n",
       "      <td>ad 1</td>\n",
       "      <td>13</td>\n",
       "      <td>4</td>\n",
       "      <td>0.04</td>\n",
       "      <td>0</td>\n",
       "    </tr>\n",
       "    <tr>\n",
       "      <th>3</th>\n",
       "      <td>01-08-2020</td>\n",
       "      <td>campaign 1</td>\n",
       "      <td>adgroup 4</td>\n",
       "      <td>ad 1</td>\n",
       "      <td>5</td>\n",
       "      <td>4</td>\n",
       "      <td>0.08</td>\n",
       "      <td>0</td>\n",
       "    </tr>\n",
       "    <tr>\n",
       "      <th>4</th>\n",
       "      <td>01-08-2020</td>\n",
       "      <td>campaign 1</td>\n",
       "      <td>adgroup 1</td>\n",
       "      <td>ad 2</td>\n",
       "      <td>247</td>\n",
       "      <td>126</td>\n",
       "      <td>1.29</td>\n",
       "      <td>4</td>\n",
       "    </tr>\n",
       "  </tbody>\n",
       "</table>\n",
       "</div>"
      ],
      "text/plain": [
       "         date    campaign    adgroup    ad  impressions  clicks  cost  \\\n",
       "0  01-08-2020  campaign 1  adgroup 1  ad 1           24       6  0.08   \n",
       "1  01-08-2020  campaign 1  adgroup 2  ad 1            1       0  0.00   \n",
       "2  01-08-2020  campaign 1  adgroup 3  ad 1           13       4  0.04   \n",
       "3  01-08-2020  campaign 1  adgroup 4  ad 1            5       4  0.08   \n",
       "4  01-08-2020  campaign 1  adgroup 1  ad 2          247     126  1.29   \n",
       "\n",
       "   conversions  \n",
       "0            0  \n",
       "1            0  \n",
       "2            0  \n",
       "3            0  \n",
       "4            4  "
      ]
     },
     "execution_count": 657,
     "metadata": {},
     "output_type": "execute_result"
    }
   ],
   "source": [
    "y.head()"
   ]
  },
  {
   "cell_type": "code",
   "execution_count": 658,
   "id": "present-receipt",
   "metadata": {},
   "outputs": [],
   "source": [
    "y = y.drop(['date', 'campaign'], axis=1)"
   ]
  },
  {
   "cell_type": "code",
   "execution_count": 659,
   "id": "unusual-federation",
   "metadata": {},
   "outputs": [
    {
     "data": {
      "text/html": [
       "<div>\n",
       "<style scoped>\n",
       "    .dataframe tbody tr th:only-of-type {\n",
       "        vertical-align: middle;\n",
       "    }\n",
       "\n",
       "    .dataframe tbody tr th {\n",
       "        vertical-align: top;\n",
       "    }\n",
       "\n",
       "    .dataframe thead th {\n",
       "        text-align: right;\n",
       "    }\n",
       "</style>\n",
       "<table border=\"1\" class=\"dataframe\">\n",
       "  <thead>\n",
       "    <tr style=\"text-align: right;\">\n",
       "      <th></th>\n",
       "      <th>adgroup</th>\n",
       "      <th>ad</th>\n",
       "      <th>impressions</th>\n",
       "      <th>clicks</th>\n",
       "      <th>cost</th>\n",
       "      <th>conversions</th>\n",
       "    </tr>\n",
       "  </thead>\n",
       "  <tbody>\n",
       "    <tr>\n",
       "      <th>0</th>\n",
       "      <td>adgroup 1</td>\n",
       "      <td>ad 1</td>\n",
       "      <td>24</td>\n",
       "      <td>6</td>\n",
       "      <td>0.08</td>\n",
       "      <td>0</td>\n",
       "    </tr>\n",
       "    <tr>\n",
       "      <th>1</th>\n",
       "      <td>adgroup 2</td>\n",
       "      <td>ad 1</td>\n",
       "      <td>1</td>\n",
       "      <td>0</td>\n",
       "      <td>0.00</td>\n",
       "      <td>0</td>\n",
       "    </tr>\n",
       "  </tbody>\n",
       "</table>\n",
       "</div>"
      ],
      "text/plain": [
       "     adgroup    ad  impressions  clicks  cost  conversions\n",
       "0  adgroup 1  ad 1           24       6  0.08            0\n",
       "1  adgroup 2  ad 1            1       0  0.00            0"
      ]
     },
     "execution_count": 659,
     "metadata": {},
     "output_type": "execute_result"
    }
   ],
   "source": [
    "y.head(2)"
   ]
  },
  {
   "cell_type": "code",
   "execution_count": 660,
   "id": "agreed-tuner",
   "metadata": {},
   "outputs": [],
   "source": [
    "y_new = y.fillna(0)"
   ]
  },
  {
   "cell_type": "code",
   "execution_count": 661,
   "id": "successful-socket",
   "metadata": {},
   "outputs": [],
   "source": [
    "# y_new.isnull().sum()"
   ]
  },
  {
   "cell_type": "code",
   "execution_count": 662,
   "id": "knowing-archives",
   "metadata": {},
   "outputs": [
    {
     "name": "stdout",
     "output_type": "stream",
     "text": [
      "(4571, 9)\n"
     ]
    },
    {
     "data": {
      "text/html": [
       "<div>\n",
       "<style scoped>\n",
       "    .dataframe tbody tr th:only-of-type {\n",
       "        vertical-align: middle;\n",
       "    }\n",
       "\n",
       "    .dataframe tbody tr th {\n",
       "        vertical-align: top;\n",
       "    }\n",
       "\n",
       "    .dataframe thead th {\n",
       "        text-align: right;\n",
       "    }\n",
       "</style>\n",
       "<table border=\"1\" class=\"dataframe\">\n",
       "  <thead>\n",
       "    <tr style=\"text-align: right;\">\n",
       "      <th></th>\n",
       "      <th>ad</th>\n",
       "      <th>impressions</th>\n",
       "      <th>clicks</th>\n",
       "      <th>cost</th>\n",
       "      <th>conversions</th>\n",
       "      <th>adgroup_adgroup 1</th>\n",
       "      <th>adgroup_adgroup 2</th>\n",
       "      <th>adgroup_adgroup 3</th>\n",
       "      <th>adgroup_adgroup 4</th>\n",
       "    </tr>\n",
       "  </thead>\n",
       "  <tbody>\n",
       "    <tr>\n",
       "      <th>0</th>\n",
       "      <td>ad 1</td>\n",
       "      <td>24</td>\n",
       "      <td>6</td>\n",
       "      <td>0.08</td>\n",
       "      <td>0</td>\n",
       "      <td>1</td>\n",
       "      <td>0</td>\n",
       "      <td>0</td>\n",
       "      <td>0</td>\n",
       "    </tr>\n",
       "    <tr>\n",
       "      <th>1</th>\n",
       "      <td>ad 1</td>\n",
       "      <td>1</td>\n",
       "      <td>0</td>\n",
       "      <td>0.00</td>\n",
       "      <td>0</td>\n",
       "      <td>0</td>\n",
       "      <td>1</td>\n",
       "      <td>0</td>\n",
       "      <td>0</td>\n",
       "    </tr>\n",
       "  </tbody>\n",
       "</table>\n",
       "</div>"
      ],
      "text/plain": [
       "     ad  impressions  clicks  cost  conversions  adgroup_adgroup 1  \\\n",
       "0  ad 1           24       6  0.08            0                  1   \n",
       "1  ad 1            1       0  0.00            0                  0   \n",
       "\n",
       "   adgroup_adgroup 2  adgroup_adgroup 3  adgroup_adgroup 4  \n",
       "0                  0                  0                  0  \n",
       "1                  1                  0                  0  "
      ]
     },
     "execution_count": 662,
     "metadata": {},
     "output_type": "execute_result"
    }
   ],
   "source": [
    "y_new = pd.get_dummies(y_new, columns=['adgroup'])\n",
    "print(y_new.shape)\n",
    "y_new.head(2)\n"
   ]
  },
  {
   "cell_type": "code",
   "execution_count": 663,
   "id": "sixth-crisis",
   "metadata": {},
   "outputs": [],
   "source": [
    "# MultiColumnLabelEncoder(columns = ['adgroup','ad']).fit_transform(y_new)"
   ]
  },
  {
   "cell_type": "code",
   "execution_count": 664,
   "id": "infectious-intention",
   "metadata": {},
   "outputs": [],
   "source": [
    "y_new= y_new.apply(LabelEncoder().fit_transform, )"
   ]
  },
  {
   "cell_type": "code",
   "execution_count": 665,
   "id": "invalid-moderator",
   "metadata": {},
   "outputs": [],
   "source": [
    "# y_new.corr()"
   ]
  },
  {
   "cell_type": "code",
   "execution_count": 666,
   "id": "single-faculty",
   "metadata": {},
   "outputs": [],
   "source": [
    "# y_new.describe()"
   ]
  },
  {
   "cell_type": "code",
   "execution_count": 667,
   "id": "casual-particular",
   "metadata": {},
   "outputs": [],
   "source": [
    "# sns.boxplot(y = y_new.impressions)"
   ]
  },
  {
   "cell_type": "code",
   "execution_count": 668,
   "id": "martial-cinema",
   "metadata": {},
   "outputs": [],
   "source": [
    "# y_new.loc[y_new['impressions']>=200, 'impressions'] = 200"
   ]
  },
  {
   "cell_type": "code",
   "execution_count": 669,
   "id": "graduate-participant",
   "metadata": {},
   "outputs": [],
   "source": [
    "# sns.boxplot(y = y_new.cost)"
   ]
  },
  {
   "cell_type": "code",
   "execution_count": 670,
   "id": "loved-pension",
   "metadata": {},
   "outputs": [],
   "source": [
    "# y_new.loc[y_new['cost']>=400, 'cost'] = 400"
   ]
  },
  {
   "cell_type": "code",
   "execution_count": 671,
   "id": "given-geology",
   "metadata": {},
   "outputs": [],
   "source": [
    "# ## Considering extreme outlier\n",
    "# IQR = df.impressions.quantile(0.75) - df.impressions.quantile(0.25)\n",
    "# lower_bridge = df.impressions.quantile(0.25) - (IQR*3)\n",
    "# upper_bridge = df.impressions.quantile(0.75) + (IQR*3)\n",
    "# print(lower_bridge), print(upper_bridge)"
   ]
  },
  {
   "cell_type": "code",
   "execution_count": null,
   "id": "voluntary-hudson",
   "metadata": {},
   "outputs": [],
   "source": []
  },
  {
   "cell_type": "code",
   "execution_count": null,
   "id": "organic-belly",
   "metadata": {},
   "outputs": [],
   "source": []
  },
  {
   "cell_type": "code",
   "execution_count": 672,
   "id": "judicial-shaft",
   "metadata": {},
   "outputs": [],
   "source": [
    "# from sklearn.preprocessing import MinMaxScaler"
   ]
  },
  {
   "cell_type": "code",
   "execution_count": 673,
   "id": "remarkable-benefit",
   "metadata": {},
   "outputs": [],
   "source": [
    "# min_max = MinMaxScaler()\n",
    "# scaled_df = min_max.fit_transform(y_new)\n",
    "# scaled_df = pd.DataFrame(scaled_df, columns = y_new.columns)\n",
    "# scaled_df.head()"
   ]
  },
  {
   "cell_type": "code",
   "execution_count": null,
   "id": "quantitative-philosophy",
   "metadata": {},
   "outputs": [],
   "source": []
  },
  {
   "cell_type": "code",
   "execution_count": null,
   "id": "governing-assembly",
   "metadata": {},
   "outputs": [],
   "source": []
  },
  {
   "cell_type": "code",
   "execution_count": null,
   "id": "reliable-theory",
   "metadata": {},
   "outputs": [],
   "source": []
  },
  {
   "cell_type": "code",
   "execution_count": 674,
   "id": "improved-dayton",
   "metadata": {},
   "outputs": [],
   "source": [
    "# y_new.loc[y_new['adgroup'] == 'adgroup 3']"
   ]
  },
  {
   "cell_type": "code",
   "execution_count": 706,
   "id": "alpine-appliance",
   "metadata": {},
   "outputs": [],
   "source": [
    "x_train, x_test, y_train, y_test = train_test_split(y_new, x, test_size=0.3, random_state=2021)"
   ]
  },
  {
   "cell_type": "code",
   "execution_count": 676,
   "id": "purple-familiar",
   "metadata": {},
   "outputs": [],
   "source": [
    "# x_train"
   ]
  },
  {
   "cell_type": "code",
   "execution_count": 677,
   "id": "considered-secretariat",
   "metadata": {},
   "outputs": [],
   "source": [
    "# scaler = StandardScaler()\n",
    "# x_train = scaler.fit_transform(x_train)\n",
    "\n",
    "# x_test = scaler.transform(x_test)"
   ]
  },
  {
   "cell_type": "code",
   "execution_count": 678,
   "id": "specific-large",
   "metadata": {},
   "outputs": [
    {
     "data": {
      "text/plain": [
       "(4571, 9)"
      ]
     },
     "execution_count": 678,
     "metadata": {},
     "output_type": "execute_result"
    }
   ],
   "source": [
    "y_new.shape"
   ]
  },
  {
   "cell_type": "code",
   "execution_count": 679,
   "id": "rural-damages",
   "metadata": {},
   "outputs": [
    {
     "data": {
      "text/plain": [
       "ad                   int32\n",
       "impressions          int64\n",
       "clicks               int64\n",
       "cost                 int64\n",
       "conversions          int64\n",
       "adgroup_adgroup 1    int64\n",
       "adgroup_adgroup 2    int64\n",
       "adgroup_adgroup 3    int64\n",
       "adgroup_adgroup 4    int64\n",
       "dtype: object"
      ]
     },
     "execution_count": 679,
     "metadata": {},
     "output_type": "execute_result"
    }
   ],
   "source": [
    "y_new.dtypes"
   ]
  },
  {
   "cell_type": "code",
   "execution_count": 680,
   "id": "directed-portland",
   "metadata": {},
   "outputs": [
    {
     "name": "stdout",
     "output_type": "stream",
     "text": [
      "(3656, 9)\n",
      "(915, 9)\n",
      "(3656,)\n",
      "(915,)\n"
     ]
    }
   ],
   "source": [
    "print(x_train.shape)\n",
    "print(x_test.shape)\n",
    "print(y_train.shape)\n",
    "print(y_test.shape)"
   ]
  },
  {
   "cell_type": "code",
   "execution_count": 681,
   "id": "serious-graphics",
   "metadata": {},
   "outputs": [
    {
     "name": "stdout",
     "output_type": "stream",
     "text": [
      "Test RMSE is:  286.09332302787186\n",
      "Test MAE is:  137.54136088119213\n",
      "Test r2_score is:  0.7857788973194677\n"
     ]
    }
   ],
   "source": [
    "linreg = LinearRegression()\n",
    "linreg.fit(x_train, y_train)\n",
    "prediction_linreg = linreg.predict(x_test)\n",
    "\n",
    "\n",
    "\n",
    "#Results\n",
    "# lin_mse = mean_squared_error(y_test, prediction_linreg)\n",
    "# print(\"Test MSE is: \",lin_mse)\n",
    "\n",
    "lin_rmse = mean_squared_error(y_test, prediction_linreg, squared=False)\n",
    "print(\"Test RMSE is: \",lin_rmse)\n",
    "\n",
    "lin_mae = mean_absolute_error(y_test, prediction_linreg)\n",
    "print(\"Test MAE is: \",lin_mae)\n",
    "\n",
    "lin_r2_score = r2_score(y_test, prediction_linreg)\n",
    "print(\"Test r2_score is: \",lin_r2_score)\n",
    "\n"
   ]
  },
  {
   "cell_type": "code",
   "execution_count": 682,
   "id": "stuffed-settlement",
   "metadata": {},
   "outputs": [
    {
     "name": "stdout",
     "output_type": "stream",
     "text": [
      "Test RMSE is:  285.6287384754884\n",
      "Test MAE is:  136.29689789598413\n",
      "Test r2_score is:  0.7864740761240784\n"
     ]
    }
   ],
   "source": [
    "lasso = Lasso()\n",
    "lasso.fit(x_train, y_train)\n",
    "prediction_lasso = lasso.predict(x_test)\n",
    "\n",
    "\n",
    "\n",
    "#Results\n",
    "# lin_mse = mean_squared_error(y_test, prediction_lasso)\n",
    "# print(\"Test MSE is: \",lin_mse)\n",
    "\n",
    "lin_rmse = mean_squared_error(y_test, prediction_lasso, squared=False)\n",
    "print(\"Test RMSE is: \",lin_rmse)\n",
    "\n",
    "lin_mae = mean_absolute_error(y_test, prediction_lasso)\n",
    "print(\"Test MAE is: \",lin_mae)\n",
    "\n",
    "lin_r2_score = r2_score(y_test, prediction_lasso)\n",
    "print(\"Test r2_score is: \",lin_r2_score)\n",
    "\n",
    "# print(\"Test Adjusted_r2_score is: \", 1-(1-lin_r2_score)*(len(y)-1)/(len(y)-x.shape[1]-1))"
   ]
  },
  {
   "cell_type": "code",
   "execution_count": 683,
   "id": "recognized-joshua",
   "metadata": {},
   "outputs": [],
   "source": [
    "# logreg = LogisticRegression(solver = 'lbfgs',max_iter= 2000, random_state = 1  )\n",
    "# logreg.fit(x_train, y_train)\n",
    "# prediction_logreg_test = logreg.predict(x_test)\n",
    "# # prediction_logreg_train = logreg.predict(x_train)\n",
    "\n",
    "# # print(\"Logistic Regression Training Accuracy: \",accuracy_score(y_train, prediction_logreg_train))\n",
    "# print(\"Logistic Regression Testing Accuracy: \",accuracy_score(y_test, prediction_logreg_test))\n",
    "\n",
    "# # END CODE\n"
   ]
  },
  {
   "cell_type": "code",
   "execution_count": null,
   "id": "posted-fishing",
   "metadata": {},
   "outputs": [],
   "source": []
  },
  {
   "cell_type": "code",
   "execution_count": 684,
   "id": "laden-parish",
   "metadata": {},
   "outputs": [
    {
     "name": "stdout",
     "output_type": "stream",
     "text": [
      "Test RMSE is:  212.75574151781967\n",
      "Test MAE is:  78.83551935384209\n",
      "Test r2_score is:  0.8815297284075738\n"
     ]
    }
   ],
   "source": [
    "from sklearn.ensemble import RandomForestRegressor\n",
    "from sklearn.datasets import make_regression\n",
    "\n",
    "regr = RandomForestRegressor(max_depth=5, random_state=3, max_features=4)\n",
    "regr.fit(x_train, y_train)\n",
    "\n",
    "prediction_rand = regr.predict(x_test)\n",
    "\n",
    "#Results\n",
    "# lin_mse = mean_squared_error(y_test, prediction_rand)\n",
    "# print(\"Test MSE is: \",lin_mse)\n",
    "\n",
    "lin_rmse = mean_squared_error(y_test, prediction_rand, squared=False)\n",
    "print(\"Test RMSE is: \",lin_rmse)\n",
    "\n",
    "lin_mae = mean_absolute_error(y_test, prediction_rand)\n",
    "print(\"Test MAE is: \",lin_mae)\n",
    "\n",
    "lin_r2_score = r2_score(y_test, prediction_rand)\n",
    "print(\"Test r2_score is: \",lin_r2_score)"
   ]
  },
  {
   "cell_type": "markdown",
   "id": "amber-thailand",
   "metadata": {},
   "source": [
    "### test"
   ]
  },
  {
   "cell_type": "code",
   "execution_count": null,
   "id": "hydraulic-court",
   "metadata": {},
   "outputs": [],
   "source": []
  },
  {
   "cell_type": "code",
   "execution_count": 685,
   "id": "undefined-botswana",
   "metadata": {},
   "outputs": [
    {
     "data": {
      "text/html": [
       "<div>\n",
       "<style scoped>\n",
       "    .dataframe tbody tr th:only-of-type {\n",
       "        vertical-align: middle;\n",
       "    }\n",
       "\n",
       "    .dataframe tbody tr th {\n",
       "        vertical-align: top;\n",
       "    }\n",
       "\n",
       "    .dataframe thead th {\n",
       "        text-align: right;\n",
       "    }\n",
       "</style>\n",
       "<table border=\"1\" class=\"dataframe\">\n",
       "  <thead>\n",
       "    <tr style=\"text-align: right;\">\n",
       "      <th></th>\n",
       "      <th>date</th>\n",
       "      <th>campaign</th>\n",
       "      <th>adgroup</th>\n",
       "      <th>ad</th>\n",
       "      <th>cost</th>\n",
       "      <th>impressions</th>\n",
       "      <th>clicks</th>\n",
       "      <th>conversions</th>\n",
       "    </tr>\n",
       "  </thead>\n",
       "  <tbody>\n",
       "    <tr>\n",
       "      <th>0</th>\n",
       "      <td>01-03-2021</td>\n",
       "      <td>campaign 1</td>\n",
       "      <td>adgroup 1</td>\n",
       "      <td>ad 1</td>\n",
       "      <td>0.58</td>\n",
       "      <td>121</td>\n",
       "      <td>49</td>\n",
       "      <td>1</td>\n",
       "    </tr>\n",
       "    <tr>\n",
       "      <th>1</th>\n",
       "      <td>01-03-2021</td>\n",
       "      <td>campaign 1</td>\n",
       "      <td>adgroup 3</td>\n",
       "      <td>ad 1</td>\n",
       "      <td>0.17</td>\n",
       "      <td>22</td>\n",
       "      <td>12</td>\n",
       "      <td>0</td>\n",
       "    </tr>\n",
       "    <tr>\n",
       "      <th>2</th>\n",
       "      <td>01-03-2021</td>\n",
       "      <td>campaign 1</td>\n",
       "      <td>adgroup 4</td>\n",
       "      <td>ad 1</td>\n",
       "      <td>0.05</td>\n",
       "      <td>5</td>\n",
       "      <td>3</td>\n",
       "      <td>0</td>\n",
       "    </tr>\n",
       "    <tr>\n",
       "      <th>3</th>\n",
       "      <td>01-03-2021</td>\n",
       "      <td>campaign 1</td>\n",
       "      <td>adgroup 2</td>\n",
       "      <td>ad 1</td>\n",
       "      <td>0.01</td>\n",
       "      <td>2</td>\n",
       "      <td>1</td>\n",
       "      <td>0</td>\n",
       "    </tr>\n",
       "    <tr>\n",
       "      <th>4</th>\n",
       "      <td>01-03-2021</td>\n",
       "      <td>campaign 1</td>\n",
       "      <td>adgroup 2</td>\n",
       "      <td>ad 2</td>\n",
       "      <td>0.01</td>\n",
       "      <td>3</td>\n",
       "      <td>1</td>\n",
       "      <td>0</td>\n",
       "    </tr>\n",
       "  </tbody>\n",
       "</table>\n",
       "</div>"
      ],
      "text/plain": [
       "         date    campaign    adgroup    ad  cost  impressions  clicks  \\\n",
       "0  01-03-2021  campaign 1  adgroup 1  ad 1  0.58          121      49   \n",
       "1  01-03-2021  campaign 1  adgroup 3  ad 1  0.17           22      12   \n",
       "2  01-03-2021  campaign 1  adgroup 4  ad 1  0.05            5       3   \n",
       "3  01-03-2021  campaign 1  adgroup 2  ad 1  0.01            2       1   \n",
       "4  01-03-2021  campaign 1  adgroup 2  ad 2  0.01            3       1   \n",
       "\n",
       "   conversions  \n",
       "0            1  \n",
       "1            0  \n",
       "2            0  \n",
       "3            0  \n",
       "4            0  "
      ]
     },
     "execution_count": 685,
     "metadata": {},
     "output_type": "execute_result"
    }
   ],
   "source": [
    "df_test.head()"
   ]
  },
  {
   "cell_type": "code",
   "execution_count": 686,
   "id": "corporate-installation",
   "metadata": {},
   "outputs": [
    {
     "data": {
      "text/html": [
       "<div>\n",
       "<style scoped>\n",
       "    .dataframe tbody tr th:only-of-type {\n",
       "        vertical-align: middle;\n",
       "    }\n",
       "\n",
       "    .dataframe tbody tr th {\n",
       "        vertical-align: top;\n",
       "    }\n",
       "\n",
       "    .dataframe thead th {\n",
       "        text-align: right;\n",
       "    }\n",
       "</style>\n",
       "<table border=\"1\" class=\"dataframe\">\n",
       "  <thead>\n",
       "    <tr style=\"text-align: right;\">\n",
       "      <th></th>\n",
       "      <th>ad</th>\n",
       "      <th>impressions</th>\n",
       "      <th>clicks</th>\n",
       "      <th>cost</th>\n",
       "      <th>conversions</th>\n",
       "      <th>adgroup_adgroup 1</th>\n",
       "      <th>adgroup_adgroup 2</th>\n",
       "      <th>adgroup_adgroup 3</th>\n",
       "      <th>adgroup_adgroup 4</th>\n",
       "    </tr>\n",
       "  </thead>\n",
       "  <tbody>\n",
       "    <tr>\n",
       "      <th>0</th>\n",
       "      <td>0</td>\n",
       "      <td>23</td>\n",
       "      <td>6</td>\n",
       "      <td>8</td>\n",
       "      <td>0</td>\n",
       "      <td>1</td>\n",
       "      <td>0</td>\n",
       "      <td>0</td>\n",
       "      <td>0</td>\n",
       "    </tr>\n",
       "    <tr>\n",
       "      <th>1</th>\n",
       "      <td>0</td>\n",
       "      <td>0</td>\n",
       "      <td>0</td>\n",
       "      <td>0</td>\n",
       "      <td>0</td>\n",
       "      <td>0</td>\n",
       "      <td>1</td>\n",
       "      <td>0</td>\n",
       "      <td>0</td>\n",
       "    </tr>\n",
       "    <tr>\n",
       "      <th>2</th>\n",
       "      <td>0</td>\n",
       "      <td>12</td>\n",
       "      <td>4</td>\n",
       "      <td>4</td>\n",
       "      <td>0</td>\n",
       "      <td>0</td>\n",
       "      <td>0</td>\n",
       "      <td>1</td>\n",
       "      <td>0</td>\n",
       "    </tr>\n",
       "    <tr>\n",
       "      <th>3</th>\n",
       "      <td>0</td>\n",
       "      <td>4</td>\n",
       "      <td>4</td>\n",
       "      <td>8</td>\n",
       "      <td>0</td>\n",
       "      <td>0</td>\n",
       "      <td>0</td>\n",
       "      <td>0</td>\n",
       "      <td>1</td>\n",
       "    </tr>\n",
       "    <tr>\n",
       "      <th>4</th>\n",
       "      <td>11</td>\n",
       "      <td>243</td>\n",
       "      <td>126</td>\n",
       "      <td>129</td>\n",
       "      <td>4</td>\n",
       "      <td>1</td>\n",
       "      <td>0</td>\n",
       "      <td>0</td>\n",
       "      <td>0</td>\n",
       "    </tr>\n",
       "  </tbody>\n",
       "</table>\n",
       "</div>"
      ],
      "text/plain": [
       "   ad  impressions  clicks  cost  conversions  adgroup_adgroup 1  \\\n",
       "0   0           23       6     8            0                  1   \n",
       "1   0            0       0     0            0                  0   \n",
       "2   0           12       4     4            0                  0   \n",
       "3   0            4       4     8            0                  0   \n",
       "4  11          243     126   129            4                  1   \n",
       "\n",
       "   adgroup_adgroup 2  adgroup_adgroup 3  adgroup_adgroup 4  \n",
       "0                  0                  0                  0  \n",
       "1                  1                  0                  0  \n",
       "2                  0                  1                  0  \n",
       "3                  0                  0                  1  \n",
       "4                  0                  0                  0  "
      ]
     },
     "execution_count": 686,
     "metadata": {},
     "output_type": "execute_result"
    }
   ],
   "source": [
    "y_new.head()"
   ]
  },
  {
   "cell_type": "code",
   "execution_count": 687,
   "id": "common-vintage",
   "metadata": {},
   "outputs": [],
   "source": [
    "df_test = df_test.drop(['date', 'campaign'], axis=1)"
   ]
  },
  {
   "cell_type": "code",
   "execution_count": 688,
   "id": "daily-memorabilia",
   "metadata": {},
   "outputs": [
    {
     "data": {
      "text/html": [
       "<div>\n",
       "<style scoped>\n",
       "    .dataframe tbody tr th:only-of-type {\n",
       "        vertical-align: middle;\n",
       "    }\n",
       "\n",
       "    .dataframe tbody tr th {\n",
       "        vertical-align: top;\n",
       "    }\n",
       "\n",
       "    .dataframe thead th {\n",
       "        text-align: right;\n",
       "    }\n",
       "</style>\n",
       "<table border=\"1\" class=\"dataframe\">\n",
       "  <thead>\n",
       "    <tr style=\"text-align: right;\">\n",
       "      <th></th>\n",
       "      <th>adgroup</th>\n",
       "      <th>ad</th>\n",
       "      <th>cost</th>\n",
       "      <th>impressions</th>\n",
       "      <th>clicks</th>\n",
       "      <th>conversions</th>\n",
       "    </tr>\n",
       "  </thead>\n",
       "  <tbody>\n",
       "    <tr>\n",
       "      <th>0</th>\n",
       "      <td>adgroup 1</td>\n",
       "      <td>ad 1</td>\n",
       "      <td>0.58</td>\n",
       "      <td>121</td>\n",
       "      <td>49</td>\n",
       "      <td>1</td>\n",
       "    </tr>\n",
       "    <tr>\n",
       "      <th>1</th>\n",
       "      <td>adgroup 3</td>\n",
       "      <td>ad 1</td>\n",
       "      <td>0.17</td>\n",
       "      <td>22</td>\n",
       "      <td>12</td>\n",
       "      <td>0</td>\n",
       "    </tr>\n",
       "    <tr>\n",
       "      <th>2</th>\n",
       "      <td>adgroup 4</td>\n",
       "      <td>ad 1</td>\n",
       "      <td>0.05</td>\n",
       "      <td>5</td>\n",
       "      <td>3</td>\n",
       "      <td>0</td>\n",
       "    </tr>\n",
       "    <tr>\n",
       "      <th>3</th>\n",
       "      <td>adgroup 2</td>\n",
       "      <td>ad 1</td>\n",
       "      <td>0.01</td>\n",
       "      <td>2</td>\n",
       "      <td>1</td>\n",
       "      <td>0</td>\n",
       "    </tr>\n",
       "    <tr>\n",
       "      <th>4</th>\n",
       "      <td>adgroup 2</td>\n",
       "      <td>ad 2</td>\n",
       "      <td>0.01</td>\n",
       "      <td>3</td>\n",
       "      <td>1</td>\n",
       "      <td>0</td>\n",
       "    </tr>\n",
       "  </tbody>\n",
       "</table>\n",
       "</div>"
      ],
      "text/plain": [
       "     adgroup    ad  cost  impressions  clicks  conversions\n",
       "0  adgroup 1  ad 1  0.58          121      49            1\n",
       "1  adgroup 3  ad 1  0.17           22      12            0\n",
       "2  adgroup 4  ad 1  0.05            5       3            0\n",
       "3  adgroup 2  ad 1  0.01            2       1            0\n",
       "4  adgroup 2  ad 2  0.01            3       1            0"
      ]
     },
     "execution_count": 688,
     "metadata": {},
     "output_type": "execute_result"
    }
   ],
   "source": [
    "df_test.head()"
   ]
  },
  {
   "cell_type": "code",
   "execution_count": 689,
   "id": "cloudy-fetish",
   "metadata": {},
   "outputs": [],
   "source": [
    "# df_test['ctr']= df_test.clicks/df_test.impressions\n",
    "# df_test['cpc']= df_test.cost/df_test.clicks\n",
    "# df_test.head()"
   ]
  },
  {
   "cell_type": "code",
   "execution_count": 690,
   "id": "social-ridge",
   "metadata": {},
   "outputs": [
    {
     "data": {
      "text/plain": [
       "Index(['ad', 'impressions', 'clicks', 'cost', 'conversions',\n",
       "       'adgroup_adgroup 1', 'adgroup_adgroup 2', 'adgroup_adgroup 3',\n",
       "       'adgroup_adgroup 4'],\n",
       "      dtype='object')"
      ]
     },
     "execution_count": 690,
     "metadata": {},
     "output_type": "execute_result"
    }
   ],
   "source": [
    "y_new.columns"
   ]
  },
  {
   "cell_type": "code",
   "execution_count": 691,
   "id": "linear-wisdom",
   "metadata": {},
   "outputs": [],
   "source": [
    "df_test = df_test[['adgroup', 'ad', 'impressions', 'clicks', 'cost', 'conversions']]"
   ]
  },
  {
   "cell_type": "code",
   "execution_count": 692,
   "id": "renewable-carrier",
   "metadata": {},
   "outputs": [
    {
     "data": {
      "text/html": [
       "<div>\n",
       "<style scoped>\n",
       "    .dataframe tbody tr th:only-of-type {\n",
       "        vertical-align: middle;\n",
       "    }\n",
       "\n",
       "    .dataframe tbody tr th {\n",
       "        vertical-align: top;\n",
       "    }\n",
       "\n",
       "    .dataframe thead th {\n",
       "        text-align: right;\n",
       "    }\n",
       "</style>\n",
       "<table border=\"1\" class=\"dataframe\">\n",
       "  <thead>\n",
       "    <tr style=\"text-align: right;\">\n",
       "      <th></th>\n",
       "      <th>adgroup</th>\n",
       "      <th>ad</th>\n",
       "      <th>impressions</th>\n",
       "      <th>clicks</th>\n",
       "      <th>cost</th>\n",
       "      <th>conversions</th>\n",
       "    </tr>\n",
       "  </thead>\n",
       "  <tbody>\n",
       "    <tr>\n",
       "      <th>0</th>\n",
       "      <td>adgroup 1</td>\n",
       "      <td>ad 1</td>\n",
       "      <td>121</td>\n",
       "      <td>49</td>\n",
       "      <td>0.58</td>\n",
       "      <td>1</td>\n",
       "    </tr>\n",
       "    <tr>\n",
       "      <th>1</th>\n",
       "      <td>adgroup 3</td>\n",
       "      <td>ad 1</td>\n",
       "      <td>22</td>\n",
       "      <td>12</td>\n",
       "      <td>0.17</td>\n",
       "      <td>0</td>\n",
       "    </tr>\n",
       "    <tr>\n",
       "      <th>2</th>\n",
       "      <td>adgroup 4</td>\n",
       "      <td>ad 1</td>\n",
       "      <td>5</td>\n",
       "      <td>3</td>\n",
       "      <td>0.05</td>\n",
       "      <td>0</td>\n",
       "    </tr>\n",
       "    <tr>\n",
       "      <th>3</th>\n",
       "      <td>adgroup 2</td>\n",
       "      <td>ad 1</td>\n",
       "      <td>2</td>\n",
       "      <td>1</td>\n",
       "      <td>0.01</td>\n",
       "      <td>0</td>\n",
       "    </tr>\n",
       "    <tr>\n",
       "      <th>4</th>\n",
       "      <td>adgroup 2</td>\n",
       "      <td>ad 2</td>\n",
       "      <td>3</td>\n",
       "      <td>1</td>\n",
       "      <td>0.01</td>\n",
       "      <td>0</td>\n",
       "    </tr>\n",
       "  </tbody>\n",
       "</table>\n",
       "</div>"
      ],
      "text/plain": [
       "     adgroup    ad  impressions  clicks  cost  conversions\n",
       "0  adgroup 1  ad 1          121      49  0.58            1\n",
       "1  adgroup 3  ad 1           22      12  0.17            0\n",
       "2  adgroup 4  ad 1            5       3  0.05            0\n",
       "3  adgroup 2  ad 1            2       1  0.01            0\n",
       "4  adgroup 2  ad 2            3       1  0.01            0"
      ]
     },
     "execution_count": 692,
     "metadata": {},
     "output_type": "execute_result"
    }
   ],
   "source": [
    "df_test.head()"
   ]
  },
  {
   "cell_type": "code",
   "execution_count": 693,
   "id": "threaded-equilibrium",
   "metadata": {},
   "outputs": [],
   "source": [
    "# df_test.isnull().sum()"
   ]
  },
  {
   "cell_type": "code",
   "execution_count": 694,
   "id": "following-airfare",
   "metadata": {},
   "outputs": [],
   "source": [
    "df_test = df_test.fillna(0)"
   ]
  },
  {
   "cell_type": "code",
   "execution_count": 695,
   "id": "average-edward",
   "metadata": {},
   "outputs": [
    {
     "name": "stdout",
     "output_type": "stream",
     "text": [
      "(318, 9)\n"
     ]
    },
    {
     "data": {
      "text/html": [
       "<div>\n",
       "<style scoped>\n",
       "    .dataframe tbody tr th:only-of-type {\n",
       "        vertical-align: middle;\n",
       "    }\n",
       "\n",
       "    .dataframe tbody tr th {\n",
       "        vertical-align: top;\n",
       "    }\n",
       "\n",
       "    .dataframe thead th {\n",
       "        text-align: right;\n",
       "    }\n",
       "</style>\n",
       "<table border=\"1\" class=\"dataframe\">\n",
       "  <thead>\n",
       "    <tr style=\"text-align: right;\">\n",
       "      <th></th>\n",
       "      <th>ad</th>\n",
       "      <th>impressions</th>\n",
       "      <th>clicks</th>\n",
       "      <th>cost</th>\n",
       "      <th>conversions</th>\n",
       "      <th>adgroup_adgroup 1</th>\n",
       "      <th>adgroup_adgroup 2</th>\n",
       "      <th>adgroup_adgroup 3</th>\n",
       "      <th>adgroup_adgroup 4</th>\n",
       "    </tr>\n",
       "  </thead>\n",
       "  <tbody>\n",
       "    <tr>\n",
       "      <th>0</th>\n",
       "      <td>ad 1</td>\n",
       "      <td>121</td>\n",
       "      <td>49</td>\n",
       "      <td>0.58</td>\n",
       "      <td>1</td>\n",
       "      <td>1</td>\n",
       "      <td>0</td>\n",
       "      <td>0</td>\n",
       "      <td>0</td>\n",
       "    </tr>\n",
       "    <tr>\n",
       "      <th>1</th>\n",
       "      <td>ad 1</td>\n",
       "      <td>22</td>\n",
       "      <td>12</td>\n",
       "      <td>0.17</td>\n",
       "      <td>0</td>\n",
       "      <td>0</td>\n",
       "      <td>0</td>\n",
       "      <td>1</td>\n",
       "      <td>0</td>\n",
       "    </tr>\n",
       "  </tbody>\n",
       "</table>\n",
       "</div>"
      ],
      "text/plain": [
       "     ad  impressions  clicks  cost  conversions  adgroup_adgroup 1  \\\n",
       "0  ad 1          121      49  0.58            1                  1   \n",
       "1  ad 1           22      12  0.17            0                  0   \n",
       "\n",
       "   adgroup_adgroup 2  adgroup_adgroup 3  adgroup_adgroup 4  \n",
       "0                  0                  0                  0  \n",
       "1                  0                  1                  0  "
      ]
     },
     "execution_count": 695,
     "metadata": {},
     "output_type": "execute_result"
    }
   ],
   "source": [
    "df_test = pd.get_dummies(df_test, columns=['adgroup'])\n",
    "print(df_test.shape)\n",
    "df_test.head(2)\n"
   ]
  },
  {
   "cell_type": "code",
   "execution_count": 696,
   "id": "linear-money",
   "metadata": {},
   "outputs": [],
   "source": [
    "df_test= df_test.apply(LabelEncoder().fit_transform, )"
   ]
  },
  {
   "cell_type": "code",
   "execution_count": 697,
   "id": "olive-polish",
   "metadata": {},
   "outputs": [
    {
     "data": {
      "text/html": [
       "<div>\n",
       "<style scoped>\n",
       "    .dataframe tbody tr th:only-of-type {\n",
       "        vertical-align: middle;\n",
       "    }\n",
       "\n",
       "    .dataframe tbody tr th {\n",
       "        vertical-align: top;\n",
       "    }\n",
       "\n",
       "    .dataframe thead th {\n",
       "        text-align: right;\n",
       "    }\n",
       "</style>\n",
       "<table border=\"1\" class=\"dataframe\">\n",
       "  <thead>\n",
       "    <tr style=\"text-align: right;\">\n",
       "      <th></th>\n",
       "      <th>ad</th>\n",
       "      <th>impressions</th>\n",
       "      <th>clicks</th>\n",
       "      <th>cost</th>\n",
       "      <th>conversions</th>\n",
       "      <th>adgroup_adgroup 1</th>\n",
       "      <th>adgroup_adgroup 2</th>\n",
       "      <th>adgroup_adgroup 3</th>\n",
       "      <th>adgroup_adgroup 4</th>\n",
       "    </tr>\n",
       "  </thead>\n",
       "  <tbody>\n",
       "    <tr>\n",
       "      <th>0</th>\n",
       "      <td>0</td>\n",
       "      <td>66</td>\n",
       "      <td>38</td>\n",
       "      <td>47</td>\n",
       "      <td>1</td>\n",
       "      <td>1</td>\n",
       "      <td>0</td>\n",
       "      <td>0</td>\n",
       "      <td>0</td>\n",
       "    </tr>\n",
       "    <tr>\n",
       "      <th>1</th>\n",
       "      <td>0</td>\n",
       "      <td>20</td>\n",
       "      <td>12</td>\n",
       "      <td>17</td>\n",
       "      <td>0</td>\n",
       "      <td>0</td>\n",
       "      <td>0</td>\n",
       "      <td>1</td>\n",
       "      <td>0</td>\n",
       "    </tr>\n",
       "    <tr>\n",
       "      <th>2</th>\n",
       "      <td>0</td>\n",
       "      <td>4</td>\n",
       "      <td>3</td>\n",
       "      <td>5</td>\n",
       "      <td>0</td>\n",
       "      <td>0</td>\n",
       "      <td>0</td>\n",
       "      <td>0</td>\n",
       "      <td>1</td>\n",
       "    </tr>\n",
       "    <tr>\n",
       "      <th>3</th>\n",
       "      <td>0</td>\n",
       "      <td>1</td>\n",
       "      <td>1</td>\n",
       "      <td>1</td>\n",
       "      <td>0</td>\n",
       "      <td>0</td>\n",
       "      <td>1</td>\n",
       "      <td>0</td>\n",
       "      <td>0</td>\n",
       "    </tr>\n",
       "    <tr>\n",
       "      <th>4</th>\n",
       "      <td>2</td>\n",
       "      <td>2</td>\n",
       "      <td>1</td>\n",
       "      <td>1</td>\n",
       "      <td>0</td>\n",
       "      <td>0</td>\n",
       "      <td>1</td>\n",
       "      <td>0</td>\n",
       "      <td>0</td>\n",
       "    </tr>\n",
       "  </tbody>\n",
       "</table>\n",
       "</div>"
      ],
      "text/plain": [
       "   ad  impressions  clicks  cost  conversions  adgroup_adgroup 1  \\\n",
       "0   0           66      38    47            1                  1   \n",
       "1   0           20      12    17            0                  0   \n",
       "2   0            4       3     5            0                  0   \n",
       "3   0            1       1     1            0                  0   \n",
       "4   2            2       1     1            0                  0   \n",
       "\n",
       "   adgroup_adgroup 2  adgroup_adgroup 3  adgroup_adgroup 4  \n",
       "0                  0                  0                  0  \n",
       "1                  0                  1                  0  \n",
       "2                  0                  0                  1  \n",
       "3                  1                  0                  0  \n",
       "4                  1                  0                  0  "
      ]
     },
     "execution_count": 697,
     "metadata": {},
     "output_type": "execute_result"
    }
   ],
   "source": [
    "df_test.head()"
   ]
  },
  {
   "cell_type": "code",
   "execution_count": 698,
   "id": "commercial-lender",
   "metadata": {},
   "outputs": [],
   "source": [
    "scaler = StandardScaler()\n",
    "test_data = scaler.fit_transform(df_test)\n",
    "\n",
    "# x_test = scaler.transform(x_test)"
   ]
  },
  {
   "cell_type": "code",
   "execution_count": 699,
   "id": "organized-tribune",
   "metadata": {},
   "outputs": [],
   "source": [
    "# df_test.describe()"
   ]
  },
  {
   "cell_type": "code",
   "execution_count": 700,
   "id": "amended-closer",
   "metadata": {},
   "outputs": [
    {
     "data": {
      "text/plain": [
       "(318, 9)"
      ]
     },
     "execution_count": 700,
     "metadata": {},
     "output_type": "execute_result"
    }
   ],
   "source": [
    "df_test.shape"
   ]
  },
  {
   "cell_type": "code",
   "execution_count": 701,
   "id": "arranged-jenny",
   "metadata": {},
   "outputs": [],
   "source": [
    "# min_max = MinMaxScaler()\n",
    "# scaled_df_test = min_max.fit_transform(df_test)\n",
    "# scaled_df_test = pd.DataFrame(scaled_df_test, columns = df_test.columns)\n",
    "# scaled_df_test.head()"
   ]
  },
  {
   "cell_type": "code",
   "execution_count": 702,
   "id": "jewish-oregon",
   "metadata": {},
   "outputs": [],
   "source": [
    "# scaled_df_test.shape"
   ]
  },
  {
   "cell_type": "code",
   "execution_count": 732,
   "id": "assisted-franchise",
   "metadata": {},
   "outputs": [],
   "source": [
    "x_train, x_test, y_train, y_test = train_test_split(y_new, x, test_size=0.15, random_state=2021)"
   ]
  },
  {
   "cell_type": "code",
   "execution_count": 733,
   "id": "powerful-drill",
   "metadata": {},
   "outputs": [],
   "source": [
    "# test_data"
   ]
  },
  {
   "cell_type": "code",
   "execution_count": 734,
   "id": "related-favorite",
   "metadata": {},
   "outputs": [
    {
     "name": "stdout",
     "output_type": "stream",
     "text": [
      "Test RMSE is:  162.52536731580358\n",
      "Test MAE is:  55.192905943117516\n",
      "Test r2_score is:  0.9401832410857525\n"
     ]
    }
   ],
   "source": [
    "from sklearn.ensemble import RandomForestRegressor\n",
    "from sklearn.datasets import make_regression\n",
    "\n",
    "regr = RandomForestRegressor(max_depth=7, random_state=5, max_features=9)\n",
    "regr.fit(x_train, y_train)\n",
    "\n",
    "prediction_rand = regr.predict(x_test)\n",
    "\n",
    "#Results\n",
    "# lin_mse = mean_squared_error(y_test, prediction_rand)\n",
    "# print(\"Test MSE is: \",lin_mse)\n",
    "\n",
    "lin_rmse = mean_squared_error(y_test, prediction_rand, squared=False)\n",
    "print(\"Test RMSE is: \",lin_rmse)\n",
    "\n",
    "lin_mae = mean_absolute_error(y_test, prediction_rand)\n",
    "print(\"Test MAE is: \",lin_mae)\n",
    "\n",
    "lin_r2_score = r2_score(y_test, prediction_rand)\n",
    "print(\"Test r2_score is: \",lin_r2_score)"
   ]
  },
  {
   "cell_type": "code",
   "execution_count": 735,
   "id": "activated-reset",
   "metadata": {},
   "outputs": [],
   "source": [
    "prediction_test = regr.predict(test_data)"
   ]
  },
  {
   "cell_type": "code",
   "execution_count": 736,
   "id": "parental-theater",
   "metadata": {},
   "outputs": [],
   "source": [
    "# prediction_test"
   ]
  },
  {
   "cell_type": "code",
   "execution_count": 737,
   "id": "fewer-assurance",
   "metadata": {},
   "outputs": [],
   "source": [
    "prediction_tes = pd.DataFrame(data = prediction_test, columns = ['revenue'])"
   ]
  },
  {
   "cell_type": "code",
   "execution_count": 738,
   "id": "hungry-porcelain",
   "metadata": {},
   "outputs": [
    {
     "data": {
      "text/html": [
       "<div>\n",
       "<style scoped>\n",
       "    .dataframe tbody tr th:only-of-type {\n",
       "        vertical-align: middle;\n",
       "    }\n",
       "\n",
       "    .dataframe tbody tr th {\n",
       "        vertical-align: top;\n",
       "    }\n",
       "\n",
       "    .dataframe thead th {\n",
       "        text-align: right;\n",
       "    }\n",
       "</style>\n",
       "<table border=\"1\" class=\"dataframe\">\n",
       "  <thead>\n",
       "    <tr style=\"text-align: right;\">\n",
       "      <th></th>\n",
       "      <th>revenue</th>\n",
       "    </tr>\n",
       "  </thead>\n",
       "  <tbody>\n",
       "    <tr>\n",
       "      <th>0</th>\n",
       "      <td>0.0</td>\n",
       "    </tr>\n",
       "    <tr>\n",
       "      <th>1</th>\n",
       "      <td>0.0</td>\n",
       "    </tr>\n",
       "    <tr>\n",
       "      <th>2</th>\n",
       "      <td>0.0</td>\n",
       "    </tr>\n",
       "    <tr>\n",
       "      <th>3</th>\n",
       "      <td>0.0</td>\n",
       "    </tr>\n",
       "    <tr>\n",
       "      <th>4</th>\n",
       "      <td>0.0</td>\n",
       "    </tr>\n",
       "    <tr>\n",
       "      <th>...</th>\n",
       "      <td>...</td>\n",
       "    </tr>\n",
       "    <tr>\n",
       "      <th>313</th>\n",
       "      <td>0.0</td>\n",
       "    </tr>\n",
       "    <tr>\n",
       "      <th>314</th>\n",
       "      <td>0.0</td>\n",
       "    </tr>\n",
       "    <tr>\n",
       "      <th>315</th>\n",
       "      <td>0.0</td>\n",
       "    </tr>\n",
       "    <tr>\n",
       "      <th>316</th>\n",
       "      <td>0.0</td>\n",
       "    </tr>\n",
       "    <tr>\n",
       "      <th>317</th>\n",
       "      <td>0.0</td>\n",
       "    </tr>\n",
       "  </tbody>\n",
       "</table>\n",
       "<p>318 rows × 1 columns</p>\n",
       "</div>"
      ],
      "text/plain": [
       "     revenue\n",
       "0        0.0\n",
       "1        0.0\n",
       "2        0.0\n",
       "3        0.0\n",
       "4        0.0\n",
       "..       ...\n",
       "313      0.0\n",
       "314      0.0\n",
       "315      0.0\n",
       "316      0.0\n",
       "317      0.0\n",
       "\n",
       "[318 rows x 1 columns]"
      ]
     },
     "execution_count": 738,
     "metadata": {},
     "output_type": "execute_result"
    }
   ],
   "source": [
    "prediction_tes"
   ]
  },
  {
   "cell_type": "code",
   "execution_count": 739,
   "id": "painful-potato",
   "metadata": {},
   "outputs": [],
   "source": [
    "prediction_tes[prediction_tes < 0] = 0"
   ]
  },
  {
   "cell_type": "code",
   "execution_count": 740,
   "id": "third-latvia",
   "metadata": {},
   "outputs": [
    {
     "data": {
      "text/html": [
       "<div>\n",
       "<style scoped>\n",
       "    .dataframe tbody tr th:only-of-type {\n",
       "        vertical-align: middle;\n",
       "    }\n",
       "\n",
       "    .dataframe tbody tr th {\n",
       "        vertical-align: top;\n",
       "    }\n",
       "\n",
       "    .dataframe thead th {\n",
       "        text-align: right;\n",
       "    }\n",
       "</style>\n",
       "<table border=\"1\" class=\"dataframe\">\n",
       "  <thead>\n",
       "    <tr style=\"text-align: right;\">\n",
       "      <th></th>\n",
       "      <th>revenue</th>\n",
       "    </tr>\n",
       "  </thead>\n",
       "  <tbody>\n",
       "    <tr>\n",
       "      <th>0</th>\n",
       "      <td>0.0</td>\n",
       "    </tr>\n",
       "    <tr>\n",
       "      <th>1</th>\n",
       "      <td>0.0</td>\n",
       "    </tr>\n",
       "    <tr>\n",
       "      <th>2</th>\n",
       "      <td>0.0</td>\n",
       "    </tr>\n",
       "    <tr>\n",
       "      <th>3</th>\n",
       "      <td>0.0</td>\n",
       "    </tr>\n",
       "    <tr>\n",
       "      <th>4</th>\n",
       "      <td>0.0</td>\n",
       "    </tr>\n",
       "  </tbody>\n",
       "</table>\n",
       "</div>"
      ],
      "text/plain": [
       "   revenue\n",
       "0      0.0\n",
       "1      0.0\n",
       "2      0.0\n",
       "3      0.0\n",
       "4      0.0"
      ]
     },
     "execution_count": 740,
     "metadata": {},
     "output_type": "execute_result"
    }
   ],
   "source": [
    "prediction_tes.head()"
   ]
  },
  {
   "cell_type": "code",
   "execution_count": 742,
   "id": "dense-sarah",
   "metadata": {},
   "outputs": [],
   "source": [
    "prediction_tes.to_csv('submission7.csv', index=False)"
   ]
  },
  {
   "cell_type": "code",
   "execution_count": 741,
   "id": "leading-theology",
   "metadata": {},
   "outputs": [],
   "source": [
    "# submission 6.submission 5,submission 4 is best"
   ]
  },
  {
   "cell_type": "code",
   "execution_count": 743,
   "id": "bacterial-drilling",
   "metadata": {},
   "outputs": [
    {
     "data": {
      "text/plain": [
       "revenue    1187.516779\n",
       "dtype: float64"
      ]
     },
     "execution_count": 743,
     "metadata": {},
     "output_type": "execute_result"
    }
   ],
   "source": [
    "prediction_tes.max()"
   ]
  },
  {
   "cell_type": "code",
   "execution_count": null,
   "id": "wrong-japanese",
   "metadata": {},
   "outputs": [],
   "source": []
  }
 ],
 "metadata": {
  "kernelspec": {
   "display_name": "Python 3",
   "language": "python",
   "name": "python3"
  },
  "language_info": {
   "codemirror_mode": {
    "name": "ipython",
    "version": 3
   },
   "file_extension": ".py",
   "mimetype": "text/x-python",
   "name": "python",
   "nbconvert_exporter": "python",
   "pygments_lexer": "ipython3",
   "version": "3.9.2"
  }
 },
 "nbformat": 4,
 "nbformat_minor": 5
}
